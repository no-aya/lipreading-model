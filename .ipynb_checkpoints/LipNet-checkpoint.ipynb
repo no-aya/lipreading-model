{
 "cells": [
  {
   "cell_type": "markdown",
   "metadata": {},
   "source": [
    "# Lip reading model"
   ]
  },
  {
   "cell_type": "markdown",
   "metadata": {},
   "source": [
    "## 0. Installing and importing dependencies"
   ]
  },
  {
   "cell_type": "code",
   "execution_count": 1,
   "metadata": {
    "ExecuteTime": {
     "end_time": "2023-08-12T17:50:10.662046100Z",
     "start_time": "2023-08-12T17:50:04.298710500Z"
    }
   },
   "outputs": [
    {
     "name": "stdout",
     "output_type": "stream",
     "text": [
      "Requirement already satisfied: opencv-python in c:\\users\\aitay\\anaconda3\\lib\\site-packages (4.8.0.76)\n",
      "Requirement already satisfied: matplotlib in c:\\users\\aitay\\anaconda3\\lib\\site-packages (3.7.2)\n",
      "Requirement already satisfied: imageio in c:\\users\\aitay\\anaconda3\\lib\\site-packages (2.31.1)\n",
      "Requirement already satisfied: gdown in c:\\users\\aitay\\anaconda3\\lib\\site-packages (4.7.1)\n",
      "Requirement already satisfied: tensorflow in c:\\users\\aitay\\anaconda3\\lib\\site-packages (2.8.0)\n",
      "Requirement already satisfied: numpy>=1.17.3 in c:\\users\\aitay\\anaconda3\\lib\\site-packages (from opencv-python) (1.23.5)\n",
      "Requirement already satisfied: kiwisolver>=1.0.1 in c:\\users\\aitay\\anaconda3\\lib\\site-packages (from matplotlib) (1.4.4)\n",
      "Requirement already satisfied: packaging>=20.0 in c:\\users\\aitay\\anaconda3\\lib\\site-packages (from matplotlib) (22.0)\n",
      "Requirement already satisfied: cycler>=0.10 in c:\\users\\aitay\\anaconda3\\lib\\site-packages (from matplotlib) (0.11.0)\n",
      "Requirement already satisfied: fonttools>=4.22.0 in c:\\users\\aitay\\anaconda3\\lib\\site-packages (from matplotlib) (4.25.0)\n",
      "Requirement already satisfied: pyparsing<3.1,>=2.3.1 in c:\\users\\aitay\\anaconda3\\lib\\site-packages (from matplotlib) (3.0.9)\n",
      "Requirement already satisfied: python-dateutil>=2.7 in c:\\users\\aitay\\anaconda3\\lib\\site-packages (from matplotlib) (2.8.2)\n",
      "Requirement already satisfied: contourpy>=1.0.1 in c:\\users\\aitay\\anaconda3\\lib\\site-packages (from matplotlib) (1.0.5)\n",
      "Requirement already satisfied: pillow>=6.2.0 in c:\\users\\aitay\\anaconda3\\lib\\site-packages (from matplotlib) (9.4.0)\n",
      "Requirement already satisfied: filelock in c:\\users\\aitay\\anaconda3\\lib\\site-packages (from gdown) (3.9.0)\n",
      "Requirement already satisfied: beautifulsoup4 in c:\\users\\aitay\\anaconda3\\lib\\site-packages (from gdown) (4.11.1)\n",
      "Requirement already satisfied: six in c:\\users\\aitay\\anaconda3\\lib\\site-packages (from gdown) (1.16.0)\n",
      "Requirement already satisfied: requests[socks] in c:\\users\\aitay\\anaconda3\\lib\\site-packages (from gdown) (2.28.1)\n",
      "Requirement already satisfied: tqdm in c:\\users\\aitay\\anaconda3\\lib\\site-packages (from gdown) (4.64.1)\n",
      "Requirement already satisfied: typing-extensions>=3.6.6 in c:\\users\\aitay\\anaconda3\\lib\\site-packages (from tensorflow) (4.4.0)\n",
      "Requirement already satisfied: opt-einsum>=2.3.2 in c:\\users\\aitay\\anaconda3\\lib\\site-packages (from tensorflow) (3.3.0)\n",
      "Requirement already satisfied: tensorboard<2.9,>=2.8 in c:\\users\\aitay\\anaconda3\\lib\\site-packages (from tensorflow) (2.8.0)\n",
      "Requirement already satisfied: google-pasta>=0.1.1 in c:\\users\\aitay\\anaconda3\\lib\\site-packages (from tensorflow) (0.2.0)\n",
      "Requirement already satisfied: absl-py>=0.4.0 in c:\\users\\aitay\\anaconda3\\lib\\site-packages (from tensorflow) (1.4.0)\n",
      "Requirement already satisfied: keras<2.9,>=2.8.0rc0 in c:\\users\\aitay\\anaconda3\\lib\\site-packages (from tensorflow) (2.8.0)\n",
      "Requirement already satisfied: protobuf>=3.9.2 in c:\\users\\aitay\\anaconda3\\lib\\site-packages (from tensorflow) (4.24.0)\n",
      "Requirement already satisfied: gast>=0.2.1 in c:\\users\\aitay\\anaconda3\\lib\\site-packages (from tensorflow) (0.4.0)\n",
      "Requirement already satisfied: h5py>=2.9.0 in c:\\users\\aitay\\anaconda3\\lib\\site-packages (from tensorflow) (3.7.0)\n",
      "Requirement already satisfied: wrapt>=1.11.0 in c:\\users\\aitay\\anaconda3\\lib\\site-packages (from tensorflow) (1.14.1)\n",
      "Requirement already satisfied: termcolor>=1.1.0 in c:\\users\\aitay\\anaconda3\\lib\\site-packages (from tensorflow) (2.3.0)\n",
      "Requirement already satisfied: keras-preprocessing>=1.1.1 in c:\\users\\aitay\\anaconda3\\lib\\site-packages (from tensorflow) (1.1.2)\n",
      "Requirement already satisfied: tensorflow-io-gcs-filesystem>=0.23.1 in c:\\users\\aitay\\anaconda3\\lib\\site-packages (from tensorflow) (0.31.0)\n",
      "Requirement already satisfied: tf-estimator-nightly==2.8.0.dev2021122109 in c:\\users\\aitay\\anaconda3\\lib\\site-packages (from tensorflow) (2.8.0.dev2021122109)\n",
      "Requirement already satisfied: grpcio<2.0,>=1.24.3 in c:\\users\\aitay\\anaconda3\\lib\\site-packages (from tensorflow) (1.56.2)\n",
      "Requirement already satisfied: flatbuffers>=1.12 in c:\\users\\aitay\\anaconda3\\lib\\site-packages (from tensorflow) (23.5.26)\n",
      "Requirement already satisfied: setuptools in c:\\users\\aitay\\anaconda3\\lib\\site-packages (from tensorflow) (65.6.3)\n",
      "Requirement already satisfied: libclang>=9.0.1 in c:\\users\\aitay\\anaconda3\\lib\\site-packages (from tensorflow) (16.0.6)\n",
      "Requirement already satisfied: astunparse>=1.6.0 in c:\\users\\aitay\\anaconda3\\lib\\site-packages (from tensorflow) (1.6.3)\n",
      "Requirement already satisfied: wheel<1.0,>=0.23.0 in c:\\users\\aitay\\anaconda3\\lib\\site-packages (from astunparse>=1.6.0->tensorflow) (0.38.4)\n",
      "Requirement already satisfied: google-auth<3,>=1.6.3 in c:\\users\\aitay\\anaconda3\\lib\\site-packages (from tensorboard<2.9,>=2.8->tensorflow) (2.22.0)\n",
      "Requirement already satisfied: werkzeug>=0.11.15 in c:\\users\\aitay\\anaconda3\\lib\\site-packages (from tensorboard<2.9,>=2.8->tensorflow) (2.2.2)\n",
      "Requirement already satisfied: tensorboard-plugin-wit>=1.6.0 in c:\\users\\aitay\\anaconda3\\lib\\site-packages (from tensorboard<2.9,>=2.8->tensorflow) (1.8.1)\n",
      "Requirement already satisfied: markdown>=2.6.8 in c:\\users\\aitay\\anaconda3\\lib\\site-packages (from tensorboard<2.9,>=2.8->tensorflow) (3.4.1)\n",
      "Requirement already satisfied: tensorboard-data-server<0.7.0,>=0.6.0 in c:\\users\\aitay\\anaconda3\\lib\\site-packages (from tensorboard<2.9,>=2.8->tensorflow) (0.6.1)\n",
      "Requirement already satisfied: google-auth-oauthlib<0.5,>=0.4.1 in c:\\users\\aitay\\anaconda3\\lib\\site-packages (from tensorboard<2.9,>=2.8->tensorflow) (0.4.6)\n",
      "Requirement already satisfied: soupsieve>1.2 in c:\\users\\aitay\\anaconda3\\lib\\site-packages (from beautifulsoup4->gdown) (2.3.2.post1)\n",
      "Requirement already satisfied: urllib3<1.27,>=1.21.1 in c:\\users\\aitay\\anaconda3\\lib\\site-packages (from requests[socks]->gdown) (1.26.14)\n",
      "Requirement already satisfied: certifi>=2017.4.17 in c:\\users\\aitay\\anaconda3\\lib\\site-packages (from requests[socks]->gdown) (2023.5.7)\n",
      "Requirement already satisfied: idna<4,>=2.5 in c:\\users\\aitay\\anaconda3\\lib\\site-packages (from requests[socks]->gdown) (3.4)\n",
      "Requirement already satisfied: charset-normalizer<3,>=2 in c:\\users\\aitay\\anaconda3\\lib\\site-packages (from requests[socks]->gdown) (2.0.4)\n",
      "Requirement already satisfied: PySocks!=1.5.7,>=1.5.6 in c:\\users\\aitay\\anaconda3\\lib\\site-packages (from requests[socks]->gdown) (1.7.1)\n",
      "Requirement already satisfied: colorama in c:\\users\\aitay\\anaconda3\\lib\\site-packages (from tqdm->gdown) (0.4.6)\n",
      "Requirement already satisfied: pyasn1-modules>=0.2.1 in c:\\users\\aitay\\anaconda3\\lib\\site-packages (from google-auth<3,>=1.6.3->tensorboard<2.9,>=2.8->tensorflow) (0.2.8)\n",
      "Requirement already satisfied: rsa<5,>=3.1.4 in c:\\users\\aitay\\anaconda3\\lib\\site-packages (from google-auth<3,>=1.6.3->tensorboard<2.9,>=2.8->tensorflow) (4.9)\n",
      "Requirement already satisfied: cachetools<6.0,>=2.0.0 in c:\\users\\aitay\\anaconda3\\lib\\site-packages (from google-auth<3,>=1.6.3->tensorboard<2.9,>=2.8->tensorflow) (5.3.1)\n",
      "Requirement already satisfied: requests-oauthlib>=0.7.0 in c:\\users\\aitay\\anaconda3\\lib\\site-packages (from google-auth-oauthlib<0.5,>=0.4.1->tensorboard<2.9,>=2.8->tensorflow) (1.3.1)\n",
      "Requirement already satisfied: MarkupSafe>=2.1.1 in c:\\users\\aitay\\anaconda3\\lib\\site-packages (from werkzeug>=0.11.15->tensorboard<2.9,>=2.8->tensorflow) (2.1.1)\n",
      "Requirement already satisfied: pyasn1<0.5.0,>=0.4.6 in c:\\users\\aitay\\anaconda3\\lib\\site-packages (from pyasn1-modules>=0.2.1->google-auth<3,>=1.6.3->tensorboard<2.9,>=2.8->tensorflow) (0.4.8)\n",
      "Requirement already satisfied: oauthlib>=3.0.0 in c:\\users\\aitay\\anaconda3\\lib\\site-packages (from requests-oauthlib>=0.7.0->google-auth-oauthlib<0.5,>=0.4.1->tensorboard<2.9,>=2.8->tensorflow) (3.2.2)\n"
     ]
    }
   ],
   "source": [
    "!pip install opencv-python matplotlib imageio gdown tensorflow"
   ]
  },
  {
   "cell_type": "markdown",
   "metadata": {},
   "source": [
    "- **opencv-python** is used for image processing\n",
    "- **matplotlib** is used for visualization\n",
    "- **imageio** is used for reading video files to gifs\n",
    "- **gdowm** is used for downloading files\n",
    "- **tensorflow** is used for deep learning"
   ]
  },
  {
   "cell_type": "code",
   "execution_count": 1,
   "metadata": {
    "ExecuteTime": {
     "end_time": "2023-08-16T22:55:34.104187Z",
     "start_time": "2023-08-16T22:55:31.326094200Z"
    }
   },
   "outputs": [
    {
     "name": "stdout",
     "output_type": "stream",
     "text": [
      "Package                       Version\n",
      "----------------------------- ---------------\n",
      "absl-py                       1.4.0\n",
      "aiobotocore                   2.4.2\n",
      "aiofiles                      22.1.0\n",
      "aiohttp                       3.8.3\n",
      "aioitertools                  0.7.1\n",
      "aiosignal                     1.2.0\n",
      "aiosqlite                     0.18.0\n",
      "alabaster                     0.7.12\n",
      "anaconda-catalogs             0.2.0\n",
      "anaconda-client               1.12.0\n",
      "anaconda-navigator            2.4.2\n",
      "anaconda-project              0.11.1\n",
      "anyio                         3.5.0\n",
      "appdirs                       1.4.4\n",
      "argon2-cffi                   21.3.0\n",
      "argon2-cffi-bindings          21.2.0\n",
      "arrow                         1.2.3\n",
      "astroid                       2.14.2\n",
      "astropy                       5.1\n",
      "asttokens                     2.0.5\n",
      "astunparse                    1.6.3\n",
      "async-timeout                 4.0.2\n",
      "atomicwrites                  1.4.0\n",
      "attrs                         22.1.0\n",
      "Automat                       20.2.0\n",
      "autopep8                      1.6.0\n",
      "Babel                         2.11.0\n",
      "backcall                      0.2.0\n",
      "backports.functools-lru-cache 1.6.4\n",
      "backports.tempfile            1.0\n",
      "backports.weakref             1.0.post1\n",
      "bcrypt                        3.2.0\n",
      "beautifulsoup4                4.12.2\n",
      "binaryornot                   0.4.4\n",
      "black                         0.0\n",
      "bleach                        4.1.0\n",
      "bokeh                         3.2.1\n",
      "boltons                       23.0.0\n",
      "boto3                         1.24.28\n",
      "botocore                      1.27.59\n",
      "Bottleneck                    1.3.5\n",
      "brotlipy                      0.7.0\n",
      "cachetools                    5.3.1\n",
      "certifi                       2023.7.22\n",
      "cffi                          1.15.1\n",
      "chardet                       4.0.0\n",
      "charset-normalizer            2.0.4\n",
      "click                         8.0.4\n",
      "cloudpickle                   2.2.1\n",
      "clyent                        1.2.2\n",
      "colorama                      0.4.6\n",
      "colorcet                      3.0.1\n",
      "comm                          0.1.2\n",
      "conda                         23.7.2\n",
      "conda-build                   3.26.0\n",
      "conda-content-trust           0+unknown\n",
      "conda_index                   0.2.3\n",
      "conda-libmamba-solver         23.5.0\n",
      "conda-pack                    0.6.0\n",
      "conda-package-handling        2.2.0\n",
      "conda_package_streaming       0.9.0\n",
      "conda-repo-cli                1.0.41\n",
      "conda-token                   0.4.0\n",
      "conda-verify                  3.4.2\n",
      "constantly                    15.1.0\n",
      "contourpy                     1.0.5\n",
      "cookiecutter                  1.7.3\n",
      "cryptography                  41.0.2\n",
      "cssselect                     1.1.0\n",
      "cycler                        0.11.0\n",
      "cytoolz                       0.12.0\n",
      "daal4py                       2023.1.1\n",
      "dask                          2023.6.0\n",
      "datashader                    0.15.1\n",
      "datashape                     0.5.4\n",
      "debugpy                       1.6.7\n",
      "decorator                     5.1.1\n",
      "defusedxml                    0.7.1\n",
      "diff-match-patch              20200713\n",
      "dill                          0.3.6\n",
      "distributed                   2023.6.0\n",
      "docstring-to-markdown         0.11\n",
      "docutils                      0.18.1\n",
      "entrypoints                   0.4\n",
      "et-xmlfile                    1.1.0\n",
      "executing                     0.8.3\n",
      "fastjsonschema                2.16.2\n",
      "filelock                      3.9.0\n",
      "flake8                        6.0.0\n",
      "Flask                         2.2.2\n",
      "flatbuffers                   23.5.26\n",
      "fonttools                     4.25.0\n",
      "frozenlist                    1.3.3\n",
      "fsspec                        2023.3.0\n",
      "future                        0.18.3\n",
      "gast                          0.4.0\n",
      "gdown                         4.7.1\n",
      "gensim                        4.3.0\n",
      "glob2                         0.7\n",
      "google-auth                   2.22.0\n",
      "google-auth-oauthlib          1.0.0\n",
      "google-pasta                  0.2.0\n",
      "greenlet                      2.0.1\n",
      "grpcio                        1.57.0\n",
      "h5py                          3.7.0\n",
      "HeapDict                      1.0.1\n",
      "holoviews                     1.17.0\n",
      "hvplot                        0.8.4\n",
      "hyperlink                     21.0.0\n",
      "idna                          3.4\n",
      "imagecodecs                   2021.8.26\n",
      "imageio                       2.23.0\n",
      "imagesize                     1.4.1\n",
      "imbalanced-learn              0.10.1\n",
      "importlib-metadata            6.0.0\n",
      "incremental                   21.3.0\n",
      "inflection                    0.5.1\n",
      "iniconfig                     1.1.1\n",
      "intake                        0.6.8\n",
      "intervaltree                  3.1.0\n",
      "ipykernel                     6.19.2\n",
      "ipython                       8.12.0\n",
      "ipython-genutils              0.2.0\n",
      "ipywidgets                    8.0.4\n",
      "isort                         5.9.3\n",
      "itemadapter                   0.3.0\n",
      "itemloaders                   1.0.4\n",
      "itsdangerous                  2.0.1\n",
      "jaraco.classes                3.2.1\n",
      "jedi                          0.18.1\n",
      "jellyfish                     0.9.0\n",
      "Jinja2                        3.1.2\n",
      "jinja2-time                   0.2.0\n",
      "jmespath                      0.10.0\n",
      "joblib                        1.2.0\n",
      "json5                         0.9.6\n",
      "jsonpatch                     1.32\n",
      "jsonpointer                   2.1\n",
      "jsonschema                    4.17.3\n",
      "jupyter                       1.0.0\n",
      "jupyter_client                7.4.9\n",
      "jupyter-console               6.6.3\n",
      "jupyter_core                  5.3.0\n",
      "jupyter-events                0.6.3\n",
      "jupyter-server                1.23.4\n",
      "jupyter_server_fileid         0.9.0\n",
      "jupyter_server_ydoc           0.8.0\n",
      "jupyter-ydoc                  0.2.4\n",
      "jupyterlab                    3.6.3\n",
      "jupyterlab-pygments           0.1.2\n",
      "jupyterlab_server             2.22.0\n",
      "jupyterlab-widgets            3.0.5\n",
      "keras                         2.13.1\n",
      "keyring                       23.13.1\n",
      "kiwisolver                    1.4.4\n",
      "lazy_loader                   0.2\n",
      "lazy-object-proxy             1.6.0\n",
      "libarchive-c                  2.9\n",
      "libclang                      16.0.6\n",
      "libmambapy                    1.4.1\n",
      "linkify-it-py                 2.0.0\n",
      "llvmlite                      0.40.0\n",
      "lmdb                          1.4.1\n",
      "locket                        1.0.0\n",
      "lxml                          4.9.2\n",
      "lz4                           4.3.2\n",
      "Markdown                      3.4.1\n",
      "markdown-it-py                2.2.0\n",
      "MarkupSafe                    2.1.1\n",
      "matplotlib                    3.6.2\n",
      "matplotlib-inline             0.1.6\n",
      "mccabe                        0.7.0\n",
      "mdit-py-plugins               0.3.0\n",
      "mdurl                         0.1.0\n",
      "menuinst                      1.4.19\n",
      "mistune                       0.8.4\n",
      "mkl-fft                       1.3.6\n",
      "mkl-random                    1.2.2\n",
      "mkl-service                   2.4.0\n",
      "more-itertools                8.12.0\n",
      "mpmath                        1.3.0\n",
      "msgpack                       1.0.3\n",
      "multidict                     6.0.2\n",
      "multipledispatch              0.6.0\n",
      "munkres                       1.1.4\n",
      "mypy-extensions               0.4.3\n",
      "navigator-updater             0.4.0\n",
      "nbclassic                     0.5.5\n",
      "nbclient                      0.5.13\n",
      "nbconvert                     6.5.4\n",
      "nbformat                      5.7.0\n",
      "nest-asyncio                  1.5.6\n",
      "networkx                      3.1\n",
      "nltk                          3.8.1\n",
      "notebook                      6.5.4\n",
      "notebook_shim                 0.2.2\n",
      "numba                         0.57.0\n",
      "numexpr                       2.8.4\n",
      "numpy                         1.24.3\n",
      "numpydoc                      1.5.0\n",
      "oauthlib                      3.2.2\n",
      "opencv-python                 4.6.0.66\n",
      "openpyxl                      3.0.10\n",
      "opt-einsum                    3.3.0\n",
      "packaging                     23.0\n",
      "pandas                        1.5.3\n",
      "pandocfilters                 1.5.0\n",
      "panel                         1.2.1\n",
      "param                         1.13.0\n",
      "paramiko                      2.8.1\n",
      "parsel                        1.6.0\n",
      "parso                         0.8.3\n",
      "partd                         1.2.0\n",
      "pathlib                       1.0.1\n",
      "pathspec                      0.10.3\n",
      "patsy                         0.5.3\n",
      "pep8                          1.7.1\n",
      "pexpect                       4.8.0\n",
      "pickleshare                   0.7.5\n",
      "Pillow                        9.4.0\n",
      "pip                           23.2.1\n",
      "pkginfo                       1.9.6\n",
      "platformdirs                  2.5.2\n",
      "plotly                        5.9.0\n",
      "pluggy                        1.0.0\n",
      "ply                           3.11\n",
      "pooch                         1.4.0\n",
      "poyo                          0.5.0\n",
      "prometheus-client             0.14.1\n",
      "prompt-toolkit                3.0.36\n",
      "Protego                       0.1.16\n",
      "protobuf                      4.24.0\n",
      "psutil                        5.9.0\n",
      "ptyprocess                    0.7.0\n",
      "pure-eval                     0.2.2\n",
      "py-cpuinfo                    8.0.0\n",
      "pyarrow                       11.0.0\n",
      "pyasn1                        0.4.8\n",
      "pyasn1-modules                0.2.8\n",
      "pycodestyle                   2.10.0\n",
      "pycosat                       0.6.4\n",
      "pycparser                     2.21\n",
      "pyct                          0.5.0\n",
      "pycurl                        7.45.2\n",
      "PyDispatcher                  2.0.5\n",
      "pydocstyle                    6.3.0\n",
      "pyerfa                        2.0.0\n",
      "pyflakes                      3.0.1\n",
      "Pygments                      2.15.1\n",
      "PyJWT                         2.4.0\n",
      "pylint                        2.16.2\n",
      "pylint-venv                   2.3.0\n",
      "pyls-spyder                   0.4.0\n",
      "PyNaCl                        1.5.0\n",
      "pyodbc                        4.0.34\n",
      "pyOpenSSL                     23.2.0\n",
      "pyparsing                     3.0.9\n",
      "PyQt5                         5.15.7\n",
      "PyQt5-sip                     12.11.0\n",
      "PyQtWebEngine                 5.15.4\n",
      "pyrsistent                    0.18.0\n",
      "PySocks                       1.7.1\n",
      "pytest                        7.4.0\n",
      "python-dateutil               2.8.2\n",
      "python-json-logger            2.0.7\n",
      "python-lsp-black              1.2.1\n",
      "python-lsp-jsonrpc            1.0.0\n",
      "python-lsp-server             1.7.2\n",
      "python-slugify                5.0.2\n",
      "python-snappy                 0.6.1\n",
      "pytoolconfig                  1.2.5\n",
      "pytz                          2022.7\n",
      "pyviz-comms                   2.3.0\n",
      "PyWavelets                    1.4.1\n",
      "pywin32                       305.1\n",
      "pywin32-ctypes                0.2.0\n",
      "pywinpty                      2.0.10\n",
      "PyYAML                        6.0\n",
      "pyzmq                         23.2.0\n",
      "QDarkStyle                    3.0.2\n",
      "qstylizer                     0.2.2\n",
      "QtAwesome                     1.2.2\n",
      "qtconsole                     5.4.2\n",
      "QtPy                          2.2.0\n",
      "queuelib                      1.5.0\n",
      "regex                         2022.7.9\n",
      "requests                      2.31.0\n",
      "requests-file                 1.5.1\n",
      "requests-oauthlib             1.3.1\n",
      "requests-toolbelt             1.0.0\n",
      "rfc3339-validator             0.1.4\n",
      "rfc3986-validator             0.1.1\n",
      "rope                          1.7.0\n",
      "rsa                           4.9\n",
      "Rtree                         1.0.1\n",
      "ruamel.yaml                   0.17.21\n",
      "ruamel-yaml-conda             0.17.21\n",
      "s3fs                          2023.3.0\n",
      "s3transfer                    0.6.0\n",
      "sacremoses                    0.0.43\n",
      "scikit-image                  0.20.0\n",
      "scikit-learn                  1.3.0\n",
      "scikit-learn-intelex          20230426.121932\n",
      "scipy                         1.10.1\n",
      "Scrapy                        2.8.0\n",
      "seaborn                       0.12.2\n",
      "Send2Trash                    1.8.0\n",
      "service-identity              18.1.0\n",
      "setuptools                    68.0.0\n",
      "sip                           6.6.2\n",
      "six                           1.16.0\n",
      "smart-open                    5.2.1\n",
      "sniffio                       1.2.0\n",
      "snowballstemmer               2.2.0\n",
      "sortedcontainers              2.4.0\n",
      "soupsieve                     2.4\n",
      "Sphinx                        5.0.2\n",
      "sphinxcontrib-applehelp       1.0.2\n",
      "sphinxcontrib-devhelp         1.0.2\n",
      "sphinxcontrib-htmlhelp        2.0.0\n",
      "sphinxcontrib-jsmath          1.0.1\n",
      "sphinxcontrib-qthelp          1.0.3\n",
      "sphinxcontrib-serializinghtml 1.1.5\n",
      "spyder                        5.4.3\n",
      "spyder-kernels                2.4.3\n",
      "SQLAlchemy                    1.4.39\n",
      "stack-data                    0.2.0\n",
      "statsmodels                   0.14.0\n",
      "sympy                         1.11.1\n",
      "tables                        3.8.0\n",
      "tabulate                      0.8.10\n",
      "TBB                           0.2\n",
      "tblib                         1.7.0\n",
      "tenacity                      8.2.2\n",
      "tensorboard                   2.13.0\n",
      "tensorboard-data-server       0.7.1\n",
      "tensorflow                    2.13.0\n",
      "tensorflow-estimator          2.13.0\n",
      "tensorflow-intel              2.13.0\n",
      "tensorflow-io-gcs-filesystem  0.31.0\n",
      "termcolor                     2.3.0\n",
      "terminado                     0.17.1\n",
      "text-unidecode                1.3\n",
      "textdistance                  4.2.1\n",
      "threadpoolctl                 2.2.0\n",
      "three-merge                   0.1.1\n",
      "tifffile                      2021.7.2\n",
      "tinycss2                      1.2.1\n",
      "tldextract                    3.2.0\n",
      "toml                          0.10.2\n",
      "tomlkit                       0.11.1\n",
      "toolz                         0.12.0\n",
      "tornado                       6.3.2\n",
      "tqdm                          4.65.0\n",
      "traitlets                     5.7.1\n",
      "transformers                  2.1.1\n",
      "Twisted                       22.10.0\n",
      "twisted-iocpsupport           1.0.2\n",
      "typing_extensions             4.5.0\n",
      "uc-micro-py                   1.0.1\n",
      "ujson                         5.4.0\n",
      "Unidecode                     1.2.0\n",
      "urllib3                       1.26.16\n",
      "w3lib                         1.21.0\n",
      "watchdog                      2.1.6\n",
      "wcwidth                       0.2.5\n",
      "webencodings                  0.5.1\n",
      "websocket-client              0.58.0\n",
      "Werkzeug                      2.2.3\n",
      "whatthepatch                  1.0.2\n",
      "wheel                         0.38.4\n",
      "widgetsnbextension            4.0.5\n",
      "win-inet-pton                 1.1.0\n",
      "wrapt                         1.14.1\n",
      "xarray                        2023.6.0\n",
      "xlwings                       0.29.1\n",
      "xyzservices                   2022.9.0\n",
      "y-py                          0.5.9\n",
      "yapf                          0.31.0\n",
      "yarl                          1.8.1\n",
      "ypy-websocket                 0.8.2\n",
      "zict                          2.2.0\n",
      "zipp                          3.11.0\n",
      "zope.interface                5.4.0\n",
      "zstandard                     0.19.0\n"
     ]
    }
   ],
   "source": [
    "!pip list"
   ]
  },
  {
   "cell_type": "code",
   "execution_count": null,
   "metadata": {},
   "outputs": [],
   "source": []
  },
  {
   "cell_type": "code",
   "execution_count": 1,
   "metadata": {
    "ExecuteTime": {
     "end_time": "2023-08-18T12:43:47.109259500Z",
     "start_time": "2023-08-18T12:43:42.149678Z"
    }
   },
   "outputs": [],
   "source": [
    "import os\n",
    "import cv2\n",
    "import numpy as np\n",
    "import tensorflow as tf\n",
    "\n",
    "from typing import List\n",
    "from matplotlib import pyplot as plt\n",
    "import imageio"
   ]
  },
  {
   "cell_type": "code",
   "execution_count": 2,
   "metadata": {
    "ExecuteTime": {
     "end_time": "2023-08-18T12:43:47.122668500Z",
     "start_time": "2023-08-18T12:43:47.110252800Z"
    }
   },
   "outputs": [
    {
     "data": {
      "text/plain": [
       "[]"
      ]
     },
     "execution_count": 2,
     "metadata": {},
     "output_type": "execute_result"
    }
   ],
   "source": [
    "tf.config.list_physical_devices('GPU')"
   ]
  },
  {
   "cell_type": "code",
   "execution_count": 3,
   "metadata": {
    "ExecuteTime": {
     "end_time": "2023-08-18T12:43:47.129475Z",
     "start_time": "2023-08-18T12:43:47.122668500Z"
    }
   },
   "outputs": [
    {
     "name": "stdout",
     "output_type": "stream",
     "text": [
      "Invalid device or cannot modify virtual devices once initialized.\n"
     ]
    }
   ],
   "source": [
    "# Prevent exponential GPU memory growth\n",
    "physical_devices = tf.config.list_physical_devices('GPU')\n",
    "try :\n",
    "    tf.config.experimental.set_memory_growth(physical_devices[0], True)\n",
    "except :\n",
    "    print('Invalid device or cannot modify virtual devices once initialized.')\n",
    "    pass"
   ]
  },
  {
   "cell_type": "markdown",
   "metadata": {},
   "source": [
    "## 1. Build Data Loading Function"
   ]
  },
  {
   "cell_type": "code",
   "execution_count": 53,
   "metadata": {
    "ExecuteTime": {
     "end_time": "2023-08-16T19:36:49.784678300Z",
     "start_time": "2023-08-16T19:36:45.447949300Z"
    }
   },
   "outputs": [
    {
     "name": "stderr",
     "output_type": "stream",
     "text": [
      "Downloading...\n",
      "From (uriginal): https://drive.google.com/uc?id=1YlvpDLix3S-U8fd-gqRwPcWXAXm8JwjL\n",
      "From (redirected): https://drive.google.com/uc?id=1YlvpDLix3S-U8fd-gqRwPcWXAXm8JwjL&confirm=t&uuid=7e304dfa-5dca-4e6e-9856-951d24722035\n",
      "To: C:\\Users\\aitay\\Documents\\Github\\Lipreading\\data.zip\n",
      "  0%|          | 0.00/423M [00:00<?, ?B/s]"
     ]
    },
    {
     "ename": "KeyboardInterrupt",
     "evalue": "",
     "output_type": "error",
     "traceback": [
      "\u001b[1;31m---------------------------------------------------------------------------\u001b[0m",
      "\u001b[1;31mKeyboardInterrupt\u001b[0m                         Traceback (most recent call last)",
      "Cell \u001b[1;32mIn[53], line 5\u001b[0m\n\u001b[0;32m      3\u001b[0m url \u001b[38;5;241m=\u001b[39m \u001b[38;5;124m'\u001b[39m\u001b[38;5;124mhttps://drive.google.com/uc?id=1YlvpDLix3S-U8fd-gqRwPcWXAXm8JwjL\u001b[39m\u001b[38;5;124m'\u001b[39m\n\u001b[0;32m      4\u001b[0m output \u001b[38;5;241m=\u001b[39m \u001b[38;5;124m'\u001b[39m\u001b[38;5;124mdata.zip\u001b[39m\u001b[38;5;124m'\u001b[39m\n\u001b[1;32m----> 5\u001b[0m \u001b[43mgdown\u001b[49m\u001b[38;5;241;43m.\u001b[39;49m\u001b[43mdownload\u001b[49m\u001b[43m(\u001b[49m\u001b[43murl\u001b[49m\u001b[43m,\u001b[49m\u001b[43m \u001b[49m\u001b[43moutput\u001b[49m\u001b[43m,\u001b[49m\u001b[43m \u001b[49m\u001b[43mquiet\u001b[49m\u001b[38;5;241;43m=\u001b[39;49m\u001b[38;5;28;43;01mFalse\u001b[39;49;00m\u001b[43m)\u001b[49m\n\u001b[0;32m      6\u001b[0m gdown\u001b[38;5;241m.\u001b[39mextractall(\u001b[38;5;124m'\u001b[39m\u001b[38;5;124mdata.zip\u001b[39m\u001b[38;5;124m'\u001b[39m)\n",
      "File \u001b[1;32m~\\anaconda3\\lib\\site-packages\\gdown\\download.py:334\u001b[0m, in \u001b[0;36mdownload\u001b[1;34m(url, output, quiet, proxy, speed, use_cookies, verify, id, fuzzy, resume, format)\u001b[0m\n\u001b[0;32m    332\u001b[0m     pbar \u001b[38;5;241m=\u001b[39m tqdm\u001b[38;5;241m.\u001b[39mtqdm(total\u001b[38;5;241m=\u001b[39mtotal, unit\u001b[38;5;241m=\u001b[39m\u001b[38;5;124m\"\u001b[39m\u001b[38;5;124mB\u001b[39m\u001b[38;5;124m\"\u001b[39m, unit_scale\u001b[38;5;241m=\u001b[39m\u001b[38;5;28;01mTrue\u001b[39;00m)\n\u001b[0;32m    333\u001b[0m t_start \u001b[38;5;241m=\u001b[39m time\u001b[38;5;241m.\u001b[39mtime()\n\u001b[1;32m--> 334\u001b[0m \u001b[38;5;28;01mfor\u001b[39;00m chunk \u001b[38;5;129;01min\u001b[39;00m res\u001b[38;5;241m.\u001b[39miter_content(chunk_size\u001b[38;5;241m=\u001b[39mCHUNK_SIZE):\n\u001b[0;32m    335\u001b[0m     f\u001b[38;5;241m.\u001b[39mwrite(chunk)\n\u001b[0;32m    336\u001b[0m     \u001b[38;5;28;01mif\u001b[39;00m \u001b[38;5;129;01mnot\u001b[39;00m quiet:\n",
      "File \u001b[1;32m~\\anaconda3\\lib\\site-packages\\requests\\models.py:816\u001b[0m, in \u001b[0;36mResponse.iter_content.<locals>.generate\u001b[1;34m()\u001b[0m\n\u001b[0;32m    814\u001b[0m \u001b[38;5;28;01mif\u001b[39;00m \u001b[38;5;28mhasattr\u001b[39m(\u001b[38;5;28mself\u001b[39m\u001b[38;5;241m.\u001b[39mraw, \u001b[38;5;124m\"\u001b[39m\u001b[38;5;124mstream\u001b[39m\u001b[38;5;124m\"\u001b[39m):\n\u001b[0;32m    815\u001b[0m     \u001b[38;5;28;01mtry\u001b[39;00m:\n\u001b[1;32m--> 816\u001b[0m         \u001b[38;5;28;01myield from\u001b[39;00m \u001b[38;5;28mself\u001b[39m\u001b[38;5;241m.\u001b[39mraw\u001b[38;5;241m.\u001b[39mstream(chunk_size, decode_content\u001b[38;5;241m=\u001b[39m\u001b[38;5;28;01mTrue\u001b[39;00m)\n\u001b[0;32m    817\u001b[0m     \u001b[38;5;28;01mexcept\u001b[39;00m ProtocolError \u001b[38;5;28;01mas\u001b[39;00m e:\n\u001b[0;32m    818\u001b[0m         \u001b[38;5;28;01mraise\u001b[39;00m ChunkedEncodingError(e)\n",
      "File \u001b[1;32m~\\anaconda3\\lib\\site-packages\\urllib3\\response.py:628\u001b[0m, in \u001b[0;36mHTTPResponse.stream\u001b[1;34m(self, amt, decode_content)\u001b[0m\n\u001b[0;32m    626\u001b[0m \u001b[38;5;28;01melse\u001b[39;00m:\n\u001b[0;32m    627\u001b[0m     \u001b[38;5;28;01mwhile\u001b[39;00m \u001b[38;5;129;01mnot\u001b[39;00m is_fp_closed(\u001b[38;5;28mself\u001b[39m\u001b[38;5;241m.\u001b[39m_fp):\n\u001b[1;32m--> 628\u001b[0m         data \u001b[38;5;241m=\u001b[39m \u001b[38;5;28;43mself\u001b[39;49m\u001b[38;5;241;43m.\u001b[39;49m\u001b[43mread\u001b[49m\u001b[43m(\u001b[49m\u001b[43mamt\u001b[49m\u001b[38;5;241;43m=\u001b[39;49m\u001b[43mamt\u001b[49m\u001b[43m,\u001b[49m\u001b[43m \u001b[49m\u001b[43mdecode_content\u001b[49m\u001b[38;5;241;43m=\u001b[39;49m\u001b[43mdecode_content\u001b[49m\u001b[43m)\u001b[49m\n\u001b[0;32m    630\u001b[0m         \u001b[38;5;28;01mif\u001b[39;00m data:\n\u001b[0;32m    631\u001b[0m             \u001b[38;5;28;01myield\u001b[39;00m data\n",
      "File \u001b[1;32m~\\anaconda3\\lib\\site-packages\\urllib3\\response.py:567\u001b[0m, in \u001b[0;36mHTTPResponse.read\u001b[1;34m(self, amt, decode_content, cache_content)\u001b[0m\n\u001b[0;32m    564\u001b[0m fp_closed \u001b[38;5;241m=\u001b[39m \u001b[38;5;28mgetattr\u001b[39m(\u001b[38;5;28mself\u001b[39m\u001b[38;5;241m.\u001b[39m_fp, \u001b[38;5;124m\"\u001b[39m\u001b[38;5;124mclosed\u001b[39m\u001b[38;5;124m\"\u001b[39m, \u001b[38;5;28;01mFalse\u001b[39;00m)\n\u001b[0;32m    566\u001b[0m \u001b[38;5;28;01mwith\u001b[39;00m \u001b[38;5;28mself\u001b[39m\u001b[38;5;241m.\u001b[39m_error_catcher():\n\u001b[1;32m--> 567\u001b[0m     data \u001b[38;5;241m=\u001b[39m \u001b[38;5;28;43mself\u001b[39;49m\u001b[38;5;241;43m.\u001b[39;49m\u001b[43m_fp_read\u001b[49m\u001b[43m(\u001b[49m\u001b[43mamt\u001b[49m\u001b[43m)\u001b[49m \u001b[38;5;28;01mif\u001b[39;00m \u001b[38;5;129;01mnot\u001b[39;00m fp_closed \u001b[38;5;28;01melse\u001b[39;00m \u001b[38;5;124mb\u001b[39m\u001b[38;5;124m\"\u001b[39m\u001b[38;5;124m\"\u001b[39m\n\u001b[0;32m    568\u001b[0m     \u001b[38;5;28;01mif\u001b[39;00m amt \u001b[38;5;129;01mis\u001b[39;00m \u001b[38;5;28;01mNone\u001b[39;00m:\n\u001b[0;32m    569\u001b[0m         flush_decoder \u001b[38;5;241m=\u001b[39m \u001b[38;5;28;01mTrue\u001b[39;00m\n",
      "File \u001b[1;32m~\\anaconda3\\lib\\site-packages\\urllib3\\response.py:533\u001b[0m, in \u001b[0;36mHTTPResponse._fp_read\u001b[1;34m(self, amt)\u001b[0m\n\u001b[0;32m    530\u001b[0m     \u001b[38;5;28;01mreturn\u001b[39;00m buffer\u001b[38;5;241m.\u001b[39mgetvalue()\n\u001b[0;32m    531\u001b[0m \u001b[38;5;28;01melse\u001b[39;00m:\n\u001b[0;32m    532\u001b[0m     \u001b[38;5;66;03m# StringIO doesn't like amt=None\u001b[39;00m\n\u001b[1;32m--> 533\u001b[0m     \u001b[38;5;28;01mreturn\u001b[39;00m \u001b[38;5;28;43mself\u001b[39;49m\u001b[38;5;241;43m.\u001b[39;49m\u001b[43m_fp\u001b[49m\u001b[38;5;241;43m.\u001b[39;49m\u001b[43mread\u001b[49m\u001b[43m(\u001b[49m\u001b[43mamt\u001b[49m\u001b[43m)\u001b[49m \u001b[38;5;28;01mif\u001b[39;00m amt \u001b[38;5;129;01mis\u001b[39;00m \u001b[38;5;129;01mnot\u001b[39;00m \u001b[38;5;28;01mNone\u001b[39;00m \u001b[38;5;28;01melse\u001b[39;00m \u001b[38;5;28mself\u001b[39m\u001b[38;5;241m.\u001b[39m_fp\u001b[38;5;241m.\u001b[39mread()\n",
      "File \u001b[1;32m~\\anaconda3\\lib\\http\\client.py:465\u001b[0m, in \u001b[0;36mHTTPResponse.read\u001b[1;34m(self, amt)\u001b[0m\n\u001b[0;32m    462\u001b[0m \u001b[38;5;28;01mif\u001b[39;00m \u001b[38;5;28mself\u001b[39m\u001b[38;5;241m.\u001b[39mlength \u001b[38;5;129;01mis\u001b[39;00m \u001b[38;5;129;01mnot\u001b[39;00m \u001b[38;5;28;01mNone\u001b[39;00m \u001b[38;5;129;01mand\u001b[39;00m amt \u001b[38;5;241m>\u001b[39m \u001b[38;5;28mself\u001b[39m\u001b[38;5;241m.\u001b[39mlength:\n\u001b[0;32m    463\u001b[0m     \u001b[38;5;66;03m# clip the read to the \"end of response\"\u001b[39;00m\n\u001b[0;32m    464\u001b[0m     amt \u001b[38;5;241m=\u001b[39m \u001b[38;5;28mself\u001b[39m\u001b[38;5;241m.\u001b[39mlength\n\u001b[1;32m--> 465\u001b[0m s \u001b[38;5;241m=\u001b[39m \u001b[38;5;28;43mself\u001b[39;49m\u001b[38;5;241;43m.\u001b[39;49m\u001b[43mfp\u001b[49m\u001b[38;5;241;43m.\u001b[39;49m\u001b[43mread\u001b[49m\u001b[43m(\u001b[49m\u001b[43mamt\u001b[49m\u001b[43m)\u001b[49m\n\u001b[0;32m    466\u001b[0m \u001b[38;5;28;01mif\u001b[39;00m \u001b[38;5;129;01mnot\u001b[39;00m s \u001b[38;5;129;01mand\u001b[39;00m amt:\n\u001b[0;32m    467\u001b[0m     \u001b[38;5;66;03m# Ideally, we would raise IncompleteRead if the content-length\u001b[39;00m\n\u001b[0;32m    468\u001b[0m     \u001b[38;5;66;03m# wasn't satisfied, but it might break compatibility.\u001b[39;00m\n\u001b[0;32m    469\u001b[0m     \u001b[38;5;28mself\u001b[39m\u001b[38;5;241m.\u001b[39m_close_conn()\n",
      "File \u001b[1;32m~\\anaconda3\\lib\\socket.py:705\u001b[0m, in \u001b[0;36mSocketIO.readinto\u001b[1;34m(self, b)\u001b[0m\n\u001b[0;32m    703\u001b[0m \u001b[38;5;28;01mwhile\u001b[39;00m \u001b[38;5;28;01mTrue\u001b[39;00m:\n\u001b[0;32m    704\u001b[0m     \u001b[38;5;28;01mtry\u001b[39;00m:\n\u001b[1;32m--> 705\u001b[0m         \u001b[38;5;28;01mreturn\u001b[39;00m \u001b[38;5;28;43mself\u001b[39;49m\u001b[38;5;241;43m.\u001b[39;49m\u001b[43m_sock\u001b[49m\u001b[38;5;241;43m.\u001b[39;49m\u001b[43mrecv_into\u001b[49m\u001b[43m(\u001b[49m\u001b[43mb\u001b[49m\u001b[43m)\u001b[49m\n\u001b[0;32m    706\u001b[0m     \u001b[38;5;28;01mexcept\u001b[39;00m timeout:\n\u001b[0;32m    707\u001b[0m         \u001b[38;5;28mself\u001b[39m\u001b[38;5;241m.\u001b[39m_timeout_occurred \u001b[38;5;241m=\u001b[39m \u001b[38;5;28;01mTrue\u001b[39;00m\n",
      "File \u001b[1;32m~\\anaconda3\\lib\\ssl.py:1274\u001b[0m, in \u001b[0;36mSSLSocket.recv_into\u001b[1;34m(self, buffer, nbytes, flags)\u001b[0m\n\u001b[0;32m   1270\u001b[0m     \u001b[38;5;28;01mif\u001b[39;00m flags \u001b[38;5;241m!=\u001b[39m \u001b[38;5;241m0\u001b[39m:\n\u001b[0;32m   1271\u001b[0m         \u001b[38;5;28;01mraise\u001b[39;00m \u001b[38;5;167;01mValueError\u001b[39;00m(\n\u001b[0;32m   1272\u001b[0m           \u001b[38;5;124m\"\u001b[39m\u001b[38;5;124mnon-zero flags not allowed in calls to recv_into() on \u001b[39m\u001b[38;5;132;01m%s\u001b[39;00m\u001b[38;5;124m\"\u001b[39m \u001b[38;5;241m%\u001b[39m\n\u001b[0;32m   1273\u001b[0m           \u001b[38;5;28mself\u001b[39m\u001b[38;5;241m.\u001b[39m\u001b[38;5;18m__class__\u001b[39m)\n\u001b[1;32m-> 1274\u001b[0m     \u001b[38;5;28;01mreturn\u001b[39;00m \u001b[38;5;28;43mself\u001b[39;49m\u001b[38;5;241;43m.\u001b[39;49m\u001b[43mread\u001b[49m\u001b[43m(\u001b[49m\u001b[43mnbytes\u001b[49m\u001b[43m,\u001b[49m\u001b[43m \u001b[49m\u001b[43mbuffer\u001b[49m\u001b[43m)\u001b[49m\n\u001b[0;32m   1275\u001b[0m \u001b[38;5;28;01melse\u001b[39;00m:\n\u001b[0;32m   1276\u001b[0m     \u001b[38;5;28;01mreturn\u001b[39;00m \u001b[38;5;28msuper\u001b[39m()\u001b[38;5;241m.\u001b[39mrecv_into(buffer, nbytes, flags)\n",
      "File \u001b[1;32m~\\anaconda3\\lib\\ssl.py:1130\u001b[0m, in \u001b[0;36mSSLSocket.read\u001b[1;34m(self, len, buffer)\u001b[0m\n\u001b[0;32m   1128\u001b[0m \u001b[38;5;28;01mtry\u001b[39;00m:\n\u001b[0;32m   1129\u001b[0m     \u001b[38;5;28;01mif\u001b[39;00m buffer \u001b[38;5;129;01mis\u001b[39;00m \u001b[38;5;129;01mnot\u001b[39;00m \u001b[38;5;28;01mNone\u001b[39;00m:\n\u001b[1;32m-> 1130\u001b[0m         \u001b[38;5;28;01mreturn\u001b[39;00m \u001b[38;5;28;43mself\u001b[39;49m\u001b[38;5;241;43m.\u001b[39;49m\u001b[43m_sslobj\u001b[49m\u001b[38;5;241;43m.\u001b[39;49m\u001b[43mread\u001b[49m\u001b[43m(\u001b[49m\u001b[38;5;28;43mlen\u001b[39;49m\u001b[43m,\u001b[49m\u001b[43m \u001b[49m\u001b[43mbuffer\u001b[49m\u001b[43m)\u001b[49m\n\u001b[0;32m   1131\u001b[0m     \u001b[38;5;28;01melse\u001b[39;00m:\n\u001b[0;32m   1132\u001b[0m         \u001b[38;5;28;01mreturn\u001b[39;00m \u001b[38;5;28mself\u001b[39m\u001b[38;5;241m.\u001b[39m_sslobj\u001b[38;5;241m.\u001b[39mread(\u001b[38;5;28mlen\u001b[39m)\n",
      "\u001b[1;31mKeyboardInterrupt\u001b[0m: "
     ]
    }
   ],
   "source": [
    "# Downloadin dataset\n",
    "import gdown\n",
    "url = 'https://drive.google.com/uc?id=1YlvpDLix3S-U8fd-gqRwPcWXAXm8JwjL'\n",
    "output = 'data.zip'\n",
    "gdown.download(url, output, quiet=False)\n",
    "gdown.extractall('data.zip')"
   ]
  },
  {
   "cell_type": "code",
   "execution_count": 4,
   "metadata": {
    "ExecuteTime": {
     "end_time": "2023-08-18T12:43:47.188534Z",
     "start_time": "2023-08-18T12:43:47.133457800Z"
    }
   },
   "outputs": [],
   "source": [
    "# Load videos\n",
    "def load_video(path:str) -> List[float]:\n",
    "    \"\"\"\n",
    "    Loads a video from a given path, reduces the size of the video and standardizes it.\n",
    "    :param path: Path to the video\n",
    "    :return: A list of standardized frames\n",
    "    \"\"\"\n",
    "\n",
    "    cap = cv2.VideoCapture(path)\n",
    "    frames = []\n",
    "    for _ in range(int(cap.get(cv2.CAP_PROP_FRAME_COUNT))):\n",
    "        ret, frame = cap.read()\n",
    "        frame = tf.image.rgb_to_grayscale(frame) # Less data to process\n",
    "        frames.append(frame[190:236,80:220,:]) # This is the region of interest (ROI) that contains the mouth\n",
    "        # However we can replace it with a face detector library like dlib\n",
    "    cap.release()\n",
    "\n",
    "    # We standardize the frames so that they have a mean of 0 and standard deviation of 1.\n",
    "    # (Scaling data, good practice)\n",
    "    mean = tf.math.reduce_mean(frames)\n",
    "    casted_frames= tf.cast(frames, tf.float32)\n",
    "    std = tf.math.reduce_std(casted_frames)\n",
    "    return tf.cast((frames - mean), tf.float32) / std"
   ]
  },
  {
   "cell_type": "code",
   "execution_count": 5,
   "metadata": {
    "ExecuteTime": {
     "end_time": "2023-08-18T12:43:47.189085400Z",
     "start_time": "2023-08-18T12:43:47.139575100Z"
    }
   },
   "outputs": [],
   "source": [
    "# Defining vocabulary\n",
    "vocab = [x for x in \"abcdefghijklmnopqrstuvwxyz'1234567890? \"]"
   ]
  },
  {
   "cell_type": "code",
   "execution_count": 6,
   "metadata": {
    "ExecuteTime": {
     "end_time": "2023-08-18T12:43:47.221176500Z",
     "start_time": "2023-08-18T12:43:47.146428800Z"
    }
   },
   "outputs": [
    {
     "data": {
      "text/plain": [
       "['a',\n",
       " 'b',\n",
       " 'c',\n",
       " 'd',\n",
       " 'e',\n",
       " 'f',\n",
       " 'g',\n",
       " 'h',\n",
       " 'i',\n",
       " 'j',\n",
       " 'k',\n",
       " 'l',\n",
       " 'm',\n",
       " 'n',\n",
       " 'o',\n",
       " 'p',\n",
       " 'q',\n",
       " 'r',\n",
       " 's',\n",
       " 't',\n",
       " 'u',\n",
       " 'v',\n",
       " 'w',\n",
       " 'x',\n",
       " 'y',\n",
       " 'z',\n",
       " \"'\",\n",
       " '1',\n",
       " '2',\n",
       " '3',\n",
       " '4',\n",
       " '5',\n",
       " '6',\n",
       " '7',\n",
       " '8',\n",
       " '9',\n",
       " '0',\n",
       " '?',\n",
       " ' ']"
      ]
     },
     "execution_count": 6,
     "metadata": {},
     "output_type": "execute_result"
    }
   ],
   "source": [
    "vocab"
   ]
  },
  {
   "cell_type": "code",
   "execution_count": 7,
   "metadata": {
    "ExecuteTime": {
     "end_time": "2023-08-18T12:43:47.325330400Z",
     "start_time": "2023-08-18T12:43:47.153515300Z"
    }
   },
   "outputs": [
    {
     "name": "stdout",
     "output_type": "stream",
     "text": [
      "Input: ['a', 'b', 'c', 'd', 'e', 'f', 'g', 'h', 'i', 'j', 'k', 'l', 'm', 'n', 'o', 'p', 'q', 'r', 's', 't', 'u', 'v', 'w', 'x', 'y', 'z', \"'\", '1', '2', '3', '4', '5', '6', '7', '8', '9', '0', '?', ' ']\n",
      " Output: 40\n",
      "\n"
     ]
    }
   ],
   "source": [
    "# A nice and neat way to convert charts to nums and vice versa\n",
    "# This is taking from Keras Automatic speech recognition using CTC\n",
    "char_to_num = tf.keras.layers.StringLookup(vocabulary=vocab, oov_token=\"\")\n",
    "num_to_char = tf.keras.layers.StringLookup(\n",
    "    vocabulary=char_to_num.get_vocabulary(),\n",
    "    oov_token=\"\",\n",
    "    invert=True\n",
    ")\n",
    "print(\n",
    "    f\"Input: {vocab}\\n\",\n",
    "    f\"Output: {char_to_num.vocabulary_size()}\\n\"\n",
    ")"
   ]
  },
  {
   "cell_type": "code",
   "execution_count": 8,
   "metadata": {
    "ExecuteTime": {
     "end_time": "2023-08-18T12:43:47.326328700Z",
     "start_time": "2023-08-18T12:43:47.311791200Z"
    }
   },
   "outputs": [
    {
     "data": {
      "text/plain": [
       "<tf.Tensor: shape=(3,), dtype=int64, numpy=array([ 1, 25, 25], dtype=int64)>"
      ]
     },
     "execution_count": 8,
     "metadata": {},
     "output_type": "execute_result"
    }
   ],
   "source": [
    "# Testing\n",
    "char_to_num(['a','y','y'])\n",
    "# So what we are doing is that we are converting the characters to numbers\n",
    "# This will help us later on converting these values to one-hot-coded"
   ]
  },
  {
   "cell_type": "code",
   "execution_count": 9,
   "metadata": {
    "ExecuteTime": {
     "end_time": "2023-08-18T12:43:47.339399600Z",
     "start_time": "2023-08-18T12:43:47.322340500Z"
    }
   },
   "outputs": [
    {
     "data": {
      "text/plain": [
       "<tf.Tensor: shape=(3,), dtype=string, numpy=array([b'a', b'y', b'y'], dtype=object)>"
      ]
     },
     "execution_count": 9,
     "metadata": {},
     "output_type": "execute_result"
    }
   ],
   "source": [
    "num_to_char([ 1, 25, 25])"
   ]
  },
  {
   "cell_type": "code",
   "execution_count": 10,
   "metadata": {
    "ExecuteTime": {
     "end_time": "2023-08-18T12:43:47.346396500Z",
     "start_time": "2023-08-18T12:43:47.338482600Z"
    }
   },
   "outputs": [],
   "source": [
    "# Load alignments\n",
    "# Alignments are the text that is being said in the video\n",
    "def load_alignments(path:str) -> List[str]:\n",
    "    with open(path, 'r') as f:\n",
    "        alignments = f.readlines()\n",
    "    tokens = []\n",
    "    for alignment in alignments:\n",
    "        alignment = alignment.split()\n",
    "        if alignment[2] != 'sil':\n",
    "            tokens = [*tokens, ' ', alignment[2]]\n",
    "    tokens_unicode= tf.strings.unicode_split(tokens, 'UTF-8')\n",
    "    # print(tokens_unicode)\n",
    "    # Reshape the tensor to remove the first empty space\n",
    "    # tokens_unicode = tf.reshape(tokens_unicode, [1, -1])\n",
    "    # print(char_to_num(tokens_unicode)[1:])\n",
    "    return char_to_num(tf.reshape(tokens_unicode, [-1]))[1:]"
   ]
  },
  {
   "cell_type": "code",
   "execution_count": 11,
   "metadata": {
    "ExecuteTime": {
     "end_time": "2023-08-18T12:43:47.403499800Z",
     "start_time": "2023-08-18T12:43:47.345395100Z"
    }
   },
   "outputs": [],
   "source": [
    "# Load data from the dataset\n",
    "def load_data(path:str):\n",
    "    \"\"\"\n",
    "    This function will load the data from the folder and call the load_video and load_alignments functions to import the frames and alignments simultaneously\n",
    "    :param path: Path to the dataset\n",
    "    :return: frames, alignments\n",
    "    \"\"\"\n",
    "    path = bytes.decode(path.numpy()) # Convert the path to a string\n",
    "    file_name = path.split('\\\\')[-1].split('.')[0] # Get the file name\n",
    "    video_path = os.path.join('data','sequences',f'{file_name}.mpg') # Get the video path\n",
    "    alignment_path = os.path.join('data','alignments','s1',f'{file_name}.align') # Get the alignment path\n",
    "    return load_video(video_path), load_alignments(alignment_path)"
   ]
  },
  {
   "cell_type": "code",
   "execution_count": 12,
   "metadata": {
    "ExecuteTime": {
     "end_time": "2023-08-18T12:43:47.403499800Z",
     "start_time": "2023-08-18T12:43:47.352184200Z"
    }
   },
   "outputs": [],
   "source": [
    "# Just to quickly transform the alignments to text\n",
    "def alignments_to_text(alignments:List[int]) -> str:\n",
    "    return tf.strings.reduce_join(num_to_char(alignments)).numpy().decode('utf-8')"
   ]
  },
  {
   "cell_type": "code",
   "execution_count": 13,
   "metadata": {
    "ExecuteTime": {
     "end_time": "2023-08-18T12:43:48.196921800Z",
     "start_time": "2023-08-18T12:43:47.812615500Z"
    }
   },
   "outputs": [],
   "source": [
    "# Testing\n",
    "test_path = '.\\\\data\\\\sequences\\\\bbal6n.mpg'\n",
    "tensor_path= tf.convert_to_tensor(test_path)\n",
    "frames, alignments=load_data(tensor_path)"
   ]
  },
  {
   "cell_type": "code",
   "execution_count": 14,
   "metadata": {
    "ExecuteTime": {
     "end_time": "2023-08-18T12:43:48.663208800Z",
     "start_time": "2023-08-18T12:43:48.400023300Z"
    }
   },
   "outputs": [
    {
     "data": {
      "text/plain": [
       "<matplotlib.image.AxesImage at 0x18a46896690>"
      ]
     },
     "execution_count": 14,
     "metadata": {},
     "output_type": "execute_result"
    },
    {
     "data": {
      "image/png": "[encoded data removed]",
      "text/plain": [
       "<Figure size 640x480 with 1 Axes>"
      ]
     },
     "metadata": {},
     "output_type": "display_data"
    }
   ],
   "source": [
    "plt.imshow(frames[0])"
   ]
  },
  {
   "cell_type": "code",
   "execution_count": 15,
   "metadata": {
    "ExecuteTime": {
     "end_time": "2023-08-18T12:43:49.333712900Z",
     "start_time": "2023-08-18T12:43:49.325991500Z"
    }
   },
   "outputs": [
    {
     "data": {
      "text/plain": [
       "'bin blue at l six now'"
      ]
     },
     "execution_count": 15,
     "metadata": {},
     "output_type": "execute_result"
    }
   ],
   "source": [
    "alignments_to_text(alignments)"
   ]
  },
  {
   "cell_type": "code",
   "execution_count": 16,
   "metadata": {
    "ExecuteTime": {
     "end_time": "2023-08-18T12:43:50.521517700Z",
     "start_time": "2023-08-18T12:43:50.507252700Z"
    }
   },
   "outputs": [],
   "source": [
    "def mappabale_function (path:str)->List[str]:\n",
    "    \"\"\"\n",
    "    This function is used to map the load_data function to the dataset\n",
    "    :param path: Path to the dataset\n",
    "    :return:\n",
    "    \"\"\"\n",
    "    result = tf.py_function(load_data, [path], (tf.float32, tf.int64))\n",
    "    return result"
   ]
  },
  {
   "cell_type": "markdown",
   "metadata": {},
   "source": [
    "## 2. Data Pipeline"
   ]
  },
  {
   "cell_type": "code",
   "execution_count": 17,
   "metadata": {
    "ExecuteTime": {
     "end_time": "2023-08-18T12:43:51.733998800Z",
     "start_time": "2023-08-18T12:43:51.621389Z"
    }
   },
   "outputs": [],
   "source": [
    "# Load the dataset\n",
    "dataset = tf.data.Dataset.list_files(os.path.join('data','sequences','*.mpg'))\n",
    "dataset =dataset.shuffle(100, reshuffle_each_iteration=False) # Shuffle the dataset\n",
    "dataset = dataset.map(mappabale_function) # Map the load_data function to the dataset\n",
    "dataset = dataset.padded_batch(2,padded_shapes=([75,None,None,None],[40])) # Pad the dataset, which means that we will make all the videos have the same length\n",
    "dataset = dataset.prefetch(tf.data.AUTOTUNE) # Prefetch the dataset whilw thw model is training"
   ]
  },
  {
   "cell_type": "code",
   "execution_count": 18,
   "metadata": {
    "ExecuteTime": {
     "end_time": "2023-08-18T12:43:52.225763Z",
     "start_time": "2023-08-18T12:43:52.216930300Z"
    }
   },
   "outputs": [],
   "source": [
    "# Splitting training set and test set\n",
    "train_dataset = dataset.take(50)\n",
    "test_dataset = dataset.skip(50)"
   ]
  },
  {
   "cell_type": "code",
   "execution_count": 19,
   "metadata": {
    "ExecuteTime": {
     "end_time": "2023-08-18T12:43:53.595679200Z",
     "start_time": "2023-08-18T12:43:52.659624100Z"
    }
   },
   "outputs": [],
   "source": [
    "# Testing\n",
    "frames, alignments = dataset.as_numpy_iterator().next()"
   ]
  },
  {
   "cell_type": "code",
   "execution_count": 20,
   "metadata": {
    "ExecuteTime": {
     "end_time": "2023-08-18T12:43:53.611834100Z",
     "start_time": "2023-08-18T12:43:53.598687700Z"
    }
   },
   "outputs": [
    {
     "data": {
      "text/plain": [
       "2"
      ]
     },
     "execution_count": 20,
     "metadata": {},
     "output_type": "execute_result"
    }
   ],
   "source": [
    "len(frames)"
   ]
  },
  {
   "cell_type": "code",
   "execution_count": 21,
   "metadata": {
    "ExecuteTime": {
     "end_time": "2023-08-18T12:43:54.331884Z",
     "start_time": "2023-08-18T12:43:53.769736Z"
    }
   },
   "outputs": [
    {
     "data": {
      "text/plain": [
       "array([[[[[ 1.2957337 ],\n",
       "          [ 1.2957337 ],\n",
       "          [ 1.3742629 ],\n",
       "          ...,\n",
       "          [ 0.23558794],\n",
       "          [ 0.15705863],\n",
       "          [ 0.15705863]],\n",
       "\n",
       "         [[ 1.2957337 ],\n",
       "          [ 1.2957337 ],\n",
       "          [ 1.3742629 ],\n",
       "          ...,\n",
       "          [ 0.23558794],\n",
       "          [ 0.15705863],\n",
       "          [ 0.15705863]],\n",
       "\n",
       "         [[ 1.3742629 ],\n",
       "          [ 1.3742629 ],\n",
       "          [ 1.3742629 ],\n",
       "          ...,\n",
       "          [ 0.15705863],\n",
       "          [ 0.11779397],\n",
       "          [ 0.11779397]],\n",
       "\n",
       "         ...,\n",
       "\n",
       "         [[ 0.94235176],\n",
       "          [ 0.94235176],\n",
       "          [ 0.94235176],\n",
       "          ...,\n",
       "          [10.012487  ],\n",
       "          [10.012487  ],\n",
       "          [10.012487  ]],\n",
       "\n",
       "         [[ 0.9030871 ],\n",
       "          [ 0.9030871 ],\n",
       "          [ 0.9030871 ],\n",
       "          ...,\n",
       "          [ 9.973223  ],\n",
       "          [ 9.973223  ],\n",
       "          [ 9.973223  ]],\n",
       "\n",
       "         [[ 0.86382246],\n",
       "          [ 0.86382246],\n",
       "          [ 0.86382246],\n",
       "          ...,\n",
       "          [ 9.973223  ],\n",
       "          [ 9.973223  ],\n",
       "          [ 9.973223  ]]],\n",
       "\n",
       "\n",
       "        [[[ 1.3742629 ],\n",
       "          [ 1.3742629 ],\n",
       "          [ 1.4135276 ],\n",
       "          ...,\n",
       "          [ 0.15705863],\n",
       "          [ 0.07852931],\n",
       "          [ 0.07852931]],\n",
       "\n",
       "         [[ 1.3742629 ],\n",
       "          [ 1.3742629 ],\n",
       "          [ 1.4135276 ],\n",
       "          ...,\n",
       "          [ 0.15705863],\n",
       "          [ 0.07852931],\n",
       "          [ 0.07852931]],\n",
       "\n",
       "         [[ 1.4135276 ],\n",
       "          [ 1.3742629 ],\n",
       "          [ 1.3349984 ],\n",
       "          ...,\n",
       "          [ 0.15705863],\n",
       "          [ 0.11779397],\n",
       "          [ 0.11779397]],\n",
       "\n",
       "         ...,\n",
       "\n",
       "         [[ 0.94235176],\n",
       "          [ 0.94235176],\n",
       "          [ 0.94235176],\n",
       "          ...,\n",
       "          [10.012487  ],\n",
       "          [ 9.973223  ],\n",
       "          [ 9.973223  ]],\n",
       "\n",
       "         [[ 0.9030871 ],\n",
       "          [ 0.9030871 ],\n",
       "          [ 0.9030871 ],\n",
       "          ...,\n",
       "          [ 9.973223  ],\n",
       "          [ 9.894693  ],\n",
       "          [ 9.894693  ]],\n",
       "\n",
       "         [[ 0.86382246],\n",
       "          [ 0.86382246],\n",
       "          [ 0.86382246],\n",
       "          ...,\n",
       "          [ 9.973223  ],\n",
       "          [ 9.894693  ],\n",
       "          [ 9.894693  ]]],\n",
       "\n",
       "\n",
       "        [[[ 1.3742629 ],\n",
       "          [ 1.3742629 ],\n",
       "          [ 1.4527923 ],\n",
       "          ...,\n",
       "          [ 0.15705863],\n",
       "          [ 0.11779397],\n",
       "          [ 0.11779397]],\n",
       "\n",
       "         [[ 1.3742629 ],\n",
       "          [ 1.3742629 ],\n",
       "          [ 1.4527923 ],\n",
       "          ...,\n",
       "          [ 0.15705863],\n",
       "          [ 0.11779397],\n",
       "          [ 0.11779397]],\n",
       "\n",
       "         [[ 1.4135276 ],\n",
       "          [ 1.3742629 ],\n",
       "          [ 1.3742629 ],\n",
       "          ...,\n",
       "          [ 0.15705863],\n",
       "          [ 0.11779397],\n",
       "          [ 0.11779397]],\n",
       "\n",
       "         ...,\n",
       "\n",
       "         [[ 0.98161644],\n",
       "          [ 0.98161644],\n",
       "          [ 0.94235176],\n",
       "          ...,\n",
       "          [10.012487  ],\n",
       "          [ 9.973223  ],\n",
       "          [ 9.973223  ]],\n",
       "\n",
       "         [[ 0.94235176],\n",
       "          [ 0.94235176],\n",
       "          [ 0.9030871 ],\n",
       "          ...,\n",
       "          [ 9.973223  ],\n",
       "          [ 9.894693  ],\n",
       "          [ 9.894693  ]],\n",
       "\n",
       "         [[ 0.9030871 ],\n",
       "          [ 0.9030871 ],\n",
       "          [ 0.86382246],\n",
       "          ...,\n",
       "          [ 9.973223  ],\n",
       "          [ 9.894693  ],\n",
       "          [ 9.894693  ]]],\n",
       "\n",
       "\n",
       "        ...,\n",
       "\n",
       "\n",
       "        [[[ 1.492057  ],\n",
       "          [ 1.492057  ],\n",
       "          [ 1.492057  ],\n",
       "          ...,\n",
       "          [ 0.23558794],\n",
       "          [ 0.2748526 ],\n",
       "          [ 0.19632328]],\n",
       "\n",
       "         [[ 1.492057  ],\n",
       "          [ 1.492057  ],\n",
       "          [ 1.492057  ],\n",
       "          ...,\n",
       "          [ 0.23558794],\n",
       "          [ 0.2748526 ],\n",
       "          [ 0.19632328]],\n",
       "\n",
       "         [[ 1.4527923 ],\n",
       "          [ 1.4527923 ],\n",
       "          [ 1.4135276 ],\n",
       "          ...,\n",
       "          [ 0.19632328],\n",
       "          [ 0.19632328],\n",
       "          [ 0.19632328]],\n",
       "\n",
       "         ...,\n",
       "\n",
       "         [[ 0.98161644],\n",
       "          [ 0.98161644],\n",
       "          [ 0.94235176],\n",
       "          ...,\n",
       "          [ 9.973223  ],\n",
       "          [ 9.973223  ],\n",
       "          [ 9.973223  ]],\n",
       "\n",
       "         [[ 0.98161644],\n",
       "          [ 0.98161644],\n",
       "          [ 0.94235176],\n",
       "          ...,\n",
       "          [ 9.973223  ],\n",
       "          [ 9.973223  ],\n",
       "          [ 9.894693  ]],\n",
       "\n",
       "         [[ 0.98161644],\n",
       "          [ 0.98161644],\n",
       "          [ 0.9030871 ],\n",
       "          ...,\n",
       "          [ 9.973223  ],\n",
       "          [ 9.894693  ],\n",
       "          [ 9.894693  ]]],\n",
       "\n",
       "\n",
       "        [[[ 1.4135276 ],\n",
       "          [ 1.4135276 ],\n",
       "          [ 1.4527923 ],\n",
       "          ...,\n",
       "          [ 0.31411725],\n",
       "          [ 0.39264655],\n",
       "          [ 0.3533819 ]],\n",
       "\n",
       "         [[ 1.4135276 ],\n",
       "          [ 1.4135276 ],\n",
       "          [ 1.4527923 ],\n",
       "          ...,\n",
       "          [ 0.31411725],\n",
       "          [ 0.39264655],\n",
       "          [ 0.3533819 ]],\n",
       "\n",
       "         [[ 1.5313216 ],\n",
       "          [ 1.4527923 ],\n",
       "          [ 1.4135276 ],\n",
       "          ...,\n",
       "          [ 0.2748526 ],\n",
       "          [ 0.19632328],\n",
       "          [ 0.19632328]],\n",
       "\n",
       "         ...,\n",
       "\n",
       "         [[ 0.98161644],\n",
       "          [ 0.98161644],\n",
       "          [ 0.94235176],\n",
       "          ...,\n",
       "          [ 9.973223  ],\n",
       "          [ 9.973223  ],\n",
       "          [ 9.973223  ]],\n",
       "\n",
       "         [[ 0.98161644],\n",
       "          [ 0.98161644],\n",
       "          [ 0.94235176],\n",
       "          ...,\n",
       "          [ 9.973223  ],\n",
       "          [ 9.973223  ],\n",
       "          [ 9.973223  ]],\n",
       "\n",
       "         [[ 0.98161644],\n",
       "          [ 0.98161644],\n",
       "          [ 0.9030871 ],\n",
       "          ...,\n",
       "          [ 9.973223  ],\n",
       "          [ 9.973223  ],\n",
       "          [ 9.894693  ]]],\n",
       "\n",
       "\n",
       "        [[[ 1.5313216 ],\n",
       "          [ 1.4527923 ],\n",
       "          [ 1.492057  ],\n",
       "          ...,\n",
       "          [ 0.31411725],\n",
       "          [ 0.2748526 ],\n",
       "          [ 0.19632328]],\n",
       "\n",
       "         [[ 1.5313216 ],\n",
       "          [ 1.4527923 ],\n",
       "          [ 1.492057  ],\n",
       "          ...,\n",
       "          [ 0.31411725],\n",
       "          [ 0.2748526 ],\n",
       "          [ 0.19632328]],\n",
       "\n",
       "         [[ 1.5313216 ],\n",
       "          [ 1.4527923 ],\n",
       "          [ 1.4135276 ],\n",
       "          ...,\n",
       "          [ 0.31411725],\n",
       "          [ 0.3533819 ],\n",
       "          [ 0.31411725]],\n",
       "\n",
       "         ...,\n",
       "\n",
       "         [[ 0.94235176],\n",
       "          [ 0.94235176],\n",
       "          [ 0.94235176],\n",
       "          ...,\n",
       "          [10.012487  ],\n",
       "          [10.012487  ],\n",
       "          [10.012487  ]],\n",
       "\n",
       "         [[ 0.94235176],\n",
       "          [ 0.94235176],\n",
       "          [ 0.94235176],\n",
       "          ...,\n",
       "          [ 9.973223  ],\n",
       "          [ 9.973223  ],\n",
       "          [ 9.973223  ]],\n",
       "\n",
       "         [[ 0.94235176],\n",
       "          [ 0.94235176],\n",
       "          [ 0.9030871 ],\n",
       "          ...,\n",
       "          [ 9.973223  ],\n",
       "          [ 9.973223  ],\n",
       "          [ 9.894693  ]]]],\n",
       "\n",
       "\n",
       "\n",
       "       [[[[ 1.5643187 ],\n",
       "          [ 1.4576606 ],\n",
       "          [ 1.4221078 ],\n",
       "          ...,\n",
       "          [ 0.35552695],\n",
       "          [ 0.31997427],\n",
       "          [ 0.31997427]],\n",
       "\n",
       "         [[ 1.5998713 ],\n",
       "          [ 1.4576606 ],\n",
       "          [ 1.3865552 ],\n",
       "          ...,\n",
       "          [ 0.35552695],\n",
       "          [ 0.31997427],\n",
       "          [ 0.31997427]],\n",
       "\n",
       "         [[ 1.4576606 ],\n",
       "          [ 1.4576606 ],\n",
       "          [ 1.4576606 ],\n",
       "          ...,\n",
       "          [ 0.42663234],\n",
       "          [ 0.39107966],\n",
       "          [ 0.39107966]],\n",
       "\n",
       "         ...,\n",
       "\n",
       "         [[ 1.0310282 ],\n",
       "          [ 1.0310282 ],\n",
       "          [ 1.0310282 ],\n",
       "          ...,\n",
       "          [ 0.        ],\n",
       "          [ 0.        ],\n",
       "          [ 0.        ]],\n",
       "\n",
       "         [[ 0.9954755 ],\n",
       "          [ 0.9954755 ],\n",
       "          [ 0.9954755 ],\n",
       "          ...,\n",
       "          [ 9.065937  ],\n",
       "          [ 9.030385  ],\n",
       "          [ 9.030385  ]],\n",
       "\n",
       "         [[ 0.9954755 ],\n",
       "          [ 0.9954755 ],\n",
       "          [ 0.9954755 ],\n",
       "          ...,\n",
       "          [ 9.065937  ],\n",
       "          [ 9.030385  ],\n",
       "          [ 9.030385  ]]],\n",
       "\n",
       "\n",
       "        [[[ 1.5643187 ],\n",
       "          [ 1.4932132 ],\n",
       "          [ 1.4576606 ],\n",
       "          ...,\n",
       "          [ 0.31997427],\n",
       "          [ 0.28442156],\n",
       "          [ 0.28442156]],\n",
       "\n",
       "         [[ 1.5287659 ],\n",
       "          [ 1.5287659 ],\n",
       "          [ 1.4576606 ],\n",
       "          ...,\n",
       "          [ 0.31997427],\n",
       "          [ 0.28442156],\n",
       "          [ 0.28442156]],\n",
       "\n",
       "         [[ 1.5287659 ],\n",
       "          [ 1.5287659 ],\n",
       "          [ 1.4576606 ],\n",
       "          ...,\n",
       "          [ 0.35552695],\n",
       "          [ 0.31997427],\n",
       "          [ 0.31997427]],\n",
       "\n",
       "         ...,\n",
       "\n",
       "         [[ 1.0310282 ],\n",
       "          [ 1.0310282 ],\n",
       "          [ 0.9954755 ],\n",
       "          ...,\n",
       "          [ 0.        ],\n",
       "          [ 0.0355527 ],\n",
       "          [ 0.07110539]],\n",
       "\n",
       "         [[ 1.0310282 ],\n",
       "          [ 1.0310282 ],\n",
       "          [ 0.9954755 ],\n",
       "          ...,\n",
       "          [ 9.065937  ],\n",
       "          [ 9.030385  ],\n",
       "          [ 0.        ]],\n",
       "\n",
       "         [[ 1.0310282 ],\n",
       "          [ 1.0310282 ],\n",
       "          [ 0.9954755 ],\n",
       "          ...,\n",
       "          [ 9.065937  ],\n",
       "          [ 9.030385  ],\n",
       "          [ 9.030385  ]]],\n",
       "\n",
       "\n",
       "        [[[ 1.4932132 ],\n",
       "          [ 1.4932132 ],\n",
       "          [ 1.4576606 ],\n",
       "          ...,\n",
       "          [ 0.31997427],\n",
       "          [ 0.31997427],\n",
       "          [ 0.31997427]],\n",
       "\n",
       "         [[ 1.4932132 ],\n",
       "          [ 1.4932132 ],\n",
       "          [ 1.4932132 ],\n",
       "          ...,\n",
       "          [ 0.31997427],\n",
       "          [ 0.31997427],\n",
       "          [ 0.31997427]],\n",
       "\n",
       "         [[ 1.4932132 ],\n",
       "          [ 1.4932132 ],\n",
       "          [ 1.4576606 ],\n",
       "          ...,\n",
       "          [ 0.35552695],\n",
       "          [ 0.31997427],\n",
       "          [ 0.31997427]],\n",
       "\n",
       "         ...,\n",
       "\n",
       "         [[ 1.0310282 ],\n",
       "          [ 1.0310282 ],\n",
       "          [ 0.9954755 ],\n",
       "          ...,\n",
       "          [ 0.0355527 ],\n",
       "          [ 0.07110539],\n",
       "          [ 0.10665809]],\n",
       "\n",
       "         [[ 1.0310282 ],\n",
       "          [ 1.0310282 ],\n",
       "          [ 0.9954755 ],\n",
       "          ...,\n",
       "          [ 9.065937  ],\n",
       "          [ 9.030385  ],\n",
       "          [ 0.        ]],\n",
       "\n",
       "         [[ 1.0310282 ],\n",
       "          [ 1.0310282 ],\n",
       "          [ 0.9954755 ],\n",
       "          ...,\n",
       "          [ 9.065937  ],\n",
       "          [ 9.030385  ],\n",
       "          [ 9.030385  ]]],\n",
       "\n",
       "\n",
       "        ...,\n",
       "\n",
       "\n",
       "        [[[ 1.4932132 ],\n",
       "          [ 1.5643187 ],\n",
       "          [ 1.4576606 ],\n",
       "          ...,\n",
       "          [ 0.31997427],\n",
       "          [ 0.31997427],\n",
       "          [ 0.31997427]],\n",
       "\n",
       "         [[ 1.4932132 ],\n",
       "          [ 1.4932132 ],\n",
       "          [ 1.3865552 ],\n",
       "          ...,\n",
       "          [ 0.31997427],\n",
       "          [ 0.31997427],\n",
       "          [ 0.31997427]],\n",
       "\n",
       "         [[ 1.4221078 ],\n",
       "          [ 1.4221078 ],\n",
       "          [ 1.4221078 ],\n",
       "          ...,\n",
       "          [ 0.24886887],\n",
       "          [ 0.21331617],\n",
       "          [ 0.21331617]],\n",
       "\n",
       "         ...,\n",
       "\n",
       "         [[ 0.9954755 ],\n",
       "          [ 0.9954755 ],\n",
       "          [ 0.9954755 ],\n",
       "          ...,\n",
       "          [ 9.065937  ],\n",
       "          [ 0.        ],\n",
       "          [ 0.        ]],\n",
       "\n",
       "         [[ 0.9954755 ],\n",
       "          [ 0.9954755 ],\n",
       "          [ 0.9954755 ],\n",
       "          ...,\n",
       "          [ 9.065937  ],\n",
       "          [ 9.065937  ],\n",
       "          [ 9.065937  ]],\n",
       "\n",
       "         [[ 0.9954755 ],\n",
       "          [ 0.9954755 ],\n",
       "          [ 0.9954755 ],\n",
       "          ...,\n",
       "          [ 8.994832  ],\n",
       "          [ 8.994832  ],\n",
       "          [ 8.994832  ]]],\n",
       "\n",
       "\n",
       "        [[[ 1.3865552 ],\n",
       "          [ 1.5643187 ],\n",
       "          [ 1.3865552 ],\n",
       "          ...,\n",
       "          [ 0.24886887],\n",
       "          [ 0.24886887],\n",
       "          [ 0.24886887]],\n",
       "\n",
       "         [[ 1.3154497 ],\n",
       "          [ 1.4932132 ],\n",
       "          [ 1.4576606 ],\n",
       "          ...,\n",
       "          [ 0.24886887],\n",
       "          [ 0.24886887],\n",
       "          [ 0.24886887]],\n",
       "\n",
       "         [[ 1.3865552 ],\n",
       "          [ 1.3865552 ],\n",
       "          [ 1.3510025 ],\n",
       "          ...,\n",
       "          [ 0.24886887],\n",
       "          [ 0.24886887],\n",
       "          [ 0.24886887]],\n",
       "\n",
       "         ...,\n",
       "\n",
       "         [[ 0.9954755 ],\n",
       "          [ 0.9954755 ],\n",
       "          [ 0.9954755 ],\n",
       "          ...,\n",
       "          [ 9.065937  ],\n",
       "          [ 9.065937  ],\n",
       "          [ 9.065937  ]],\n",
       "\n",
       "         [[ 0.9954755 ],\n",
       "          [ 0.9954755 ],\n",
       "          [ 0.9954755 ],\n",
       "          ...,\n",
       "          [ 9.065937  ],\n",
       "          [ 9.065937  ],\n",
       "          [ 9.065937  ]],\n",
       "\n",
       "         [[ 0.9954755 ],\n",
       "          [ 0.9954755 ],\n",
       "          [ 0.9954755 ],\n",
       "          ...,\n",
       "          [ 8.994832  ],\n",
       "          [ 8.994832  ],\n",
       "          [ 8.994832  ]]],\n",
       "\n",
       "\n",
       "        [[[ 1.4221078 ],\n",
       "          [ 1.5998713 ],\n",
       "          [ 1.3865552 ],\n",
       "          ...,\n",
       "          [ 0.28442156],\n",
       "          [ 0.31997427],\n",
       "          [ 0.31997427]],\n",
       "\n",
       "         [[ 1.3510025 ],\n",
       "          [ 1.5287659 ],\n",
       "          [ 1.4576606 ],\n",
       "          ...,\n",
       "          [ 0.28442156],\n",
       "          [ 0.31997427],\n",
       "          [ 0.31997427]],\n",
       "\n",
       "         [[ 1.4221078 ],\n",
       "          [ 1.4221078 ],\n",
       "          [ 1.3510025 ],\n",
       "          ...,\n",
       "          [ 0.35552695],\n",
       "          [ 0.24886887],\n",
       "          [ 0.24886887]],\n",
       "\n",
       "         ...,\n",
       "\n",
       "         [[ 0.9954755 ],\n",
       "          [ 0.9954755 ],\n",
       "          [ 0.9954755 ],\n",
       "          ...,\n",
       "          [ 9.065937  ],\n",
       "          [ 0.        ],\n",
       "          [ 0.        ]],\n",
       "\n",
       "         [[ 0.9954755 ],\n",
       "          [ 0.9954755 ],\n",
       "          [ 0.9954755 ],\n",
       "          ...,\n",
       "          [ 9.065937  ],\n",
       "          [ 0.        ],\n",
       "          [ 0.        ]],\n",
       "\n",
       "         [[ 0.9954755 ],\n",
       "          [ 0.9954755 ],\n",
       "          [ 0.9954755 ],\n",
       "          ...,\n",
       "          [ 9.065937  ],\n",
       "          [ 0.        ],\n",
       "          [ 0.        ]]]]], dtype=float32)"
      ]
     },
     "execution_count": 21,
     "metadata": {},
     "output_type": "execute_result"
    }
   ],
   "source": [
    "test = dataset.as_numpy_iterator()\n",
    "val=test.next()\n",
    "val[0]"
   ]
  },
  {
   "cell_type": "code",
   "execution_count": 22,
   "metadata": {
    "ExecuteTime": {
     "end_time": "2023-08-18T12:43:55.404733900Z",
     "start_time": "2023-08-18T12:43:55.060739700Z"
    }
   },
   "outputs": [
    {
     "name": "stderr",
     "output_type": "stream",
     "text": [
      "Lossy conversion from float32 to uint8. Range [0.0, 9.065937042236328]. Convert image to uint8 prior to saving to suppress this warning.\n",
      "Lossy conversion from float32 to uint8. Range [0.0, 9.065937042236328]. Convert image to uint8 prior to saving to suppress this warning.\n",
      "Lossy conversion from float32 to uint8. Range [0.0, 9.065937042236328]. Convert image to uint8 prior to saving to suppress this warning.\n",
      "Lossy conversion from float32 to uint8. Range [0.0, 9.065937042236328]. Convert image to uint8 prior to saving to suppress this warning.\n",
      "Lossy conversion from float32 to uint8. Range [0.0, 9.065937042236328]. Convert image to uint8 prior to saving to suppress this warning.\n",
      "Lossy conversion from float32 to uint8. Range [0.0, 9.065937042236328]. Convert image to uint8 prior to saving to suppress this warning.\n",
      "Lossy conversion from float32 to uint8. Range [0.0, 9.065937042236328]. Convert image to uint8 prior to saving to suppress this warning.\n",
      "Lossy conversion from float32 to uint8. Range [0.0, 9.065937042236328]. Convert image to uint8 prior to saving to suppress this warning.\n",
      "Lossy conversion from float32 to uint8. Range [0.0, 9.065937042236328]. Convert image to uint8 prior to saving to suppress this warning.\n",
      "Lossy conversion from float32 to uint8. Range [0.0, 9.065937042236328]. Convert image to uint8 prior to saving to suppress this warning.\n",
      "Lossy conversion from float32 to uint8. Range [0.0, 9.065937042236328]. Convert image to uint8 prior to saving to suppress this warning.\n",
      "Lossy conversion from float32 to uint8. Range [0.0, 9.065937042236328]. Convert image to uint8 prior to saving to suppress this warning.\n",
      "Lossy conversion from float32 to uint8. Range [0.0, 9.065937042236328]. Convert image to uint8 prior to saving to suppress this warning.\n",
      "Lossy conversion from float32 to uint8. Range [0.0, 9.065937042236328]. Convert image to uint8 prior to saving to suppress this warning.\n",
      "Lossy conversion from float32 to uint8. Range [0.0, 9.065937042236328]. Convert image to uint8 prior to saving to suppress this warning.\n",
      "Lossy conversion from float32 to uint8. Range [0.0, 9.065937042236328]. Convert image to uint8 prior to saving to suppress this warning.\n",
      "Lossy conversion from float32 to uint8. Range [0.0, 9.065937042236328]. Convert image to uint8 prior to saving to suppress this warning.\n",
      "Lossy conversion from float32 to uint8. Range [0.0, 9.065937042236328]. Convert image to uint8 prior to saving to suppress this warning.\n",
      "Lossy conversion from float32 to uint8. Range [0.0, 9.065937042236328]. Convert image to uint8 prior to saving to suppress this warning.\n",
      "Lossy conversion from float32 to uint8. Range [0.0, 9.065937042236328]. Convert image to uint8 prior to saving to suppress this warning.\n",
      "Lossy conversion from float32 to uint8. Range [0.0, 9.065937042236328]. Convert image to uint8 prior to saving to suppress this warning.\n",
      "Lossy conversion from float32 to uint8. Range [0.0, 9.065937042236328]. Convert image to uint8 prior to saving to suppress this warning.\n",
      "Lossy conversion from float32 to uint8. Range [0.0, 9.065937042236328]. Convert image to uint8 prior to saving to suppress this warning.\n",
      "Lossy conversion from float32 to uint8. Range [0.0, 9.065937042236328]. Convert image to uint8 prior to saving to suppress this warning.\n",
      "Lossy conversion from float32 to uint8. Range [0.0, 9.065937042236328]. Convert image to uint8 prior to saving to suppress this warning.\n",
      "Lossy conversion from float32 to uint8. Range [0.0, 9.065937042236328]. Convert image to uint8 prior to saving to suppress this warning.\n",
      "Lossy conversion from float32 to uint8. Range [0.0, 9.065937042236328]. Convert image to uint8 prior to saving to suppress this warning.\n",
      "Lossy conversion from float32 to uint8. Range [0.0, 9.065937042236328]. Convert image to uint8 prior to saving to suppress this warning.\n",
      "Lossy conversion from float32 to uint8. Range [0.0, 9.065937042236328]. Convert image to uint8 prior to saving to suppress this warning.\n",
      "Lossy conversion from float32 to uint8. Range [0.0, 9.065937042236328]. Convert image to uint8 prior to saving to suppress this warning.\n",
      "Lossy conversion from float32 to uint8. Range [0.0, 9.065937042236328]. Convert image to uint8 prior to saving to suppress this warning.\n",
      "Lossy conversion from float32 to uint8. Range [0.0, 9.065937042236328]. Convert image to uint8 prior to saving to suppress this warning.\n",
      "Lossy conversion from float32 to uint8. Range [0.0, 9.065937042236328]. Convert image to uint8 prior to saving to suppress this warning.\n",
      "Lossy conversion from float32 to uint8. Range [0.0, 9.065937042236328]. Convert image to uint8 prior to saving to suppress this warning.\n",
      "Lossy conversion from float32 to uint8. Range [0.0, 9.065937042236328]. Convert image to uint8 prior to saving to suppress this warning.\n",
      "Lossy conversion from float32 to uint8. Range [0.0, 9.065937042236328]. Convert image to uint8 prior to saving to suppress this warning.\n",
      "Lossy conversion from float32 to uint8. Range [0.0, 9.065937042236328]. Convert image to uint8 prior to saving to suppress this warning.\n",
      "Lossy conversion from float32 to uint8. Range [0.0, 9.065937042236328]. Convert image to uint8 prior to saving to suppress this warning.\n",
      "Lossy conversion from float32 to uint8. Range [0.0, 9.065937042236328]. Convert image to uint8 prior to saving to suppress this warning.\n",
      "Lossy conversion from float32 to uint8. Range [0.0, 9.065937042236328]. Convert image to uint8 prior to saving to suppress this warning.\n",
      "Lossy conversion from float32 to uint8. Range [0.0, 9.065937042236328]. Convert image to uint8 prior to saving to suppress this warning.\n",
      "Lossy conversion from float32 to uint8. Range [0.0, 9.065937042236328]. Convert image to uint8 prior to saving to suppress this warning.\n",
      "Lossy conversion from float32 to uint8. Range [0.0, 9.065937042236328]. Convert image to uint8 prior to saving to suppress this warning.\n",
      "Lossy conversion from float32 to uint8. Range [0.0, 9.065937042236328]. Convert image to uint8 prior to saving to suppress this warning.\n",
      "Lossy conversion from float32 to uint8. Range [0.0, 9.065937042236328]. Convert image to uint8 prior to saving to suppress this warning.\n",
      "Lossy conversion from float32 to uint8. Range [0.0, 9.065937042236328]. Convert image to uint8 prior to saving to suppress this warning.\n",
      "Lossy conversion from float32 to uint8. Range [0.0, 9.065937042236328]. Convert image to uint8 prior to saving to suppress this warning.\n",
      "Lossy conversion from float32 to uint8. Range [0.0, 9.065937042236328]. Convert image to uint8 prior to saving to suppress this warning.\n",
      "Lossy conversion from float32 to uint8. Range [0.0, 9.065937042236328]. Convert image to uint8 prior to saving to suppress this warning.\n",
      "Lossy conversion from float32 to uint8. Range [0.0, 9.065937042236328]. Convert image to uint8 prior to saving to suppress this warning.\n",
      "Lossy conversion from float32 to uint8. Range [0.0, 9.065937042236328]. Convert image to uint8 prior to saving to suppress this warning.\n",
      "Lossy conversion from float32 to uint8. Range [0.0, 9.065937042236328]. Convert image to uint8 prior to saving to suppress this warning.\n",
      "Lossy conversion from float32 to uint8. Range [0.0, 9.065937042236328]. Convert image to uint8 prior to saving to suppress this warning.\n",
      "Lossy conversion from float32 to uint8. Range [0.0, 9.065937042236328]. Convert image to uint8 prior to saving to suppress this warning.\n",
      "Lossy conversion from float32 to uint8. Range [0.0, 9.065937042236328]. Convert image to uint8 prior to saving to suppress this warning.\n",
      "Lossy conversion from float32 to uint8. Range [0.0, 9.065937042236328]. Convert image to uint8 prior to saving to suppress this warning.\n",
      "Lossy conversion from float32 to uint8. Range [0.0, 9.065937042236328]. Convert image to uint8 prior to saving to suppress this warning.\n",
      "Lossy conversion from float32 to uint8. Range [0.0, 9.065937042236328]. Convert image to uint8 prior to saving to suppress this warning.\n",
      "Lossy conversion from float32 to uint8. Range [0.0, 9.065937042236328]. Convert image to uint8 prior to saving to suppress this warning.\n",
      "Lossy conversion from float32 to uint8. Range [0.0, 9.065937042236328]. Convert image to uint8 prior to saving to suppress this warning.\n",
      "Lossy conversion from float32 to uint8. Range [0.0, 9.065937042236328]. Convert image to uint8 prior to saving to suppress this warning.\n",
      "Lossy conversion from float32 to uint8. Range [0.0, 9.065937042236328]. Convert image to uint8 prior to saving to suppress this warning.\n",
      "Lossy conversion from float32 to uint8. Range [0.0, 9.065937042236328]. Convert image to uint8 prior to saving to suppress this warning.\n",
      "Lossy conversion from float32 to uint8. Range [0.0, 9.065937042236328]. Convert image to uint8 prior to saving to suppress this warning.\n",
      "Lossy conversion from float32 to uint8. Range [0.0, 9.065937042236328]. Convert image to uint8 prior to saving to suppress this warning.\n",
      "Lossy conversion from float32 to uint8. Range [0.0, 9.065937042236328]. Convert image to uint8 prior to saving to suppress this warning.\n",
      "Lossy conversion from float32 to uint8. Range [0.0, 9.065937042236328]. Convert image to uint8 prior to saving to suppress this warning.\n",
      "Lossy conversion from float32 to uint8. Range [0.0, 9.065937042236328]. Convert image to uint8 prior to saving to suppress this warning.\n",
      "Lossy conversion from float32 to uint8. Range [0.0, 9.065937042236328]. Convert image to uint8 prior to saving to suppress this warning.\n",
      "Lossy conversion from float32 to uint8. Range [0.0, 9.065937042236328]. Convert image to uint8 prior to saving to suppress this warning.\n",
      "Lossy conversion from float32 to uint8. Range [0.0, 9.065937042236328]. Convert image to uint8 prior to saving to suppress this warning.\n",
      "Lossy conversion from float32 to uint8. Range [0.0, 9.065937042236328]. Convert image to uint8 prior to saving to suppress this warning.\n",
      "Lossy conversion from float32 to uint8. Range [0.0, 9.065937042236328]. Convert image to uint8 prior to saving to suppress this warning.\n",
      "Lossy conversion from float32 to uint8. Range [0.0, 9.065937042236328]. Convert image to uint8 prior to saving to suppress this warning.\n",
      "Lossy conversion from float32 to uint8. Range [0.0, 9.065937042236328]. Convert image to uint8 prior to saving to suppress this warning.\n"
     ]
    }
   ],
   "source": [
    "# Additionally, we can export the gif of the video\n",
    "imageio.mimsave('test.gif', val[0][1])"
   ]
  },
  {
   "cell_type": "code",
   "execution_count": 23,
   "metadata": {
    "ExecuteTime": {
     "end_time": "2023-08-18T12:43:59.120991200Z",
     "start_time": "2023-08-18T12:43:58.993827200Z"
    }
   },
   "outputs": [
    {
     "data": {
      "text/plain": [
       "<matplotlib.image.AxesImage at 0x18a47a0ecd0>"
      ]
     },
     "execution_count": 23,
     "metadata": {},
     "output_type": "execute_result"
    },
    {
     "data": {
      "image/png": "[encoded data removed]",
      "text/plain": [
       "<Figure size 640x480 with 1 Axes>"
      ]
     },
     "metadata": {},
     "output_type": "display_data"
    }
   ],
   "source": [
    "plt.imshow(val[0][0][35])\n",
    "# 0 : videos, 0 : first video, 1 : second fram"
   ]
  },
  {
   "cell_type": "code",
   "execution_count": 24,
   "metadata": {
    "ExecuteTime": {
     "end_time": "2023-08-18T12:44:00.028630Z",
     "start_time": "2023-08-18T12:44:00.012012600Z"
    }
   },
   "outputs": [
    {
     "data": {
      "text/plain": [
       "'set blue in a three again'"
      ]
     },
     "execution_count": 24,
     "metadata": {},
     "output_type": "execute_result"
    }
   ],
   "source": [
    "alignments_to_text(val[1][0])"
   ]
  },
  {
   "cell_type": "markdown",
   "metadata": {},
   "source": [
    "## 3. Building the deep neural network"
   ]
  },
  {
   "cell_type": "code",
   "execution_count": null,
   "metadata": {},
   "outputs": [],
   "source": []
  },
  {
   "cell_type": "code",
   "execution_count": 45,
   "metadata": {
    "ExecuteTime": {
     "end_time": "2023-08-16T19:36:05.370960700Z",
     "start_time": "2023-08-16T19:35:56.988667100Z"
    }
   },
   "outputs": [
    {
     "name": "stdout",
     "output_type": "stream",
     "text": [
      "Requirement already satisfied: tensorflow==2.8 in c:\\users\\aitay\\anaconda3\\lib\\site-packages (2.8.0)\n",
      "Requirement already satisfied: absl-py>=0.4.0 in c:\\users\\aitay\\anaconda3\\lib\\site-packages (from tensorflow==2.8) (1.4.0)\n",
      "Requirement already satisfied: flatbuffers>=1.12 in c:\\users\\aitay\\anaconda3\\lib\\site-packages (from tensorflow==2.8) (23.5.26)\n",
      "Requirement already satisfied: gast>=0.2.1 in c:\\users\\aitay\\anaconda3\\lib\\site-packages (from tensorflow==2.8) (0.4.0)\n",
      "Requirement already satisfied: tensorboard<2.9,>=2.8 in c:\\users\\aitay\\anaconda3\\lib\\site-packages (from tensorflow==2.8) (2.8.0)\n",
      "Requirement already satisfied: grpcio<2.0,>=1.24.3 in c:\\users\\aitay\\anaconda3\\lib\\site-packages (from tensorflow==2.8) (1.56.2)\n",
      "Requirement already satisfied: tensorflow-io-gcs-filesystem>=0.23.1 in c:\\users\\aitay\\anaconda3\\lib\\site-packages (from tensorflow==2.8) (0.31.0)\n",
      "Requirement already satisfied: astunparse>=1.6.0 in c:\\users\\aitay\\anaconda3\\lib\\site-packages (from tensorflow==2.8) (1.6.3)\n",
      "Requirement already satisfied: h5py>=2.9.0 in c:\\users\\aitay\\anaconda3\\lib\\site-packages (from tensorflow==2.8) (3.7.0)\n",
      "Requirement already satisfied: setuptools in c:\\users\\aitay\\anaconda3\\lib\\site-packages (from tensorflow==2.8) (65.6.3)\n",
      "Requirement already satisfied: termcolor>=1.1.0 in c:\\users\\aitay\\anaconda3\\lib\\site-packages (from tensorflow==2.8) (2.3.0)\n",
      "Requirement already satisfied: libclang>=9.0.1 in c:\\users\\aitay\\anaconda3\\lib\\site-packages (from tensorflow==2.8) (16.0.6)\n",
      "Requirement already satisfied: protobuf>=3.9.2 in c:\\users\\aitay\\anaconda3\\lib\\site-packages (from tensorflow==2.8) (3.20.3)\n",
      "Requirement already satisfied: google-pasta>=0.1.1 in c:\\users\\aitay\\anaconda3\\lib\\site-packages (from tensorflow==2.8) (0.2.0)\n",
      "Requirement already satisfied: numpy>=1.20 in c:\\users\\aitay\\anaconda3\\lib\\site-packages (from tensorflow==2.8) (1.23.5)\n",
      "Requirement already satisfied: keras<2.9,>=2.8.0rc0 in c:\\users\\aitay\\anaconda3\\lib\\site-packages (from tensorflow==2.8) (2.8.0)\n",
      "Requirement already satisfied: wrapt>=1.11.0 in c:\\users\\aitay\\anaconda3\\lib\\site-packages (from tensorflow==2.8) (1.14.1)\n",
      "Requirement already satisfied: typing-extensions>=3.6.6 in c:\\users\\aitay\\anaconda3\\lib\\site-packages (from tensorflow==2.8) (4.4.0)\n",
      "Requirement already satisfied: keras-preprocessing>=1.1.1 in c:\\users\\aitay\\anaconda3\\lib\\site-packages (from tensorflow==2.8) (1.1.2)\n",
      "Requirement already satisfied: six>=1.12.0 in c:\\users\\aitay\\anaconda3\\lib\\site-packages (from tensorflow==2.8) (1.16.0)\n",
      "Requirement already satisfied: tf-estimator-nightly==2.8.0.dev2021122109 in c:\\users\\aitay\\anaconda3\\lib\\site-packages (from tensorflow==2.8) (2.8.0.dev2021122109)\n",
      "Requirement already satisfied: opt-einsum>=2.3.2 in c:\\users\\aitay\\anaconda3\\lib\\site-packages (from tensorflow==2.8) (3.3.0)\n",
      "Requirement already satisfied: wheel<1.0,>=0.23.0 in c:\\users\\aitay\\anaconda3\\lib\\site-packages (from astunparse>=1.6.0->tensorflow==2.8) (0.38.4)\n",
      "Requirement already satisfied: google-auth<3,>=1.6.3 in c:\\users\\aitay\\anaconda3\\lib\\site-packages (from tensorboard<2.9,>=2.8->tensorflow==2.8) (2.22.0)\n",
      "Requirement already satisfied: google-auth-oauthlib<0.5,>=0.4.1 in c:\\users\\aitay\\anaconda3\\lib\\site-packages (from tensorboard<2.9,>=2.8->tensorflow==2.8) (0.4.6)\n",
      "Requirement already satisfied: requests<3,>=2.21.0 in c:\\users\\aitay\\anaconda3\\lib\\site-packages (from tensorboard<2.9,>=2.8->tensorflow==2.8) (2.28.1)\n",
      "Requirement already satisfied: markdown>=2.6.8 in c:\\users\\aitay\\anaconda3\\lib\\site-packages (from tensorboard<2.9,>=2.8->tensorflow==2.8) (3.4.1)\n",
      "Requirement already satisfied: werkzeug>=0.11.15 in c:\\users\\aitay\\anaconda3\\lib\\site-packages (from tensorboard<2.9,>=2.8->tensorflow==2.8) (2.2.2)\n",
      "Requirement already satisfied: tensorboard-data-server<0.7.0,>=0.6.0 in c:\\users\\aitay\\anaconda3\\lib\\site-packages (from tensorboard<2.9,>=2.8->tensorflow==2.8) (0.6.1)\n",
      "Requirement already satisfied: tensorboard-plugin-wit>=1.6.0 in c:\\users\\aitay\\anaconda3\\lib\\site-packages (from tensorboard<2.9,>=2.8->tensorflow==2.8) (1.8.1)\n",
      "Requirement already satisfied: rsa<5,>=3.1.4 in c:\\users\\aitay\\anaconda3\\lib\\site-packages (from google-auth<3,>=1.6.3->tensorboard<2.9,>=2.8->tensorflow==2.8) (4.9)\n",
      "Requirement already satisfied: cachetools<6.0,>=2.0.0 in c:\\users\\aitay\\anaconda3\\lib\\site-packages (from google-auth<3,>=1.6.3->tensorboard<2.9,>=2.8->tensorflow==2.8) (5.3.1)\n",
      "Requirement already satisfied: pyasn1-modules>=0.2.1 in c:\\users\\aitay\\anaconda3\\lib\\site-packages (from google-auth<3,>=1.6.3->tensorboard<2.9,>=2.8->tensorflow==2.8) (0.2.8)\n",
      "Requirement already satisfied: urllib3<2.0 in c:\\users\\aitay\\anaconda3\\lib\\site-packages (from google-auth<3,>=1.6.3->tensorboard<2.9,>=2.8->tensorflow==2.8) (1.26.14)\n",
      "Requirement already satisfied: requests-oauthlib>=0.7.0 in c:\\users\\aitay\\anaconda3\\lib\\site-packages (from google-auth-oauthlib<0.5,>=0.4.1->tensorboard<2.9,>=2.8->tensorflow==2.8) (1.3.1)\n",
      "Requirement already satisfied: charset-normalizer<3,>=2 in c:\\users\\aitay\\anaconda3\\lib\\site-packages (from requests<3,>=2.21.0->tensorboard<2.9,>=2.8->tensorflow==2.8) (2.0.4)\n",
      "Requirement already satisfied: certifi>=2017.4.17 in c:\\users\\aitay\\anaconda3\\lib\\site-packages (from requests<3,>=2.21.0->tensorboard<2.9,>=2.8->tensorflow==2.8) (2023.5.7)\n",
      "Requirement already satisfied: idna<4,>=2.5 in c:\\users\\aitay\\anaconda3\\lib\\site-packages (from requests<3,>=2.21.0->tensorboard<2.9,>=2.8->tensorflow==2.8) (3.4)\n",
      "Requirement already satisfied: MarkupSafe>=2.1.1 in c:\\users\\aitay\\anaconda3\\lib\\site-packages (from werkzeug>=0.11.15->tensorboard<2.9,>=2.8->tensorflow==2.8) (2.1.1)\n",
      "Requirement already satisfied: pyasn1<0.5.0,>=0.4.6 in c:\\users\\aitay\\anaconda3\\lib\\site-packages (from pyasn1-modules>=0.2.1->google-auth<3,>=1.6.3->tensorboard<2.9,>=2.8->tensorflow==2.8) (0.4.8)\n",
      "Requirement already satisfied: oauthlib>=3.0.0 in c:\\users\\aitay\\anaconda3\\lib\\site-packages (from requests-oauthlib>=0.7.0->google-auth-oauthlib<0.5,>=0.4.1->tensorboard<2.9,>=2.8->tensorflow==2.8) (3.2.2)\n",
      "Note: you may need to restart the kernel to use updated packages.\n"
     ]
    }
   ],
   "source": [
    "pip install tensorflow==2.8"
   ]
  },
  {
   "cell_type": "code",
   "execution_count": 25,
   "metadata": {
    "ExecuteTime": {
     "end_time": "2023-08-18T12:44:04.365381500Z",
     "start_time": "2023-08-18T12:44:04.341702300Z"
    }
   },
   "outputs": [],
   "source": [
    "from tensorflow.keras.models import Sequential\n",
    "from tensorflow.keras.layers import Conv3D, LSTM, Dense, Dropout, Bidirectional, MaxPool3D, Activation, Reshape, SpatialDropout3D, BatchNormalization, TimeDistributed, Flatten\n",
    "from tensorflow.keras.optimizers import Adam\n",
    "from tensorflow.keras.callbacks import ModelCheckpoint, LearningRateScheduler"
   ]
  },
  {
   "cell_type": "code",
   "execution_count": 26,
   "metadata": {
    "ExecuteTime": {
     "end_time": "2023-08-18T12:44:08.952484900Z",
     "start_time": "2023-08-18T12:44:05.073827600Z"
    }
   },
   "outputs": [
    {
     "name": "stdout",
     "output_type": "stream",
     "text": [
      "WARNING:tensorflow:vocab_size is deprecated, please use vocabulary_size.\n"
     ]
    }
   ],
   "source": [
    "model = Sequential()\n",
    "model.add(Conv3D(128, 3, padding='same', input_shape=(75,46,140,1)))\n",
    "model.add(Activation('relu'))\n",
    "model.add(MaxPool3D((1,2,2)))\n",
    "\n",
    "model.add(Conv3D(256, 3, padding='same'))\n",
    "model.add(Activation('relu'))\n",
    "model.add(MaxPool3D((1,2,2)))\n",
    "\n",
    "model.add(Conv3D(75, 3, padding='same'))\n",
    "model.add(Activation('relu'))\n",
    "model.add(MaxPool3D((1,2,2)))\n",
    "\n",
    "model.add(TimeDistributed(Flatten()))\n",
    "\n",
    "model.add(Bidirectional(LSTM(128, kernel_initializer='Orthogonal', return_sequences=True)))\n",
    "model.add(Dropout(.5))\n",
    "\n",
    "model.add(Bidirectional(LSTM(128, kernel_initializer='Orthogonal', return_sequences=True)))\n",
    "model.add(Dropout(.5))\n",
    "\n",
    "model.add(Dense(char_to_num.vocab_size()+1, kernel_initializer='he_normal', activation='softmax'))"
   ]
  },
  {
   "cell_type": "code",
   "execution_count": 27,
   "metadata": {
    "ExecuteTime": {
     "end_time": "2023-08-18T12:44:08.976869100Z",
     "start_time": "2023-08-18T12:44:08.921779800Z"
    }
   },
   "outputs": [
    {
     "name": "stdout",
     "output_type": "stream",
     "text": [
      "Model: \"sequential\"\n",
      "_________________________________________________________________\n",
      " Layer (type)                Output Shape              Param #   \n",
      "=================================================================\n",
      " conv3d (Conv3D)             (None, 75, 46, 140, 128   3584      \n",
      "                             )                                   \n",
      "                                                                 \n",
      " activation (Activation)     (None, 75, 46, 140, 128   0         \n",
      "                             )                                   \n",
      "                                                                 \n",
      " max_pooling3d (MaxPooling3  (None, 75, 23, 70, 128)   0         \n",
      " D)                                                              \n",
      "                                                                 \n",
      " conv3d_1 (Conv3D)           (None, 75, 23, 70, 256)   884992    \n",
      "                                                                 \n",
      " activation_1 (Activation)   (None, 75, 23, 70, 256)   0         \n",
      "                                                                 \n",
      " max_pooling3d_1 (MaxPoolin  (None, 75, 11, 35, 256)   0         \n",
      " g3D)                                                            \n",
      "                                                                 \n",
      " conv3d_2 (Conv3D)           (None, 75, 11, 35, 75)    518475    \n",
      "                                                                 \n",
      " activation_2 (Activation)   (None, 75, 11, 35, 75)    0         \n",
      "                                                                 \n",
      " max_pooling3d_2 (MaxPoolin  (None, 75, 5, 17, 75)     0         \n",
      " g3D)                                                            \n",
      "                                                                 \n",
      " time_distributed (TimeDist  (None, 75, 6375)          0         \n",
      " ributed)                                                        \n",
      "                                                                 \n",
      " bidirectional (Bidirection  (None, 75, 256)           6660096   \n",
      " al)                                                             \n",
      "                                                                 \n",
      " dropout (Dropout)           (None, 75, 256)           0         \n",
      "                                                                 \n",
      " bidirectional_1 (Bidirecti  (None, 75, 256)           394240    \n",
      " onal)                                                           \n",
      "                                                                 \n",
      " dropout_1 (Dropout)         (None, 75, 256)           0         \n",
      "                                                                 \n",
      " dense (Dense)               (None, 75, 41)            10537     \n",
      "                                                                 \n",
      "=================================================================\n",
      "Total params: 8471924 (32.32 MB)\n",
      "Trainable params: 8471924 (32.32 MB)\n",
      "Non-trainable params: 0 (0.00 Byte)\n",
      "_________________________________________________________________\n"
     ]
    }
   ],
   "source": [
    "model.summary()"
   ]
  },
  {
   "cell_type": "code",
   "execution_count": 28,
   "metadata": {
    "ExecuteTime": {
     "end_time": "2023-08-18T12:44:16.977568100Z",
     "start_time": "2023-08-18T12:44:12.847079800Z"
    }
   },
   "outputs": [
    {
     "name": "stdout",
     "output_type": "stream",
     "text": [
      "1/1 [==============================] - 4s 4s/step\n"
     ]
    }
   ],
   "source": [
    "# Testing without training\n",
    "yhat = model.predict(val[0])"
   ]
  },
  {
   "cell_type": "code",
   "execution_count": 29,
   "metadata": {
    "ExecuteTime": {
     "end_time": "2023-08-18T12:44:17.770757Z",
     "start_time": "2023-08-18T12:44:17.758943400Z"
    }
   },
   "outputs": [
    {
     "data": {
      "text/plain": [
       "'        99999999999999999999999999999999999999999                9999999999'"
      ]
     },
     "execution_count": 29,
     "metadata": {},
     "output_type": "execute_result"
    }
   ],
   "source": [
    "tf.strings.reduce_join(num_to_char(tf.argmax(yhat[0], axis=1))).numpy().decode('utf-8')"
   ]
  },
  {
   "cell_type": "code",
   "execution_count": 30,
   "metadata": {
    "ExecuteTime": {
     "end_time": "2023-08-18T12:44:19.247169800Z",
     "start_time": "2023-08-18T12:44:19.230070600Z"
    }
   },
   "outputs": [
    {
     "data": {
      "text/plain": [
       "<tf.Tensor: shape=(75,), dtype=int64, numpy=\n",
       "array([39, 39, 39, 39, 39, 39, 39, 39, 36, 36, 36, 36, 36, 36, 36, 36, 36,\n",
       "       36, 36, 36, 36, 36, 36, 36, 36, 36, 36, 36, 36, 36, 36, 36, 36, 36,\n",
       "       36, 36, 36, 36, 36, 36, 36, 36, 36, 36, 36, 36, 36, 36, 36, 39, 39,\n",
       "       39, 39, 39, 39, 39, 39, 39, 39, 39, 39, 39, 39, 39, 39, 36, 36, 36,\n",
       "       36, 36, 36, 36, 36, 36, 36], dtype=int64)>"
      ]
     },
     "execution_count": 30,
     "metadata": {},
     "output_type": "execute_result"
    }
   ],
   "source": [
    "tf.argmax(yhat[0], axis=1)"
   ]
  },
  {
   "cell_type": "markdown",
   "metadata": {},
   "source": [
    "## 4. Training the model (setting up the options)"
   ]
  },
  {
   "cell_type": "code",
   "execution_count": 31,
   "metadata": {
    "ExecuteTime": {
     "end_time": "2023-08-18T12:44:21.391051100Z",
     "start_time": "2023-08-18T12:44:21.384560900Z"
    }
   },
   "outputs": [],
   "source": [
    "def scheduler(epoch, lr):\n",
    "    if epoch < 30 :\n",
    "        return lr\n",
    "    else:\n",
    "        return lr * tf.math.exp(-0.1)"
   ]
  },
  {
   "cell_type": "code",
   "execution_count": 32,
   "metadata": {
    "ExecuteTime": {
     "end_time": "2023-08-18T12:44:21.796903500Z",
     "start_time": "2023-08-18T12:44:21.788600900Z"
    }
   },
   "outputs": [],
   "source": [
    "def CTCLoss(y_true, y_pred):\n",
    "    batch_len = tf.cast(tf.shape(y_true)[0], dtype='int64')\n",
    "    input_length = tf.cast(tf.shape(y_pred)[1], dtype='int64')\n",
    "    label_length = tf.cast(tf.shape(y_true)[1], dtype='int64')\n",
    "\n",
    "    input_length = input_length * tf.ones(shape=(batch_len, 1), dtype='int64')\n",
    "    label_length = label_length * tf.ones(shape=(batch_len, 1), dtype='int64')\n",
    "\n",
    "    loss = tf.keras.backend.ctc_batch_cost(y_true, y_pred, input_length, label_length)\n",
    "    return loss"
   ]
  },
  {
   "cell_type": "code",
   "execution_count": 33,
   "metadata": {
    "ExecuteTime": {
     "end_time": "2023-08-18T12:44:22.356730900Z",
     "start_time": "2023-08-18T12:44:22.351231100Z"
    }
   },
   "outputs": [],
   "source": [
    "class ProduceExample(tf.keras.callbacks.Callback):\n",
    "    def __init__(self, dataset) -> None:\n",
    "        self.dataset = dataset\n",
    "        #self.dataset = dataset.as_numpy_iterator()\n",
    "\n",
    "    def on_epoch_end(self, epoch, logs=None) -> None:\n",
    "        data = self.dataset.next()\n",
    "        yhat = self.model.predict(data[0])\n",
    "        decoded = tf.keras.backend.ctc_decode(yhat, [75,75], greedy=False)[0][0].numpy()\n",
    "        for i in range(len(yhat)):\n",
    "            print(f'Predicted: {alignments_to_text(decoded[i])}')\n",
    "            print(f'Actual: {alignments_to_text(data[1][i])}')\n",
    "            print('-------------------')"
   ]
  },
  {
   "cell_type": "code",
   "execution_count": 34,
   "metadata": {
    "ExecuteTime": {
     "end_time": "2023-08-18T12:44:23.357174800Z",
     "start_time": "2023-08-18T12:44:23.332264800Z"
    }
   },
   "outputs": [],
   "source": [
    "# Compile the model\n",
    "model.compile(optimizer=Adam(learning_rate=1e-3), loss=CTCLoss)"
   ]
  },
  {
   "cell_type": "code",
   "execution_count": 35,
   "metadata": {
    "ExecuteTime": {
     "end_time": "2023-08-18T12:44:23.652031200Z",
     "start_time": "2023-08-18T12:44:23.645285600Z"
    }
   },
   "outputs": [],
   "source": [
    "# Create the callbacks\n",
    "checkpoint = ModelCheckpoint(os.path.join('models','checkpoint'), monitor='val_loss', save_best_only=True, save_weights_only=True)"
   ]
  },
  {
   "cell_type": "code",
   "execution_count": 36,
   "metadata": {
    "ExecuteTime": {
     "end_time": "2023-08-18T12:44:24.232597200Z",
     "start_time": "2023-08-18T12:44:24.223934800Z"
    }
   },
   "outputs": [],
   "source": [
    "schedule_callback = LearningRateScheduler(scheduler)"
   ]
  },
  {
   "cell_type": "code",
   "execution_count": 37,
   "metadata": {
    "ExecuteTime": {
     "end_time": "2023-08-18T12:44:24.669973400Z",
     "start_time": "2023-08-18T12:44:24.661630Z"
    }
   },
   "outputs": [],
   "source": [
    "example_callback = ProduceExample(test) #How well the model is doing"
   ]
  },
  {
   "cell_type": "code",
   "execution_count": null,
   "metadata": {
    "is_executing": true
   },
   "outputs": [],
   "source": [
    "# Train the model\n",
    "model.fit(train_dataset, validation_data=test_dataset, epochs=50, callbacks=[checkpoint,schedule_callback,example_callback] )"
   ]
  },
  {
   "cell_type": "markdown",
   "metadata": {},
   "source": [
    "## 5. Making predictions"
   ]
  },
  {
   "cell_type": "code",
   "execution_count": null,
   "metadata": {},
   "outputs": [],
   "source": [
    " url = 'https://drive.google.com/uc?id=1vWscXs4Vt0a_1IH1-ct2TCgXAZT-N3_Y'\n",
    "output = 'checkpoints.zip'\n",
    "gdown.download(url, output, quiet=False)\n",
    "gdown.extractall('checkpoints.zip', 'models')"
   ]
  },
  {
   "cell_type": "code",
   "execution_count": null,
   "metadata": {},
   "outputs": [],
   "source": [
    "model.load_weights(os.path.join('models','checkpoint'))"
   ]
  },
  {
   "cell_type": "code",
   "execution_count": null,
   "metadata": {},
   "outputs": [],
   "source": [
    "# Load the dataset\n",
    "test = test_dataset.as_numpy_iterator()"
   ]
  },
  {
   "cell_type": "code",
   "execution_count": null,
   "metadata": {},
   "outputs": [],
   "source": [
    "sample = test.next()"
   ]
  },
  {
   "cell_type": "code",
   "execution_count": null,
   "metadata": {},
   "outputs": [],
   "source": [
    "yhat = model.predict(sample[0])"
   ]
  },
  {
   "cell_type": "code",
   "execution_count": null,
   "metadata": {},
   "outputs": [],
   "source": [
    "print('~'*10, 'REAL TEXT', '~'*10)\n",
    "print(alignments_to_text(sample[1][0]))"
   ]
  },
  {
   "cell_type": "code",
   "execution_count": null,
   "metadata": {},
   "outputs": [],
   "source": [
    "decoded = tf.keras.backend.ctc_decode(yhat, input_length=[75,75], greedy=True)[0][0].numpy()"
   ]
  },
  {
   "cell_type": "code",
   "execution_count": null,
   "metadata": {},
   "outputs": [],
   "source": [
    "print('~'*10, 'PREDICTED TEXT', '~'*10)\n",
    "print(alignments_to_text(decoded[0]))"
   ]
  },
  {
   "cell_type": "markdown",
   "metadata": {},
   "source": [
    "## 6. Testing on a video"
   ]
  },
  {
   "cell_type": "code",
   "execution_count": null,
   "metadata": {},
   "outputs": [],
   "source": [
    "sample = load_data(tf.convert_to_tensor('.\\\\data\\\\sequences\\\\bras9a.mpg'))"
   ]
  },
  {
   "cell_type": "code",
   "execution_count": null,
   "metadata": {},
   "outputs": [],
   "source": [
    "print('~'*10, 'REAL TEXT', '~'*10)\n",
    "print(alignments_to_text(sample[1][0]))"
   ]
  },
  {
   "cell_type": "code",
   "execution_count": null,
   "metadata": {},
   "outputs": [],
   "source": [
    "yhat = model.predict(tf.expand_dims(sample[0], axis=0))"
   ]
  },
  {
   "cell_type": "code",
   "execution_count": null,
   "metadata": {},
   "outputs": [],
   "source": [
    "decoded = tf.keras.backend.ctc_decode(yhat, input_length=[75], greedy=True)[0][0].numpy()"
   ]
  },
  {
   "cell_type": "code",
   "execution_count": null,
   "metadata": {},
   "outputs": [],
   "source": [
    "print('~'*10, 'PREDICTED TEXT', '~'*10)\n",
    "print(alignments_to_text(decoded[0]))"
   ]
  }
 ],
 "metadata": {
  "kernelspec": {
   "display_name": "Python 3 (ipykernel)",
   "language": "python",
   "name": "python3"
  },
  "language_info": {
   "codemirror_mode": {
    "name": "ipython",
    "version": 3
   },
   "file_extension": ".py",
   "mimetype": "text/x-python",
   "name": "python",
   "nbconvert_exporter": "python",
   "pygments_lexer": "ipython3",
   "version": "3.10.12"
  }
 },
 "nbformat": 4,
 "nbformat_minor": 1
}
