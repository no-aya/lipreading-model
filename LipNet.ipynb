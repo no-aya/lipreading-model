{
 "cells": [
  {
   "cell_type": "markdown",
   "metadata": {},
   "source": [
    "# Lip reading model"
   ]
  },
  {
   "cell_type": "markdown",
   "metadata": {},
   "source": [
    "## 0. Installing and importing dependencies"
   ]
  },
  {
   "cell_type": "code",
   "execution_count": 1,
   "metadata": {
    "ExecuteTime": {
     "end_time": "2023-08-12T17:50:10.662046100Z",
     "start_time": "2023-08-12T17:50:04.298710500Z"
    }
   },
   "outputs": [
    {
     "name": "stdout",
     "output_type": "stream",
     "text": [
      "Requirement already satisfied: opencv-python in c:\\users\\aitay\\anaconda3\\lib\\site-packages (4.8.0.76)\n",
      "Requirement already satisfied: matplotlib in c:\\users\\aitay\\anaconda3\\lib\\site-packages (3.7.2)\n",
      "Requirement already satisfied: imageio in c:\\users\\aitay\\anaconda3\\lib\\site-packages (2.31.1)\n",
      "Requirement already satisfied: gdown in c:\\users\\aitay\\anaconda3\\lib\\site-packages (4.7.1)\n",
      "Requirement already satisfied: tensorflow in c:\\users\\aitay\\anaconda3\\lib\\site-packages (2.8.0)\n",
      "Requirement already satisfied: numpy>=1.17.3 in c:\\users\\aitay\\anaconda3\\lib\\site-packages (from opencv-python) (1.23.5)\n",
      "Requirement already satisfied: kiwisolver>=1.0.1 in c:\\users\\aitay\\anaconda3\\lib\\site-packages (from matplotlib) (1.4.4)\n",
      "Requirement already satisfied: packaging>=20.0 in c:\\users\\aitay\\anaconda3\\lib\\site-packages (from matplotlib) (22.0)\n",
      "Requirement already satisfied: cycler>=0.10 in c:\\users\\aitay\\anaconda3\\lib\\site-packages (from matplotlib) (0.11.0)\n",
      "Requirement already satisfied: fonttools>=4.22.0 in c:\\users\\aitay\\anaconda3\\lib\\site-packages (from matplotlib) (4.25.0)\n",
      "Requirement already satisfied: pyparsing<3.1,>=2.3.1 in c:\\users\\aitay\\anaconda3\\lib\\site-packages (from matplotlib) (3.0.9)\n",
      "Requirement already satisfied: python-dateutil>=2.7 in c:\\users\\aitay\\anaconda3\\lib\\site-packages (from matplotlib) (2.8.2)\n",
      "Requirement already satisfied: contourpy>=1.0.1 in c:\\users\\aitay\\anaconda3\\lib\\site-packages (from matplotlib) (1.0.5)\n",
      "Requirement already satisfied: pillow>=6.2.0 in c:\\users\\aitay\\anaconda3\\lib\\site-packages (from matplotlib) (9.4.0)\n",
      "Requirement already satisfied: filelock in c:\\users\\aitay\\anaconda3\\lib\\site-packages (from gdown) (3.9.0)\n",
      "Requirement already satisfied: beautifulsoup4 in c:\\users\\aitay\\anaconda3\\lib\\site-packages (from gdown) (4.11.1)\n",
      "Requirement already satisfied: six in c:\\users\\aitay\\anaconda3\\lib\\site-packages (from gdown) (1.16.0)\n",
      "Requirement already satisfied: requests[socks] in c:\\users\\aitay\\anaconda3\\lib\\site-packages (from gdown) (2.28.1)\n",
      "Requirement already satisfied: tqdm in c:\\users\\aitay\\anaconda3\\lib\\site-packages (from gdown) (4.64.1)\n",
      "Requirement already satisfied: typing-extensions>=3.6.6 in c:\\users\\aitay\\anaconda3\\lib\\site-packages (from tensorflow) (4.4.0)\n",
      "Requirement already satisfied: opt-einsum>=2.3.2 in c:\\users\\aitay\\anaconda3\\lib\\site-packages (from tensorflow) (3.3.0)\n",
      "Requirement already satisfied: tensorboard<2.9,>=2.8 in c:\\users\\aitay\\anaconda3\\lib\\site-packages (from tensorflow) (2.8.0)\n",
      "Requirement already satisfied: google-pasta>=0.1.1 in c:\\users\\aitay\\anaconda3\\lib\\site-packages (from tensorflow) (0.2.0)\n",
      "Requirement already satisfied: absl-py>=0.4.0 in c:\\users\\aitay\\anaconda3\\lib\\site-packages (from tensorflow) (1.4.0)\n",
      "Requirement already satisfied: keras<2.9,>=2.8.0rc0 in c:\\users\\aitay\\anaconda3\\lib\\site-packages (from tensorflow) (2.8.0)\n",
      "Requirement already satisfied: protobuf>=3.9.2 in c:\\users\\aitay\\anaconda3\\lib\\site-packages (from tensorflow) (4.24.0)\n",
      "Requirement already satisfied: gast>=0.2.1 in c:\\users\\aitay\\anaconda3\\lib\\site-packages (from tensorflow) (0.4.0)\n",
      "Requirement already satisfied: h5py>=2.9.0 in c:\\users\\aitay\\anaconda3\\lib\\site-packages (from tensorflow) (3.7.0)\n",
      "Requirement already satisfied: wrapt>=1.11.0 in c:\\users\\aitay\\anaconda3\\lib\\site-packages (from tensorflow) (1.14.1)\n",
      "Requirement already satisfied: termcolor>=1.1.0 in c:\\users\\aitay\\anaconda3\\lib\\site-packages (from tensorflow) (2.3.0)\n",
      "Requirement already satisfied: keras-preprocessing>=1.1.1 in c:\\users\\aitay\\anaconda3\\lib\\site-packages (from tensorflow) (1.1.2)\n",
      "Requirement already satisfied: tensorflow-io-gcs-filesystem>=0.23.1 in c:\\users\\aitay\\anaconda3\\lib\\site-packages (from tensorflow) (0.31.0)\n",
      "Requirement already satisfied: tf-estimator-nightly==2.8.0.dev2021122109 in c:\\users\\aitay\\anaconda3\\lib\\site-packages (from tensorflow) (2.8.0.dev2021122109)\n",
      "Requirement already satisfied: grpcio<2.0,>=1.24.3 in c:\\users\\aitay\\anaconda3\\lib\\site-packages (from tensorflow) (1.56.2)\n",
      "Requirement already satisfied: flatbuffers>=1.12 in c:\\users\\aitay\\anaconda3\\lib\\site-packages (from tensorflow) (23.5.26)\n",
      "Requirement already satisfied: setuptools in c:\\users\\aitay\\anaconda3\\lib\\site-packages (from tensorflow) (65.6.3)\n",
      "Requirement already satisfied: libclang>=9.0.1 in c:\\users\\aitay\\anaconda3\\lib\\site-packages (from tensorflow) (16.0.6)\n",
      "Requirement already satisfied: astunparse>=1.6.0 in c:\\users\\aitay\\anaconda3\\lib\\site-packages (from tensorflow) (1.6.3)\n",
      "Requirement already satisfied: wheel<1.0,>=0.23.0 in c:\\users\\aitay\\anaconda3\\lib\\site-packages (from astunparse>=1.6.0->tensorflow) (0.38.4)\n",
      "Requirement already satisfied: google-auth<3,>=1.6.3 in c:\\users\\aitay\\anaconda3\\lib\\site-packages (from tensorboard<2.9,>=2.8->tensorflow) (2.22.0)\n",
      "Requirement already satisfied: werkzeug>=0.11.15 in c:\\users\\aitay\\anaconda3\\lib\\site-packages (from tensorboard<2.9,>=2.8->tensorflow) (2.2.2)\n",
      "Requirement already satisfied: tensorboard-plugin-wit>=1.6.0 in c:\\users\\aitay\\anaconda3\\lib\\site-packages (from tensorboard<2.9,>=2.8->tensorflow) (1.8.1)\n",
      "Requirement already satisfied: markdown>=2.6.8 in c:\\users\\aitay\\anaconda3\\lib\\site-packages (from tensorboard<2.9,>=2.8->tensorflow) (3.4.1)\n",
      "Requirement already satisfied: tensorboard-data-server<0.7.0,>=0.6.0 in c:\\users\\aitay\\anaconda3\\lib\\site-packages (from tensorboard<2.9,>=2.8->tensorflow) (0.6.1)\n",
      "Requirement already satisfied: google-auth-oauthlib<0.5,>=0.4.1 in c:\\users\\aitay\\anaconda3\\lib\\site-packages (from tensorboard<2.9,>=2.8->tensorflow) (0.4.6)\n",
      "Requirement already satisfied: soupsieve>1.2 in c:\\users\\aitay\\anaconda3\\lib\\site-packages (from beautifulsoup4->gdown) (2.3.2.post1)\n",
      "Requirement already satisfied: urllib3<1.27,>=1.21.1 in c:\\users\\aitay\\anaconda3\\lib\\site-packages (from requests[socks]->gdown) (1.26.14)\n",
      "Requirement already satisfied: certifi>=2017.4.17 in c:\\users\\aitay\\anaconda3\\lib\\site-packages (from requests[socks]->gdown) (2023.5.7)\n",
      "Requirement already satisfied: idna<4,>=2.5 in c:\\users\\aitay\\anaconda3\\lib\\site-packages (from requests[socks]->gdown) (3.4)\n",
      "Requirement already satisfied: charset-normalizer<3,>=2 in c:\\users\\aitay\\anaconda3\\lib\\site-packages (from requests[socks]->gdown) (2.0.4)\n",
      "Requirement already satisfied: PySocks!=1.5.7,>=1.5.6 in c:\\users\\aitay\\anaconda3\\lib\\site-packages (from requests[socks]->gdown) (1.7.1)\n",
      "Requirement already satisfied: colorama in c:\\users\\aitay\\anaconda3\\lib\\site-packages (from tqdm->gdown) (0.4.6)\n",
      "Requirement already satisfied: pyasn1-modules>=0.2.1 in c:\\users\\aitay\\anaconda3\\lib\\site-packages (from google-auth<3,>=1.6.3->tensorboard<2.9,>=2.8->tensorflow) (0.2.8)\n",
      "Requirement already satisfied: rsa<5,>=3.1.4 in c:\\users\\aitay\\anaconda3\\lib\\site-packages (from google-auth<3,>=1.6.3->tensorboard<2.9,>=2.8->tensorflow) (4.9)\n",
      "Requirement already satisfied: cachetools<6.0,>=2.0.0 in c:\\users\\aitay\\anaconda3\\lib\\site-packages (from google-auth<3,>=1.6.3->tensorboard<2.9,>=2.8->tensorflow) (5.3.1)\n",
      "Requirement already satisfied: requests-oauthlib>=0.7.0 in c:\\users\\aitay\\anaconda3\\lib\\site-packages (from google-auth-oauthlib<0.5,>=0.4.1->tensorboard<2.9,>=2.8->tensorflow) (1.3.1)\n",
      "Requirement already satisfied: MarkupSafe>=2.1.1 in c:\\users\\aitay\\anaconda3\\lib\\site-packages (from werkzeug>=0.11.15->tensorboard<2.9,>=2.8->tensorflow) (2.1.1)\n",
      "Requirement already satisfied: pyasn1<0.5.0,>=0.4.6 in c:\\users\\aitay\\anaconda3\\lib\\site-packages (from pyasn1-modules>=0.2.1->google-auth<3,>=1.6.3->tensorboard<2.9,>=2.8->tensorflow) (0.4.8)\n",
      "Requirement already satisfied: oauthlib>=3.0.0 in c:\\users\\aitay\\anaconda3\\lib\\site-packages (from requests-oauthlib>=0.7.0->google-auth-oauthlib<0.5,>=0.4.1->tensorboard<2.9,>=2.8->tensorflow) (3.2.2)\n"
     ]
    }
   ],
   "source": [
    "!pip install opencv-python matplotlib imageio gdown tensorflow"
   ]
  },
  {
   "cell_type": "markdown",
   "metadata": {},
   "source": [
    "- **opencv-python** is used for image processing\n",
    "- **matplotlib** is used for visualization\n",
    "- **imageio** is used for reading video files to gifs\n",
    "- **gdowm** is used for downloading files\n",
    "- **tensorflow** is used for deep learning"
   ]
  },
  {
   "cell_type": "code",
   "execution_count": 65,
   "outputs": [
    {
     "name": "stdout",
     "output_type": "stream",
     "text": [
      "Defaulting to user installation because normal site-packages is not writeable\n",
      "Requirement already satisfied: gdown in c:\\programdata\\anaconda3\\lib\\site-packages (4.7.1)\n",
      "Requirement already satisfied: filelock in c:\\programdata\\anaconda3\\lib\\site-packages (from gdown) (3.9.0)\n",
      "Requirement already satisfied: requests[socks] in c:\\programdata\\anaconda3\\lib\\site-packages (from gdown) (2.31.0)\n",
      "Requirement already satisfied: six in c:\\programdata\\anaconda3\\lib\\site-packages (from gdown) (1.16.0)\n",
      "Requirement already satisfied: tqdm in c:\\programdata\\anaconda3\\lib\\site-packages (from gdown) (4.65.0)\n",
      "Requirement already satisfied: beautifulsoup4 in c:\\programdata\\anaconda3\\lib\\site-packages (from gdown) (4.12.2)\n",
      "Requirement already satisfied: soupsieve>1.2 in c:\\programdata\\anaconda3\\lib\\site-packages (from beautifulsoup4->gdown) (2.4)\n",
      "Requirement already satisfied: charset-normalizer<4,>=2 in c:\\programdata\\anaconda3\\lib\\site-packages (from requests[socks]->gdown) (2.0.4)\n",
      "Requirement already satisfied: idna<4,>=2.5 in c:\\programdata\\anaconda3\\lib\\site-packages (from requests[socks]->gdown) (3.4)\n",
      "Requirement already satisfied: urllib3<3,>=1.21.1 in c:\\programdata\\anaconda3\\lib\\site-packages (from requests[socks]->gdown) (1.26.16)\n",
      "Requirement already satisfied: certifi>=2017.4.17 in c:\\programdata\\anaconda3\\lib\\site-packages (from requests[socks]->gdown) (2023.7.22)\n",
      "Requirement already satisfied: PySocks!=1.5.7,>=1.5.6 in c:\\programdata\\anaconda3\\lib\\site-packages (from requests[socks]->gdown) (1.7.1)\n",
      "Requirement already satisfied: colorama in c:\\programdata\\anaconda3\\lib\\site-packages (from tqdm->gdown) (0.4.6)\n"
     ]
    }
   ],
   "source": [
    "!pip install gdown"
   ],
   "metadata": {
    "collapsed": false,
    "ExecuteTime": {
     "end_time": "2023-08-26T10:19:08.311032400Z",
     "start_time": "2023-08-26T10:19:00.701239400Z"
    }
   }
  },
  {
   "cell_type": "code",
   "execution_count": 1,
   "metadata": {
    "ExecuteTime": {
     "end_time": "2023-08-16T22:55:34.104187Z",
     "start_time": "2023-08-16T22:55:31.326094200Z"
    }
   },
   "outputs": [
    {
     "name": "stdout",
     "output_type": "stream",
     "text": [
      "Package                       Version\n",
      "----------------------------- ---------------\n",
      "absl-py                       1.4.0\n",
      "aiobotocore                   2.4.2\n",
      "aiofiles                      22.1.0\n",
      "aiohttp                       3.8.3\n",
      "aioitertools                  0.7.1\n",
      "aiosignal                     1.2.0\n",
      "aiosqlite                     0.18.0\n",
      "alabaster                     0.7.12\n",
      "anaconda-catalogs             0.2.0\n",
      "anaconda-client               1.12.0\n",
      "anaconda-navigator            2.4.2\n",
      "anaconda-project              0.11.1\n",
      "anyio                         3.5.0\n",
      "appdirs                       1.4.4\n",
      "argon2-cffi                   21.3.0\n",
      "argon2-cffi-bindings          21.2.0\n",
      "arrow                         1.2.3\n",
      "astroid                       2.14.2\n",
      "astropy                       5.1\n",
      "asttokens                     2.0.5\n",
      "astunparse                    1.6.3\n",
      "async-timeout                 4.0.2\n",
      "atomicwrites                  1.4.0\n",
      "attrs                         22.1.0\n",
      "Automat                       20.2.0\n",
      "autopep8                      1.6.0\n",
      "Babel                         2.11.0\n",
      "backcall                      0.2.0\n",
      "backports.functools-lru-cache 1.6.4\n",
      "backports.tempfile            1.0\n",
      "backports.weakref             1.0.post1\n",
      "bcrypt                        3.2.0\n",
      "beautifulsoup4                4.12.2\n",
      "binaryornot                   0.4.4\n",
      "black                         0.0\n",
      "bleach                        4.1.0\n",
      "bokeh                         3.2.1\n",
      "boltons                       23.0.0\n",
      "boto3                         1.24.28\n",
      "botocore                      1.27.59\n",
      "Bottleneck                    1.3.5\n",
      "brotlipy                      0.7.0\n",
      "cachetools                    5.3.1\n",
      "certifi                       2023.7.22\n",
      "cffi                          1.15.1\n",
      "chardet                       4.0.0\n",
      "charset-normalizer            2.0.4\n",
      "click                         8.0.4\n",
      "cloudpickle                   2.2.1\n",
      "clyent                        1.2.2\n",
      "colorama                      0.4.6\n",
      "colorcet                      3.0.1\n",
      "comm                          0.1.2\n",
      "conda                         23.7.2\n",
      "conda-build                   3.26.0\n",
      "conda-content-trust           0+unknown\n",
      "conda_index                   0.2.3\n",
      "conda-libmamba-solver         23.5.0\n",
      "conda-pack                    0.6.0\n",
      "conda-package-handling        2.2.0\n",
      "conda_package_streaming       0.9.0\n",
      "conda-repo-cli                1.0.41\n",
      "conda-token                   0.4.0\n",
      "conda-verify                  3.4.2\n",
      "constantly                    15.1.0\n",
      "contourpy                     1.0.5\n",
      "cookiecutter                  1.7.3\n",
      "cryptography                  41.0.2\n",
      "cssselect                     1.1.0\n",
      "cycler                        0.11.0\n",
      "cytoolz                       0.12.0\n",
      "daal4py                       2023.1.1\n",
      "dask                          2023.6.0\n",
      "datashader                    0.15.1\n",
      "datashape                     0.5.4\n",
      "debugpy                       1.6.7\n",
      "decorator                     5.1.1\n",
      "defusedxml                    0.7.1\n",
      "diff-match-patch              20200713\n",
      "dill                          0.3.6\n",
      "distributed                   2023.6.0\n",
      "docstring-to-markdown         0.11\n",
      "docutils                      0.18.1\n",
      "entrypoints                   0.4\n",
      "et-xmlfile                    1.1.0\n",
      "executing                     0.8.3\n",
      "fastjsonschema                2.16.2\n",
      "filelock                      3.9.0\n",
      "flake8                        6.0.0\n",
      "Flask                         2.2.2\n",
      "flatbuffers                   23.5.26\n",
      "fonttools                     4.25.0\n",
      "frozenlist                    1.3.3\n",
      "fsspec                        2023.3.0\n",
      "future                        0.18.3\n",
      "gast                          0.4.0\n",
      "gdown                         4.7.1\n",
      "gensim                        4.3.0\n",
      "glob2                         0.7\n",
      "google-auth                   2.22.0\n",
      "google-auth-oauthlib          1.0.0\n",
      "google-pasta                  0.2.0\n",
      "greenlet                      2.0.1\n",
      "grpcio                        1.57.0\n",
      "h5py                          3.7.0\n",
      "HeapDict                      1.0.1\n",
      "holoviews                     1.17.0\n",
      "hvplot                        0.8.4\n",
      "hyperlink                     21.0.0\n",
      "idna                          3.4\n",
      "imagecodecs                   2021.8.26\n",
      "imageio                       2.23.0\n",
      "imagesize                     1.4.1\n",
      "imbalanced-learn              0.10.1\n",
      "importlib-metadata            6.0.0\n",
      "incremental                   21.3.0\n",
      "inflection                    0.5.1\n",
      "iniconfig                     1.1.1\n",
      "intake                        0.6.8\n",
      "intervaltree                  3.1.0\n",
      "ipykernel                     6.19.2\n",
      "ipython                       8.12.0\n",
      "ipython-genutils              0.2.0\n",
      "ipywidgets                    8.0.4\n",
      "isort                         5.9.3\n",
      "itemadapter                   0.3.0\n",
      "itemloaders                   1.0.4\n",
      "itsdangerous                  2.0.1\n",
      "jaraco.classes                3.2.1\n",
      "jedi                          0.18.1\n",
      "jellyfish                     0.9.0\n",
      "Jinja2                        3.1.2\n",
      "jinja2-time                   0.2.0\n",
      "jmespath                      0.10.0\n",
      "joblib                        1.2.0\n",
      "json5                         0.9.6\n",
      "jsonpatch                     1.32\n",
      "jsonpointer                   2.1\n",
      "jsonschema                    4.17.3\n",
      "jupyter                       1.0.0\n",
      "jupyter_client                7.4.9\n",
      "jupyter-console               6.6.3\n",
      "jupyter_core                  5.3.0\n",
      "jupyter-events                0.6.3\n",
      "jupyter-server                1.23.4\n",
      "jupyter_server_fileid         0.9.0\n",
      "jupyter_server_ydoc           0.8.0\n",
      "jupyter-ydoc                  0.2.4\n",
      "jupyterlab                    3.6.3\n",
      "jupyterlab-pygments           0.1.2\n",
      "jupyterlab_server             2.22.0\n",
      "jupyterlab-widgets            3.0.5\n",
      "keras                         2.13.1\n",
      "keyring                       23.13.1\n",
      "kiwisolver                    1.4.4\n",
      "lazy_loader                   0.2\n",
      "lazy-object-proxy             1.6.0\n",
      "libarchive-c                  2.9\n",
      "libclang                      16.0.6\n",
      "libmambapy                    1.4.1\n",
      "linkify-it-py                 2.0.0\n",
      "llvmlite                      0.40.0\n",
      "lmdb                          1.4.1\n",
      "locket                        1.0.0\n",
      "lxml                          4.9.2\n",
      "lz4                           4.3.2\n",
      "Markdown                      3.4.1\n",
      "markdown-it-py                2.2.0\n",
      "MarkupSafe                    2.1.1\n",
      "matplotlib                    3.6.2\n",
      "matplotlib-inline             0.1.6\n",
      "mccabe                        0.7.0\n",
      "mdit-py-plugins               0.3.0\n",
      "mdurl                         0.1.0\n",
      "menuinst                      1.4.19\n",
      "mistune                       0.8.4\n",
      "mkl-fft                       1.3.6\n",
      "mkl-random                    1.2.2\n",
      "mkl-service                   2.4.0\n",
      "more-itertools                8.12.0\n",
      "mpmath                        1.3.0\n",
      "msgpack                       1.0.3\n",
      "multidict                     6.0.2\n",
      "multipledispatch              0.6.0\n",
      "munkres                       1.1.4\n",
      "mypy-extensions               0.4.3\n",
      "navigator-updater             0.4.0\n",
      "nbclassic                     0.5.5\n",
      "nbclient                      0.5.13\n",
      "nbconvert                     6.5.4\n",
      "nbformat                      5.7.0\n",
      "nest-asyncio                  1.5.6\n",
      "networkx                      3.1\n",
      "nltk                          3.8.1\n",
      "notebook                      6.5.4\n",
      "notebook_shim                 0.2.2\n",
      "numba                         0.57.0\n",
      "numexpr                       2.8.4\n",
      "numpy                         1.24.3\n",
      "numpydoc                      1.5.0\n",
      "oauthlib                      3.2.2\n",
      "opencv-python                 4.6.0.66\n",
      "openpyxl                      3.0.10\n",
      "opt-einsum                    3.3.0\n",
      "packaging                     23.0\n",
      "pandas                        1.5.3\n",
      "pandocfilters                 1.5.0\n",
      "panel                         1.2.1\n",
      "param                         1.13.0\n",
      "paramiko                      2.8.1\n",
      "parsel                        1.6.0\n",
      "parso                         0.8.3\n",
      "partd                         1.2.0\n",
      "pathlib                       1.0.1\n",
      "pathspec                      0.10.3\n",
      "patsy                         0.5.3\n",
      "pep8                          1.7.1\n",
      "pexpect                       4.8.0\n",
      "pickleshare                   0.7.5\n",
      "Pillow                        9.4.0\n",
      "pip                           23.2.1\n",
      "pkginfo                       1.9.6\n",
      "platformdirs                  2.5.2\n",
      "plotly                        5.9.0\n",
      "pluggy                        1.0.0\n",
      "ply                           3.11\n",
      "pooch                         1.4.0\n",
      "poyo                          0.5.0\n",
      "prometheus-client             0.14.1\n",
      "prompt-toolkit                3.0.36\n",
      "Protego                       0.1.16\n",
      "protobuf                      4.24.0\n",
      "psutil                        5.9.0\n",
      "ptyprocess                    0.7.0\n",
      "pure-eval                     0.2.2\n",
      "py-cpuinfo                    8.0.0\n",
      "pyarrow                       11.0.0\n",
      "pyasn1                        0.4.8\n",
      "pyasn1-modules                0.2.8\n",
      "pycodestyle                   2.10.0\n",
      "pycosat                       0.6.4\n",
      "pycparser                     2.21\n",
      "pyct                          0.5.0\n",
      "pycurl                        7.45.2\n",
      "PyDispatcher                  2.0.5\n",
      "pydocstyle                    6.3.0\n",
      "pyerfa                        2.0.0\n",
      "pyflakes                      3.0.1\n",
      "Pygments                      2.15.1\n",
      "PyJWT                         2.4.0\n",
      "pylint                        2.16.2\n",
      "pylint-venv                   2.3.0\n",
      "pyls-spyder                   0.4.0\n",
      "PyNaCl                        1.5.0\n",
      "pyodbc                        4.0.34\n",
      "pyOpenSSL                     23.2.0\n",
      "pyparsing                     3.0.9\n",
      "PyQt5                         5.15.7\n",
      "PyQt5-sip                     12.11.0\n",
      "PyQtWebEngine                 5.15.4\n",
      "pyrsistent                    0.18.0\n",
      "PySocks                       1.7.1\n",
      "pytest                        7.4.0\n",
      "python-dateutil               2.8.2\n",
      "python-json-logger            2.0.7\n",
      "python-lsp-black              1.2.1\n",
      "python-lsp-jsonrpc            1.0.0\n",
      "python-lsp-server             1.7.2\n",
      "python-slugify                5.0.2\n",
      "python-snappy                 0.6.1\n",
      "pytoolconfig                  1.2.5\n",
      "pytz                          2022.7\n",
      "pyviz-comms                   2.3.0\n",
      "PyWavelets                    1.4.1\n",
      "pywin32                       305.1\n",
      "pywin32-ctypes                0.2.0\n",
      "pywinpty                      2.0.10\n",
      "PyYAML                        6.0\n",
      "pyzmq                         23.2.0\n",
      "QDarkStyle                    3.0.2\n",
      "qstylizer                     0.2.2\n",
      "QtAwesome                     1.2.2\n",
      "qtconsole                     5.4.2\n",
      "QtPy                          2.2.0\n",
      "queuelib                      1.5.0\n",
      "regex                         2022.7.9\n",
      "requests                      2.31.0\n",
      "requests-file                 1.5.1\n",
      "requests-oauthlib             1.3.1\n",
      "requests-toolbelt             1.0.0\n",
      "rfc3339-validator             0.1.4\n",
      "rfc3986-validator             0.1.1\n",
      "rope                          1.7.0\n",
      "rsa                           4.9\n",
      "Rtree                         1.0.1\n",
      "ruamel.yaml                   0.17.21\n",
      "ruamel-yaml-conda             0.17.21\n",
      "s3fs                          2023.3.0\n",
      "s3transfer                    0.6.0\n",
      "sacremoses                    0.0.43\n",
      "scikit-image                  0.20.0\n",
      "scikit-learn                  1.3.0\n",
      "scikit-learn-intelex          20230426.121932\n",
      "scipy                         1.10.1\n",
      "Scrapy                        2.8.0\n",
      "seaborn                       0.12.2\n",
      "Send2Trash                    1.8.0\n",
      "service-identity              18.1.0\n",
      "setuptools                    68.0.0\n",
      "sip                           6.6.2\n",
      "six                           1.16.0\n",
      "smart-open                    5.2.1\n",
      "sniffio                       1.2.0\n",
      "snowballstemmer               2.2.0\n",
      "sortedcontainers              2.4.0\n",
      "soupsieve                     2.4\n",
      "Sphinx                        5.0.2\n",
      "sphinxcontrib-applehelp       1.0.2\n",
      "sphinxcontrib-devhelp         1.0.2\n",
      "sphinxcontrib-htmlhelp        2.0.0\n",
      "sphinxcontrib-jsmath          1.0.1\n",
      "sphinxcontrib-qthelp          1.0.3\n",
      "sphinxcontrib-serializinghtml 1.1.5\n",
      "spyder                        5.4.3\n",
      "spyder-kernels                2.4.3\n",
      "SQLAlchemy                    1.4.39\n",
      "stack-data                    0.2.0\n",
      "statsmodels                   0.14.0\n",
      "sympy                         1.11.1\n",
      "tables                        3.8.0\n",
      "tabulate                      0.8.10\n",
      "TBB                           0.2\n",
      "tblib                         1.7.0\n",
      "tenacity                      8.2.2\n",
      "tensorboard                   2.13.0\n",
      "tensorboard-data-server       0.7.1\n",
      "tensorflow                    2.13.0\n",
      "tensorflow-estimator          2.13.0\n",
      "tensorflow-intel              2.13.0\n",
      "tensorflow-io-gcs-filesystem  0.31.0\n",
      "termcolor                     2.3.0\n",
      "terminado                     0.17.1\n",
      "text-unidecode                1.3\n",
      "textdistance                  4.2.1\n",
      "threadpoolctl                 2.2.0\n",
      "three-merge                   0.1.1\n",
      "tifffile                      2021.7.2\n",
      "tinycss2                      1.2.1\n",
      "tldextract                    3.2.0\n",
      "toml                          0.10.2\n",
      "tomlkit                       0.11.1\n",
      "toolz                         0.12.0\n",
      "tornado                       6.3.2\n",
      "tqdm                          4.65.0\n",
      "traitlets                     5.7.1\n",
      "transformers                  2.1.1\n",
      "Twisted                       22.10.0\n",
      "twisted-iocpsupport           1.0.2\n",
      "typing_extensions             4.5.0\n",
      "uc-micro-py                   1.0.1\n",
      "ujson                         5.4.0\n",
      "Unidecode                     1.2.0\n",
      "urllib3                       1.26.16\n",
      "w3lib                         1.21.0\n",
      "watchdog                      2.1.6\n",
      "wcwidth                       0.2.5\n",
      "webencodings                  0.5.1\n",
      "websocket-client              0.58.0\n",
      "Werkzeug                      2.2.3\n",
      "whatthepatch                  1.0.2\n",
      "wheel                         0.38.4\n",
      "widgetsnbextension            4.0.5\n",
      "win-inet-pton                 1.1.0\n",
      "wrapt                         1.14.1\n",
      "xarray                        2023.6.0\n",
      "xlwings                       0.29.1\n",
      "xyzservices                   2022.9.0\n",
      "y-py                          0.5.9\n",
      "yapf                          0.31.0\n",
      "yarl                          1.8.1\n",
      "ypy-websocket                 0.8.2\n",
      "zict                          2.2.0\n",
      "zipp                          3.11.0\n",
      "zope.interface                5.4.0\n",
      "zstandard                     0.19.0\n"
     ]
    }
   ],
   "source": [
    "!pip list"
   ]
  },
  {
   "cell_type": "code",
   "execution_count": null,
   "metadata": {},
   "outputs": [],
   "source": []
  },
  {
   "cell_type": "code",
   "execution_count": 2,
   "metadata": {
    "ExecuteTime": {
     "end_time": "2023-08-18T21:10:26.030164400Z",
     "start_time": "2023-08-18T21:10:18.877320100Z"
    }
   },
   "outputs": [],
   "source": [
    "import os\n",
    "import cv2\n",
    "import numpy as np\n",
    "import tensorflow as tf\n",
    "\n",
    "from typing import List\n",
    "from matplotlib import pyplot as plt\n",
    "import imageio"
   ]
  },
  {
   "cell_type": "code",
   "execution_count": 3,
   "metadata": {
    "ExecuteTime": {
     "end_time": "2023-08-18T21:10:26.047501600Z",
     "start_time": "2023-08-18T21:10:26.036660800Z"
    }
   },
   "outputs": [
    {
     "data": {
      "text/plain": "[]"
     },
     "execution_count": 3,
     "metadata": {},
     "output_type": "execute_result"
    }
   ],
   "source": [
    "tf.config.list_physical_devices('GPU')"
   ]
  },
  {
   "cell_type": "code",
   "execution_count": 4,
   "metadata": {
    "ExecuteTime": {
     "end_time": "2023-08-18T21:10:26.146429600Z",
     "start_time": "2023-08-18T21:10:26.052485700Z"
    }
   },
   "outputs": [
    {
     "name": "stdout",
     "output_type": "stream",
     "text": [
      "Invalid device or cannot modify virtual devices once initialized.\n"
     ]
    }
   ],
   "source": [
    "# Prevent exponential GPU memory growth\n",
    "physical_devices = tf.config.list_physical_devices('GPU')\n",
    "try :\n",
    "    tf.config.experimental.set_memory_growth(physical_devices[0], True)\n",
    "except :\n",
    "    print('Invalid device or cannot modify virtual devices once initialized.')\n",
    "    pass"
   ]
  },
  {
   "cell_type": "markdown",
   "metadata": {},
   "source": [
    "## 1. Build Data Loading Function"
   ]
  },
  {
   "cell_type": "code",
   "execution_count": 53,
   "metadata": {
    "ExecuteTime": {
     "end_time": "2023-08-16T19:36:49.784678300Z",
     "start_time": "2023-08-16T19:36:45.447949300Z"
    }
   },
   "outputs": [
    {
     "name": "stderr",
     "output_type": "stream",
     "text": [
      "Downloading...\n",
      "From (uriginal): https://drive.google.com/uc?id=1YlvpDLix3S-U8fd-gqRwPcWXAXm8JwjL\n",
      "From (redirected): https://drive.google.com/uc?id=1YlvpDLix3S-U8fd-gqRwPcWXAXm8JwjL&confirm=t&uuid=7e304dfa-5dca-4e6e-9856-951d24722035\n",
      "To: C:\\Users\\aitay\\Documents\\Github\\Lipreading\\data.zip\n",
      "  0%|          | 0.00/423M [00:00<?, ?B/s]"
     ]
    },
    {
     "ename": "KeyboardInterrupt",
     "evalue": "",
     "output_type": "error",
     "traceback": [
      "\u001B[1;31m---------------------------------------------------------------------------\u001B[0m",
      "\u001B[1;31mKeyboardInterrupt\u001B[0m                         Traceback (most recent call last)",
      "Cell \u001B[1;32mIn[53], line 5\u001B[0m\n\u001B[0;32m      3\u001B[0m url \u001B[38;5;241m=\u001B[39m \u001B[38;5;124m'\u001B[39m\u001B[38;5;124mhttps://drive.google.com/uc?id=1YlvpDLix3S-U8fd-gqRwPcWXAXm8JwjL\u001B[39m\u001B[38;5;124m'\u001B[39m\n\u001B[0;32m      4\u001B[0m output \u001B[38;5;241m=\u001B[39m \u001B[38;5;124m'\u001B[39m\u001B[38;5;124mdata.zip\u001B[39m\u001B[38;5;124m'\u001B[39m\n\u001B[1;32m----> 5\u001B[0m \u001B[43mgdown\u001B[49m\u001B[38;5;241;43m.\u001B[39;49m\u001B[43mdownload\u001B[49m\u001B[43m(\u001B[49m\u001B[43murl\u001B[49m\u001B[43m,\u001B[49m\u001B[43m \u001B[49m\u001B[43moutput\u001B[49m\u001B[43m,\u001B[49m\u001B[43m \u001B[49m\u001B[43mquiet\u001B[49m\u001B[38;5;241;43m=\u001B[39;49m\u001B[38;5;28;43;01mFalse\u001B[39;49;00m\u001B[43m)\u001B[49m\n\u001B[0;32m      6\u001B[0m gdown\u001B[38;5;241m.\u001B[39mextractall(\u001B[38;5;124m'\u001B[39m\u001B[38;5;124mdata.zip\u001B[39m\u001B[38;5;124m'\u001B[39m)\n",
      "File \u001B[1;32m~\\anaconda3\\lib\\site-packages\\gdown\\download.py:334\u001B[0m, in \u001B[0;36mdownload\u001B[1;34m(url, output, quiet, proxy, speed, use_cookies, verify, id, fuzzy, resume, format)\u001B[0m\n\u001B[0;32m    332\u001B[0m     pbar \u001B[38;5;241m=\u001B[39m tqdm\u001B[38;5;241m.\u001B[39mtqdm(total\u001B[38;5;241m=\u001B[39mtotal, unit\u001B[38;5;241m=\u001B[39m\u001B[38;5;124m\"\u001B[39m\u001B[38;5;124mB\u001B[39m\u001B[38;5;124m\"\u001B[39m, unit_scale\u001B[38;5;241m=\u001B[39m\u001B[38;5;28;01mTrue\u001B[39;00m)\n\u001B[0;32m    333\u001B[0m t_start \u001B[38;5;241m=\u001B[39m time\u001B[38;5;241m.\u001B[39mtime()\n\u001B[1;32m--> 334\u001B[0m \u001B[38;5;28;01mfor\u001B[39;00m chunk \u001B[38;5;129;01min\u001B[39;00m res\u001B[38;5;241m.\u001B[39miter_content(chunk_size\u001B[38;5;241m=\u001B[39mCHUNK_SIZE):\n\u001B[0;32m    335\u001B[0m     f\u001B[38;5;241m.\u001B[39mwrite(chunk)\n\u001B[0;32m    336\u001B[0m     \u001B[38;5;28;01mif\u001B[39;00m \u001B[38;5;129;01mnot\u001B[39;00m quiet:\n",
      "File \u001B[1;32m~\\anaconda3\\lib\\site-packages\\requests\\models.py:816\u001B[0m, in \u001B[0;36mResponse.iter_content.<locals>.generate\u001B[1;34m()\u001B[0m\n\u001B[0;32m    814\u001B[0m \u001B[38;5;28;01mif\u001B[39;00m \u001B[38;5;28mhasattr\u001B[39m(\u001B[38;5;28mself\u001B[39m\u001B[38;5;241m.\u001B[39mraw, \u001B[38;5;124m\"\u001B[39m\u001B[38;5;124mstream\u001B[39m\u001B[38;5;124m\"\u001B[39m):\n\u001B[0;32m    815\u001B[0m     \u001B[38;5;28;01mtry\u001B[39;00m:\n\u001B[1;32m--> 816\u001B[0m         \u001B[38;5;28;01myield from\u001B[39;00m \u001B[38;5;28mself\u001B[39m\u001B[38;5;241m.\u001B[39mraw\u001B[38;5;241m.\u001B[39mstream(chunk_size, decode_content\u001B[38;5;241m=\u001B[39m\u001B[38;5;28;01mTrue\u001B[39;00m)\n\u001B[0;32m    817\u001B[0m     \u001B[38;5;28;01mexcept\u001B[39;00m ProtocolError \u001B[38;5;28;01mas\u001B[39;00m e:\n\u001B[0;32m    818\u001B[0m         \u001B[38;5;28;01mraise\u001B[39;00m ChunkedEncodingError(e)\n",
      "File \u001B[1;32m~\\anaconda3\\lib\\site-packages\\urllib3\\response.py:628\u001B[0m, in \u001B[0;36mHTTPResponse.stream\u001B[1;34m(self, amt, decode_content)\u001B[0m\n\u001B[0;32m    626\u001B[0m \u001B[38;5;28;01melse\u001B[39;00m:\n\u001B[0;32m    627\u001B[0m     \u001B[38;5;28;01mwhile\u001B[39;00m \u001B[38;5;129;01mnot\u001B[39;00m is_fp_closed(\u001B[38;5;28mself\u001B[39m\u001B[38;5;241m.\u001B[39m_fp):\n\u001B[1;32m--> 628\u001B[0m         data \u001B[38;5;241m=\u001B[39m \u001B[38;5;28;43mself\u001B[39;49m\u001B[38;5;241;43m.\u001B[39;49m\u001B[43mread\u001B[49m\u001B[43m(\u001B[49m\u001B[43mamt\u001B[49m\u001B[38;5;241;43m=\u001B[39;49m\u001B[43mamt\u001B[49m\u001B[43m,\u001B[49m\u001B[43m \u001B[49m\u001B[43mdecode_content\u001B[49m\u001B[38;5;241;43m=\u001B[39;49m\u001B[43mdecode_content\u001B[49m\u001B[43m)\u001B[49m\n\u001B[0;32m    630\u001B[0m         \u001B[38;5;28;01mif\u001B[39;00m data:\n\u001B[0;32m    631\u001B[0m             \u001B[38;5;28;01myield\u001B[39;00m data\n",
      "File \u001B[1;32m~\\anaconda3\\lib\\site-packages\\urllib3\\response.py:567\u001B[0m, in \u001B[0;36mHTTPResponse.read\u001B[1;34m(self, amt, decode_content, cache_content)\u001B[0m\n\u001B[0;32m    564\u001B[0m fp_closed \u001B[38;5;241m=\u001B[39m \u001B[38;5;28mgetattr\u001B[39m(\u001B[38;5;28mself\u001B[39m\u001B[38;5;241m.\u001B[39m_fp, \u001B[38;5;124m\"\u001B[39m\u001B[38;5;124mclosed\u001B[39m\u001B[38;5;124m\"\u001B[39m, \u001B[38;5;28;01mFalse\u001B[39;00m)\n\u001B[0;32m    566\u001B[0m \u001B[38;5;28;01mwith\u001B[39;00m \u001B[38;5;28mself\u001B[39m\u001B[38;5;241m.\u001B[39m_error_catcher():\n\u001B[1;32m--> 567\u001B[0m     data \u001B[38;5;241m=\u001B[39m \u001B[38;5;28;43mself\u001B[39;49m\u001B[38;5;241;43m.\u001B[39;49m\u001B[43m_fp_read\u001B[49m\u001B[43m(\u001B[49m\u001B[43mamt\u001B[49m\u001B[43m)\u001B[49m \u001B[38;5;28;01mif\u001B[39;00m \u001B[38;5;129;01mnot\u001B[39;00m fp_closed \u001B[38;5;28;01melse\u001B[39;00m \u001B[38;5;124mb\u001B[39m\u001B[38;5;124m\"\u001B[39m\u001B[38;5;124m\"\u001B[39m\n\u001B[0;32m    568\u001B[0m     \u001B[38;5;28;01mif\u001B[39;00m amt \u001B[38;5;129;01mis\u001B[39;00m \u001B[38;5;28;01mNone\u001B[39;00m:\n\u001B[0;32m    569\u001B[0m         flush_decoder \u001B[38;5;241m=\u001B[39m \u001B[38;5;28;01mTrue\u001B[39;00m\n",
      "File \u001B[1;32m~\\anaconda3\\lib\\site-packages\\urllib3\\response.py:533\u001B[0m, in \u001B[0;36mHTTPResponse._fp_read\u001B[1;34m(self, amt)\u001B[0m\n\u001B[0;32m    530\u001B[0m     \u001B[38;5;28;01mreturn\u001B[39;00m buffer\u001B[38;5;241m.\u001B[39mgetvalue()\n\u001B[0;32m    531\u001B[0m \u001B[38;5;28;01melse\u001B[39;00m:\n\u001B[0;32m    532\u001B[0m     \u001B[38;5;66;03m# StringIO doesn't like amt=None\u001B[39;00m\n\u001B[1;32m--> 533\u001B[0m     \u001B[38;5;28;01mreturn\u001B[39;00m \u001B[38;5;28;43mself\u001B[39;49m\u001B[38;5;241;43m.\u001B[39;49m\u001B[43m_fp\u001B[49m\u001B[38;5;241;43m.\u001B[39;49m\u001B[43mread\u001B[49m\u001B[43m(\u001B[49m\u001B[43mamt\u001B[49m\u001B[43m)\u001B[49m \u001B[38;5;28;01mif\u001B[39;00m amt \u001B[38;5;129;01mis\u001B[39;00m \u001B[38;5;129;01mnot\u001B[39;00m \u001B[38;5;28;01mNone\u001B[39;00m \u001B[38;5;28;01melse\u001B[39;00m \u001B[38;5;28mself\u001B[39m\u001B[38;5;241m.\u001B[39m_fp\u001B[38;5;241m.\u001B[39mread()\n",
      "File \u001B[1;32m~\\anaconda3\\lib\\http\\client.py:465\u001B[0m, in \u001B[0;36mHTTPResponse.read\u001B[1;34m(self, amt)\u001B[0m\n\u001B[0;32m    462\u001B[0m \u001B[38;5;28;01mif\u001B[39;00m \u001B[38;5;28mself\u001B[39m\u001B[38;5;241m.\u001B[39mlength \u001B[38;5;129;01mis\u001B[39;00m \u001B[38;5;129;01mnot\u001B[39;00m \u001B[38;5;28;01mNone\u001B[39;00m \u001B[38;5;129;01mand\u001B[39;00m amt \u001B[38;5;241m>\u001B[39m \u001B[38;5;28mself\u001B[39m\u001B[38;5;241m.\u001B[39mlength:\n\u001B[0;32m    463\u001B[0m     \u001B[38;5;66;03m# clip the read to the \"end of response\"\u001B[39;00m\n\u001B[0;32m    464\u001B[0m     amt \u001B[38;5;241m=\u001B[39m \u001B[38;5;28mself\u001B[39m\u001B[38;5;241m.\u001B[39mlength\n\u001B[1;32m--> 465\u001B[0m s \u001B[38;5;241m=\u001B[39m \u001B[38;5;28;43mself\u001B[39;49m\u001B[38;5;241;43m.\u001B[39;49m\u001B[43mfp\u001B[49m\u001B[38;5;241;43m.\u001B[39;49m\u001B[43mread\u001B[49m\u001B[43m(\u001B[49m\u001B[43mamt\u001B[49m\u001B[43m)\u001B[49m\n\u001B[0;32m    466\u001B[0m \u001B[38;5;28;01mif\u001B[39;00m \u001B[38;5;129;01mnot\u001B[39;00m s \u001B[38;5;129;01mand\u001B[39;00m amt:\n\u001B[0;32m    467\u001B[0m     \u001B[38;5;66;03m# Ideally, we would raise IncompleteRead if the content-length\u001B[39;00m\n\u001B[0;32m    468\u001B[0m     \u001B[38;5;66;03m# wasn't satisfied, but it might break compatibility.\u001B[39;00m\n\u001B[0;32m    469\u001B[0m     \u001B[38;5;28mself\u001B[39m\u001B[38;5;241m.\u001B[39m_close_conn()\n",
      "File \u001B[1;32m~\\anaconda3\\lib\\socket.py:705\u001B[0m, in \u001B[0;36mSocketIO.readinto\u001B[1;34m(self, b)\u001B[0m\n\u001B[0;32m    703\u001B[0m \u001B[38;5;28;01mwhile\u001B[39;00m \u001B[38;5;28;01mTrue\u001B[39;00m:\n\u001B[0;32m    704\u001B[0m     \u001B[38;5;28;01mtry\u001B[39;00m:\n\u001B[1;32m--> 705\u001B[0m         \u001B[38;5;28;01mreturn\u001B[39;00m \u001B[38;5;28;43mself\u001B[39;49m\u001B[38;5;241;43m.\u001B[39;49m\u001B[43m_sock\u001B[49m\u001B[38;5;241;43m.\u001B[39;49m\u001B[43mrecv_into\u001B[49m\u001B[43m(\u001B[49m\u001B[43mb\u001B[49m\u001B[43m)\u001B[49m\n\u001B[0;32m    706\u001B[0m     \u001B[38;5;28;01mexcept\u001B[39;00m timeout:\n\u001B[0;32m    707\u001B[0m         \u001B[38;5;28mself\u001B[39m\u001B[38;5;241m.\u001B[39m_timeout_occurred \u001B[38;5;241m=\u001B[39m \u001B[38;5;28;01mTrue\u001B[39;00m\n",
      "File \u001B[1;32m~\\anaconda3\\lib\\ssl.py:1274\u001B[0m, in \u001B[0;36mSSLSocket.recv_into\u001B[1;34m(self, buffer, nbytes, flags)\u001B[0m\n\u001B[0;32m   1270\u001B[0m     \u001B[38;5;28;01mif\u001B[39;00m flags \u001B[38;5;241m!=\u001B[39m \u001B[38;5;241m0\u001B[39m:\n\u001B[0;32m   1271\u001B[0m         \u001B[38;5;28;01mraise\u001B[39;00m \u001B[38;5;167;01mValueError\u001B[39;00m(\n\u001B[0;32m   1272\u001B[0m           \u001B[38;5;124m\"\u001B[39m\u001B[38;5;124mnon-zero flags not allowed in calls to recv_into() on \u001B[39m\u001B[38;5;132;01m%s\u001B[39;00m\u001B[38;5;124m\"\u001B[39m \u001B[38;5;241m%\u001B[39m\n\u001B[0;32m   1273\u001B[0m           \u001B[38;5;28mself\u001B[39m\u001B[38;5;241m.\u001B[39m\u001B[38;5;18m__class__\u001B[39m)\n\u001B[1;32m-> 1274\u001B[0m     \u001B[38;5;28;01mreturn\u001B[39;00m \u001B[38;5;28;43mself\u001B[39;49m\u001B[38;5;241;43m.\u001B[39;49m\u001B[43mread\u001B[49m\u001B[43m(\u001B[49m\u001B[43mnbytes\u001B[49m\u001B[43m,\u001B[49m\u001B[43m \u001B[49m\u001B[43mbuffer\u001B[49m\u001B[43m)\u001B[49m\n\u001B[0;32m   1275\u001B[0m \u001B[38;5;28;01melse\u001B[39;00m:\n\u001B[0;32m   1276\u001B[0m     \u001B[38;5;28;01mreturn\u001B[39;00m \u001B[38;5;28msuper\u001B[39m()\u001B[38;5;241m.\u001B[39mrecv_into(buffer, nbytes, flags)\n",
      "File \u001B[1;32m~\\anaconda3\\lib\\ssl.py:1130\u001B[0m, in \u001B[0;36mSSLSocket.read\u001B[1;34m(self, len, buffer)\u001B[0m\n\u001B[0;32m   1128\u001B[0m \u001B[38;5;28;01mtry\u001B[39;00m:\n\u001B[0;32m   1129\u001B[0m     \u001B[38;5;28;01mif\u001B[39;00m buffer \u001B[38;5;129;01mis\u001B[39;00m \u001B[38;5;129;01mnot\u001B[39;00m \u001B[38;5;28;01mNone\u001B[39;00m:\n\u001B[1;32m-> 1130\u001B[0m         \u001B[38;5;28;01mreturn\u001B[39;00m \u001B[38;5;28;43mself\u001B[39;49m\u001B[38;5;241;43m.\u001B[39;49m\u001B[43m_sslobj\u001B[49m\u001B[38;5;241;43m.\u001B[39;49m\u001B[43mread\u001B[49m\u001B[43m(\u001B[49m\u001B[38;5;28;43mlen\u001B[39;49m\u001B[43m,\u001B[49m\u001B[43m \u001B[49m\u001B[43mbuffer\u001B[49m\u001B[43m)\u001B[49m\n\u001B[0;32m   1131\u001B[0m     \u001B[38;5;28;01melse\u001B[39;00m:\n\u001B[0;32m   1132\u001B[0m         \u001B[38;5;28;01mreturn\u001B[39;00m \u001B[38;5;28mself\u001B[39m\u001B[38;5;241m.\u001B[39m_sslobj\u001B[38;5;241m.\u001B[39mread(\u001B[38;5;28mlen\u001B[39m)\n",
      "\u001B[1;31mKeyboardInterrupt\u001B[0m: "
     ]
    }
   ],
   "source": [
    "# Downloadin dataset\n",
    "import gdown\n",
    "url = 'https://drive.google.com/uc?id=1YlvpDLix3S-U8fd-gqRwPcWXAXm8JwjL'\n",
    "output = 'data.zip'\n",
    "gdown.download(url, output, quiet=False)\n",
    "gdown.extractall('data.zip')"
   ]
  },
  {
   "cell_type": "code",
   "execution_count": 5,
   "metadata": {
    "ExecuteTime": {
     "end_time": "2023-08-18T21:10:26.147937Z",
     "start_time": "2023-08-18T21:10:26.067832300Z"
    }
   },
   "outputs": [],
   "source": [
    "# Load videos\n",
    "def load_video(path:str) -> List[float]:\n",
    "    \"\"\"\n",
    "    Loads a video from a given path, reduces the size of the video and standardizes it.\n",
    "    :param path: Path to the video\n",
    "    :return: A list of standardized frames\n",
    "    \"\"\"\n",
    "\n",
    "    cap = cv2.VideoCapture(path)\n",
    "    frames = []\n",
    "    for _ in range(int(cap.get(cv2.CAP_PROP_FRAME_COUNT))):\n",
    "        ret, frame = cap.read()\n",
    "        frame = tf.image.rgb_to_grayscale(frame) # Less data to process\n",
    "        frames.append(frame[190:236,80:220,:]) # This is the region of interest (ROI) that contains the mouth\n",
    "        # However we can replace it with a face detector library like dlib\n",
    "    cap.release()\n",
    "\n",
    "    # We standardize the frames so that they have a mean of 0 and standard deviation of 1.\n",
    "    # (Scaling data, good practice)\n",
    "    mean = tf.math.reduce_mean(frames)\n",
    "    casted_frames= tf.cast(frames, tf.float32)\n",
    "    std = tf.math.reduce_std(casted_frames)\n",
    "    return tf.cast((frames - mean), tf.float32) / std"
   ]
  },
  {
   "cell_type": "code",
   "execution_count": 6,
   "metadata": {
    "ExecuteTime": {
     "end_time": "2023-08-18T21:10:26.148939300Z",
     "start_time": "2023-08-18T21:10:26.074824300Z"
    }
   },
   "outputs": [],
   "source": [
    "# Defining vocabulary\n",
    "vocab = [x for x in \"abcdefghijklmnopqrstuvwxyz'1234567890? \"]"
   ]
  },
  {
   "cell_type": "code",
   "execution_count": 7,
   "metadata": {
    "ExecuteTime": {
     "end_time": "2023-08-18T21:10:26.149938Z",
     "start_time": "2023-08-18T21:10:26.084339100Z"
    }
   },
   "outputs": [
    {
     "data": {
      "text/plain": "['a',\n 'b',\n 'c',\n 'd',\n 'e',\n 'f',\n 'g',\n 'h',\n 'i',\n 'j',\n 'k',\n 'l',\n 'm',\n 'n',\n 'o',\n 'p',\n 'q',\n 'r',\n 's',\n 't',\n 'u',\n 'v',\n 'w',\n 'x',\n 'y',\n 'z',\n \"'\",\n '1',\n '2',\n '3',\n '4',\n '5',\n '6',\n '7',\n '8',\n '9',\n '0',\n '?',\n ' ']"
     },
     "execution_count": 7,
     "metadata": {},
     "output_type": "execute_result"
    }
   ],
   "source": [
    "vocab"
   ]
  },
  {
   "cell_type": "code",
   "execution_count": 8,
   "metadata": {
    "ExecuteTime": {
     "end_time": "2023-08-18T21:10:26.363256800Z",
     "start_time": "2023-08-18T21:10:26.097444600Z"
    }
   },
   "outputs": [
    {
     "name": "stdout",
     "output_type": "stream",
     "text": [
      "Input: ['a', 'b', 'c', 'd', 'e', 'f', 'g', 'h', 'i', 'j', 'k', 'l', 'm', 'n', 'o', 'p', 'q', 'r', 's', 't', 'u', 'v', 'w', 'x', 'y', 'z', \"'\", '1', '2', '3', '4', '5', '6', '7', '8', '9', '0', '?', ' ']\n",
      " Output: 40\n",
      "\n"
     ]
    }
   ],
   "source": [
    "# A nice and neat way to convert charts to nums and vice versa\n",
    "# This is taking from Keras Automatic speech recognition using CTC\n",
    "char_to_num = tf.keras.layers.StringLookup(vocabulary=vocab, oov_token=\"\")\n",
    "num_to_char = tf.keras.layers.StringLookup(\n",
    "    vocabulary=char_to_num.get_vocabulary(),\n",
    "    oov_token=\"\",\n",
    "    invert=True\n",
    ")\n",
    "print(\n",
    "    f\"Input: {vocab}\\n\",\n",
    "    f\"Output: {char_to_num.vocabulary_size()}\\n\"\n",
    ")"
   ]
  },
  {
   "cell_type": "code",
   "execution_count": 9,
   "metadata": {
    "ExecuteTime": {
     "end_time": "2023-08-18T21:10:26.409187600Z",
     "start_time": "2023-08-18T21:10:26.258495700Z"
    }
   },
   "outputs": [
    {
     "data": {
      "text/plain": "<tf.Tensor: shape=(3,), dtype=int64, numpy=array([ 1, 25, 25], dtype=int64)>"
     },
     "execution_count": 9,
     "metadata": {},
     "output_type": "execute_result"
    }
   ],
   "source": [
    "# Testing\n",
    "char_to_num(['a','y','y'])\n",
    "# So what we are doing is that we are converting the characters to numbers\n",
    "# This will help us later on converting these values to one-hot-coded"
   ]
  },
  {
   "cell_type": "code",
   "execution_count": 10,
   "metadata": {
    "ExecuteTime": {
     "end_time": "2023-08-18T21:10:26.457914100Z",
     "start_time": "2023-08-18T21:10:26.344441900Z"
    }
   },
   "outputs": [
    {
     "data": {
      "text/plain": "<tf.Tensor: shape=(3,), dtype=string, numpy=array([b'a', b'y', b'y'], dtype=object)>"
     },
     "execution_count": 10,
     "metadata": {},
     "output_type": "execute_result"
    }
   ],
   "source": [
    "num_to_char([ 1, 25, 25])"
   ]
  },
  {
   "cell_type": "code",
   "execution_count": 11,
   "metadata": {
    "ExecuteTime": {
     "end_time": "2023-08-18T21:10:26.779734400Z",
     "start_time": "2023-08-18T21:10:26.765058200Z"
    }
   },
   "outputs": [],
   "source": [
    "# Load alignments\n",
    "# Alignments are the text that is being said in the video\n",
    "def load_alignments(path:str) -> List[str]:\n",
    "    with open(path, 'r') as f:\n",
    "        alignments = f.readlines()\n",
    "    tokens = []\n",
    "    for alignment in alignments:\n",
    "        alignment = alignment.split()\n",
    "        if alignment[2] != 'sil':\n",
    "            tokens = [*tokens, ' ', alignment[2]]\n",
    "    tokens_unicode= tf.strings.unicode_split(tokens, 'UTF-8')\n",
    "    # print(tokens_unicode)\n",
    "    # Reshape the tensor to remove the first empty space\n",
    "    # tokens_unicode = tf.reshape(tokens_unicode, [1, -1])\n",
    "    # print(char_to_num(tokens_unicode)[1:])\n",
    "    return char_to_num(tf.reshape(tokens_unicode, [-1]))[1:]"
   ]
  },
  {
   "cell_type": "code",
   "execution_count": 12,
   "metadata": {
    "ExecuteTime": {
     "end_time": "2023-08-18T21:10:27.116862100Z",
     "start_time": "2023-08-18T21:10:27.106874300Z"
    }
   },
   "outputs": [],
   "source": [
    "# Load data from the dataset\n",
    "def load_data(path:str):\n",
    "    \"\"\"\n",
    "    This function will load the data from the folder and call the load_video and load_alignments functions to import the frames and alignments simultaneously\n",
    "    :param path: Path to the dataset\n",
    "    :return: frames, alignments\n",
    "    \"\"\"\n",
    "    path = bytes.decode(path.numpy()) # Convert the path to a string\n",
    "    file_name = path.split('\\\\')[-1].split('.')[0] # Get the file name\n",
    "    video_path = os.path.join('data','sequences',f'{file_name}.mpg') # Get the video path\n",
    "    alignment_path = os.path.join('data','alignments','s1',f'{file_name}.align') # Get the alignment path\n",
    "    return load_video(video_path), load_alignments(alignment_path)"
   ]
  },
  {
   "cell_type": "code",
   "execution_count": 13,
   "metadata": {
    "ExecuteTime": {
     "end_time": "2023-08-18T21:10:27.511372600Z",
     "start_time": "2023-08-18T21:10:27.503848800Z"
    }
   },
   "outputs": [],
   "source": [
    "# Just to quickly transform the alignments to text\n",
    "def alignments_to_text(alignments:List[int]) -> str:\n",
    "    return tf.strings.reduce_join(num_to_char(alignments)).numpy().decode('utf-8')"
   ]
  },
  {
   "cell_type": "code",
   "execution_count": 14,
   "metadata": {
    "ExecuteTime": {
     "end_time": "2023-08-18T21:10:28.659683500Z",
     "start_time": "2023-08-18T21:10:27.865257Z"
    }
   },
   "outputs": [],
   "source": [
    "# Testing\n",
    "test_path = '.\\\\data\\\\sequences\\\\bbal6n.mpg'\n",
    "tensor_path= tf.convert_to_tensor(test_path)\n",
    "frames, alignments=load_data(tensor_path)"
   ]
  },
  {
   "cell_type": "code",
   "execution_count": 15,
   "metadata": {
    "ExecuteTime": {
     "end_time": "2023-08-18T21:10:28.963671500Z",
     "start_time": "2023-08-18T21:10:28.657689400Z"
    }
   },
   "outputs": [
    {
     "data": {
      "text/plain": "<matplotlib.image.AxesImage at 0x215ad4cb290>"
     },
     "execution_count": 15,
     "metadata": {},
     "output_type": "execute_result"
    },
    {
     "data": {
      "text/plain": "<Figure size 640x480 with 1 Axes>",
      "image/png": "[encoded data removed]"
     },
     "metadata": {},
     "output_type": "display_data"
    }
   ],
   "source": [
    "plt.imshow(frames[0])"
   ]
  },
  {
   "cell_type": "code",
   "execution_count": 16,
   "metadata": {
    "ExecuteTime": {
     "end_time": "2023-08-18T21:10:29.787734200Z",
     "start_time": "2023-08-18T21:10:29.734488800Z"
    }
   },
   "outputs": [
    {
     "data": {
      "text/plain": "'bin blue at l six now'"
     },
     "execution_count": 16,
     "metadata": {},
     "output_type": "execute_result"
    }
   ],
   "source": [
    "alignments_to_text(alignments)"
   ]
  },
  {
   "cell_type": "code",
   "execution_count": 17,
   "metadata": {
    "ExecuteTime": {
     "end_time": "2023-08-18T21:10:30.119026600Z",
     "start_time": "2023-08-18T21:10:30.088509200Z"
    }
   },
   "outputs": [],
   "source": [
    "def mappabale_function (path:str)->List[str]:\n",
    "    \"\"\"\n",
    "    This function is used to map the load_data function to the dataset\n",
    "    :param path: Path to the dataset\n",
    "    :return:\n",
    "    \"\"\"\n",
    "    result = tf.py_function(load_data, [path], (tf.float32, tf.int64))\n",
    "    return result"
   ]
  },
  {
   "cell_type": "markdown",
   "metadata": {},
   "source": [
    "## 2. Data Pipeline"
   ]
  },
  {
   "cell_type": "code",
   "execution_count": 18,
   "metadata": {
    "ExecuteTime": {
     "end_time": "2023-08-18T21:10:31.710053700Z",
     "start_time": "2023-08-18T21:10:31.580816500Z"
    }
   },
   "outputs": [],
   "source": [
    "# Load the dataset\n",
    "dataset = tf.data.Dataset.list_files(os.path.join('data','sequences','*.mpg'))\n",
    "dataset =dataset.shuffle(100, reshuffle_each_iteration=False) # Shuffle the dataset\n",
    "dataset = dataset.map(mappabale_function) # Map the load_data function to the dataset\n",
    "dataset = dataset.padded_batch(2,padded_shapes=([75,None,None,None],[40])) # Pad the dataset, which means that we will make all the videos have the same length\n",
    "dataset = dataset.prefetch(tf.data.AUTOTUNE) # Prefetch the dataset whilw thw model is training"
   ]
  },
  {
   "cell_type": "code",
   "execution_count": 19,
   "metadata": {
    "ExecuteTime": {
     "end_time": "2023-08-18T21:10:31.984227800Z",
     "start_time": "2023-08-18T21:10:31.942869400Z"
    }
   },
   "outputs": [],
   "source": [
    "# Splitting training set and test set\n",
    "train_dataset = dataset.take(50)\n",
    "test_dataset = dataset.skip(50)"
   ]
  },
  {
   "cell_type": "code",
   "execution_count": 20,
   "metadata": {
    "ExecuteTime": {
     "end_time": "2023-08-18T21:10:34.751765Z",
     "start_time": "2023-08-18T21:10:32.248839200Z"
    }
   },
   "outputs": [],
   "source": [
    "# Testing\n",
    "frames, alignments = dataset.as_numpy_iterator().next()"
   ]
  },
  {
   "cell_type": "code",
   "execution_count": 21,
   "metadata": {
    "ExecuteTime": {
     "end_time": "2023-08-18T21:10:34.753760400Z",
     "start_time": "2023-08-18T21:10:34.751765Z"
    }
   },
   "outputs": [
    {
     "data": {
      "text/plain": "2"
     },
     "execution_count": 21,
     "metadata": {},
     "output_type": "execute_result"
    }
   ],
   "source": [
    "len(frames)"
   ]
  },
  {
   "cell_type": "code",
   "execution_count": 22,
   "metadata": {
    "ExecuteTime": {
     "end_time": "2023-08-18T21:10:36.552263600Z",
     "start_time": "2023-08-18T21:10:34.752763200Z"
    }
   },
   "outputs": [
    {
     "data": {
      "text/plain": "array([[[[[ 1.4727489 ],\n          [ 1.4727489 ],\n          [ 1.5115054 ],\n          ...,\n          [ 0.03875655],\n          [ 0.        ],\n          [ 0.        ]],\n\n         [[ 1.4727489 ],\n          [ 1.4727489 ],\n          [ 1.5115054 ],\n          ...,\n          [ 0.03875655],\n          [ 0.        ],\n          [ 0.        ]],\n\n         [[ 1.3564792 ],\n          [ 1.3564792 ],\n          [ 1.3564792 ],\n          ...,\n          [ 0.03875655],\n          [ 0.03875655],\n          [ 0.03875655]],\n\n         ...,\n\n         [[ 1.0076703 ],\n          [ 1.0076703 ],\n          [ 1.0076703 ],\n          ...,\n          [ 9.65038   ],\n          [ 9.65038   ],\n          [ 9.65038   ]],\n\n         [[ 0.9301571 ],\n          [ 0.9301571 ],\n          [ 0.9301571 ],\n          ...,\n          [ 9.611624  ],\n          [ 9.611624  ],\n          [ 9.611624  ]],\n\n         [[ 0.9301571 ],\n          [ 0.9301571 ],\n          [ 0.9301571 ],\n          ...,\n          [ 9.611624  ],\n          [ 9.611624  ],\n          [ 9.611624  ]]],\n\n\n        [[[ 1.3952358 ],\n          [ 1.3952358 ],\n          [ 1.4727489 ],\n          ...,\n          [ 0.0775131 ],\n          [ 0.03875655],\n          [ 0.03875655]],\n\n         [[ 1.3952358 ],\n          [ 1.3952358 ],\n          [ 1.4727489 ],\n          ...,\n          [ 0.0775131 ],\n          [ 0.03875655],\n          [ 0.03875655]],\n\n         [[ 1.3952358 ],\n          [ 1.3952358 ],\n          [ 1.3952358 ],\n          ...,\n          [ 0.        ],\n          [ 0.        ],\n          [ 0.        ]],\n\n         ...,\n\n         [[ 1.0464268 ],\n          [ 1.0464268 ],\n          [ 1.0076703 ],\n          ...,\n          [ 9.611624  ],\n          [ 9.611624  ],\n          [ 9.611624  ]],\n\n         [[ 0.9689137 ],\n          [ 0.9689137 ],\n          [ 0.9301571 ],\n          ...,\n          [ 9.611624  ],\n          [ 9.611624  ],\n          [ 9.611624  ]],\n\n         [[ 0.9689137 ],\n          [ 0.9689137 ],\n          [ 0.9301571 ],\n          ...,\n          [ 9.611624  ],\n          [ 9.611624  ],\n          [ 9.611624  ]]],\n\n\n        [[[ 1.4339923 ],\n          [ 1.4339923 ],\n          [ 1.4339923 ],\n          ...,\n          [ 0.0775131 ],\n          [ 0.03875655],\n          [ 0.03875655]],\n\n         [[ 1.4339923 ],\n          [ 1.4339923 ],\n          [ 1.4339923 ],\n          ...,\n          [ 0.0775131 ],\n          [ 0.03875655],\n          [ 0.03875655]],\n\n         [[ 1.3952358 ],\n          [ 1.3952358 ],\n          [ 1.3952358 ],\n          ...,\n          [ 0.        ],\n          [ 0.        ],\n          [ 0.        ]],\n\n         ...,\n\n         [[ 1.0464268 ],\n          [ 1.0464268 ],\n          [ 1.0076703 ],\n          ...,\n          [ 9.65038   ],\n          [ 9.65038   ],\n          [ 9.65038   ]],\n\n         [[ 0.9689137 ],\n          [ 0.9689137 ],\n          [ 0.9301571 ],\n          ...,\n          [ 9.611624  ],\n          [ 9.611624  ],\n          [ 9.611624  ]],\n\n         [[ 0.9689137 ],\n          [ 0.9689137 ],\n          [ 0.9301571 ],\n          ...,\n          [ 9.611624  ],\n          [ 9.611624  ],\n          [ 9.611624  ]]],\n\n\n        ...,\n\n\n        [[[ 1.5115054 ],\n          [ 1.5115054 ],\n          [ 1.5890185 ],\n          ...,\n          [ 0.0775131 ],\n          [ 0.03875655],\n          [ 0.03875655]],\n\n         [[ 1.5115054 ],\n          [ 1.5115054 ],\n          [ 1.5890185 ],\n          ...,\n          [ 0.0775131 ],\n          [ 0.03875655],\n          [ 0.03875655]],\n\n         [[ 1.3952358 ],\n          [ 1.3952358 ],\n          [ 1.3952358 ],\n          ...,\n          [ 0.03875655],\n          [ 0.03875655],\n          [ 0.03875655]],\n\n         ...,\n\n         [[ 1.0076703 ],\n          [ 0.9689137 ],\n          [ 0.9689137 ],\n          ...,\n          [ 9.611624  ],\n          [ 9.611624  ],\n          [ 9.611624  ]],\n\n         [[ 1.0076703 ],\n          [ 0.9689137 ],\n          [ 0.9689137 ],\n          ...,\n          [ 9.611624  ],\n          [ 9.611624  ],\n          [ 9.611624  ]],\n\n         [[ 1.0076703 ],\n          [ 0.9689137 ],\n          [ 0.9689137 ],\n          ...,\n          [ 9.611624  ],\n          [ 9.611624  ],\n          [ 9.611624  ]]],\n\n\n        [[[ 1.4339923 ],\n          [ 1.5115054 ],\n          [ 1.5115054 ],\n          ...,\n          [ 0.0775131 ],\n          [ 0.03875655],\n          [ 0.03875655]],\n\n         [[ 1.4339923 ],\n          [ 1.4339923 ],\n          [ 1.5115054 ],\n          ...,\n          [ 0.0775131 ],\n          [ 0.03875655],\n          [ 0.03875655]],\n\n         [[ 1.4727489 ],\n          [ 1.4727489 ],\n          [ 1.4727489 ],\n          ...,\n          [ 0.0775131 ],\n          [ 0.0775131 ],\n          [ 0.0775131 ]],\n\n         ...,\n\n         [[ 1.0076703 ],\n          [ 0.9689137 ],\n          [ 0.9689137 ],\n          ...,\n          [ 9.611624  ],\n          [ 9.611624  ],\n          [ 9.65038   ]],\n\n         [[ 1.0076703 ],\n          [ 0.9689137 ],\n          [ 0.9689137 ],\n          ...,\n          [ 9.611624  ],\n          [ 9.611624  ],\n          [ 9.611624  ]],\n\n         [[ 1.0076703 ],\n          [ 0.9689137 ],\n          [ 0.9689137 ],\n          ...,\n          [ 9.611624  ],\n          [ 9.611624  ],\n          [ 9.611624  ]]],\n\n\n        [[[ 1.4727489 ],\n          [ 1.5115054 ],\n          [ 1.5115054 ],\n          ...,\n          [ 0.03875655],\n          [ 0.03875655],\n          [ 0.03875655]],\n\n         [[ 1.4727489 ],\n          [ 1.4727489 ],\n          [ 1.5115054 ],\n          ...,\n          [ 0.03875655],\n          [ 0.03875655],\n          [ 0.03875655]],\n\n         [[ 1.3952358 ],\n          [ 1.3952358 ],\n          [ 1.3952358 ],\n          ...,\n          [ 0.0775131 ],\n          [ 0.0775131 ],\n          [ 0.0775131 ]],\n\n         ...,\n\n         [[ 1.0076703 ],\n          [ 0.9689137 ],\n          [ 0.9689137 ],\n          ...,\n          [ 9.611624  ],\n          [ 9.611624  ],\n          [ 9.65038   ]],\n\n         [[ 1.0076703 ],\n          [ 0.9689137 ],\n          [ 0.9689137 ],\n          ...,\n          [ 9.611624  ],\n          [ 9.611624  ],\n          [ 9.611624  ]],\n\n         [[ 1.0076703 ],\n          [ 0.9689137 ],\n          [ 0.9689137 ],\n          ...,\n          [ 9.611624  ],\n          [ 9.611624  ],\n          [ 9.611624  ]]]],\n\n\n\n       [[[[ 1.4287829 ],\n          [ 1.4287829 ],\n          [ 1.4287829 ],\n          ...,\n          [10.715872  ],\n          [ 0.04202303],\n          [ 0.04202303]],\n\n         [[ 1.4287829 ],\n          [ 1.4287829 ],\n          [ 1.4287829 ],\n          ...,\n          [10.715872  ],\n          [ 0.04202303],\n          [ 0.04202303]],\n\n         [[ 1.3867599 ],\n          [ 1.3867599 ],\n          [ 1.3867599 ],\n          ...,\n          [ 0.08404606],\n          [ 0.04202303],\n          [ 0.04202303]],\n\n         ...,\n\n         [[ 0.96652967],\n          [ 0.96652967],\n          [ 0.96652967],\n          ...,\n          [10.463734  ],\n          [10.463734  ],\n          [10.463734  ]],\n\n         [[ 0.9245066 ],\n          [ 0.9245066 ],\n          [ 0.9245066 ],\n          ...,\n          [10.463734  ],\n          [10.463734  ],\n          [10.463734  ]],\n\n         [[ 0.9245066 ],\n          [ 0.9245066 ],\n          [ 0.9245066 ],\n          ...,\n          [10.463734  ],\n          [10.463734  ],\n          [10.463734  ]]],\n\n\n        [[[ 1.3867599 ],\n          [ 1.3867599 ],\n          [ 1.4287829 ],\n          ...,\n          [10.715872  ],\n          [10.715872  ],\n          [10.715872  ]],\n\n         [[ 1.3867599 ],\n          [ 1.3867599 ],\n          [ 1.4287829 ],\n          ...,\n          [10.715872  ],\n          [10.715872  ],\n          [10.715872  ]],\n\n         [[ 1.3867599 ],\n          [ 1.3867599 ],\n          [ 1.3867599 ],\n          ...,\n          [ 0.        ],\n          [ 0.        ],\n          [10.715872  ]],\n\n         ...,\n\n         [[ 0.96652967],\n          [ 0.96652967],\n          [ 0.96652967],\n          ...,\n          [10.463734  ],\n          [10.463734  ],\n          [10.463734  ]],\n\n         [[ 0.9245066 ],\n          [ 0.9245066 ],\n          [ 0.9245066 ],\n          ...,\n          [10.463734  ],\n          [10.463734  ],\n          [10.463734  ]],\n\n         [[ 0.9245066 ],\n          [ 0.9245066 ],\n          [ 0.9245066 ],\n          ...,\n          [10.463734  ],\n          [10.463734  ],\n          [10.463734  ]]],\n\n\n        [[[ 1.470806  ],\n          [ 1.470806  ],\n          [ 1.4287829 ],\n          ...,\n          [ 0.        ],\n          [10.715872  ],\n          [10.715872  ]],\n\n         [[ 1.470806  ],\n          [ 1.470806  ],\n          [ 1.4287829 ],\n          ...,\n          [ 0.        ],\n          [10.715872  ],\n          [10.715872  ]],\n\n         [[ 1.3867599 ],\n          [ 1.3867599 ],\n          [ 1.3867599 ],\n          ...,\n          [10.715872  ],\n          [ 0.        ],\n          [10.715872  ]],\n\n         ...,\n\n         [[ 1.0085527 ],\n          [ 1.0085527 ],\n          [ 1.0085527 ],\n          ...,\n          [10.463734  ],\n          [10.463734  ],\n          [10.463734  ]],\n\n         [[ 0.96652967],\n          [ 0.96652967],\n          [ 0.96652967],\n          ...,\n          [10.463734  ],\n          [10.463734  ],\n          [10.463734  ]],\n\n         [[ 0.96652967],\n          [ 0.96652967],\n          [ 0.96652967],\n          ...,\n          [10.463734  ],\n          [10.463734  ],\n          [10.463734  ]]],\n\n\n        ...,\n\n\n        [[[ 1.4287829 ],\n          [ 1.4287829 ],\n          [ 1.3867599 ],\n          ...,\n          [ 0.        ],\n          [ 0.        ],\n          [ 0.        ]],\n\n         [[ 1.3867599 ],\n          [ 1.3867599 ],\n          [ 1.3447369 ],\n          ...,\n          [ 0.        ],\n          [ 0.        ],\n          [ 0.        ]],\n\n         [[ 1.3867599 ],\n          [ 1.3867599 ],\n          [ 1.3867599 ],\n          ...,\n          [10.715872  ],\n          [10.715872  ],\n          [10.715872  ]],\n\n         ...,\n\n         [[ 0.9245066 ],\n          [ 0.9245066 ],\n          [ 0.9245066 ],\n          ...,\n          [10.463734  ],\n          [10.463734  ],\n          [10.463734  ]],\n\n         [[ 0.9245066 ],\n          [ 0.9245066 ],\n          [ 0.9245066 ],\n          ...,\n          [10.463734  ],\n          [10.463734  ],\n          [10.463734  ]],\n\n         [[ 0.9245066 ],\n          [ 0.9245066 ],\n          [ 0.8824836 ],\n          ...,\n          [10.421711  ],\n          [10.421711  ],\n          [10.421711  ]]],\n\n\n        [[[ 1.3867599 ],\n          [ 1.3867599 ],\n          [ 1.3867599 ],\n          ...,\n          [10.715872  ],\n          [ 0.        ],\n          [ 0.        ]],\n\n         [[ 1.3867599 ],\n          [ 1.3867599 ],\n          [ 1.3867599 ],\n          ...,\n          [10.715872  ],\n          [ 0.        ],\n          [ 0.        ]],\n\n         [[ 1.3867599 ],\n          [ 1.3867599 ],\n          [ 1.3867599 ],\n          ...,\n          [10.673849  ],\n          [10.673849  ],\n          [10.673849  ]],\n\n         ...,\n\n         [[ 0.9245066 ],\n          [ 0.9245066 ],\n          [ 0.9245066 ],\n          ...,\n          [10.463734  ],\n          [10.463734  ],\n          [10.463734  ]],\n\n         [[ 0.9245066 ],\n          [ 0.9245066 ],\n          [ 0.8824836 ],\n          ...,\n          [10.421711  ],\n          [10.421711  ],\n          [10.421711  ]],\n\n         [[ 0.9245066 ],\n          [ 0.8824836 ],\n          [ 0.8824836 ],\n          ...,\n          [10.421711  ],\n          [10.421711  ],\n          [10.421711  ]]],\n\n\n        [[[ 1.470806  ],\n          [ 1.470806  ],\n          [ 1.3867599 ],\n          ...,\n          [10.715872  ],\n          [10.715872  ],\n          [10.715872  ]],\n\n         [[ 1.4287829 ],\n          [ 1.4287829 ],\n          [ 1.3447369 ],\n          ...,\n          [10.715872  ],\n          [10.715872  ],\n          [10.715872  ]],\n\n         [[ 1.4287829 ],\n          [ 1.4287829 ],\n          [ 1.4287829 ],\n          ...,\n          [10.715872  ],\n          [10.673849  ],\n          [10.673849  ]],\n\n         ...,\n\n         [[ 0.96652967],\n          [ 0.96652967],\n          [ 0.96652967],\n          ...,\n          [10.463734  ],\n          [10.463734  ],\n          [10.463734  ]],\n\n         [[ 0.96652967],\n          [ 0.96652967],\n          [ 0.9245066 ],\n          ...,\n          [10.421711  ],\n          [10.421711  ],\n          [10.421711  ]],\n\n         [[ 0.96652967],\n          [ 0.9245066 ],\n          [ 0.9245066 ],\n          ...,\n          [10.421711  ],\n          [10.421711  ],\n          [10.421711  ]]]]], dtype=float32)"
     },
     "execution_count": 22,
     "metadata": {},
     "output_type": "execute_result"
    }
   ],
   "source": [
    "test = dataset.as_numpy_iterator()\n",
    "val=test.next()\n",
    "val[0]"
   ]
  },
  {
   "cell_type": "code",
   "execution_count": 23,
   "metadata": {
    "ExecuteTime": {
     "end_time": "2023-08-18T21:10:37.276286500Z",
     "start_time": "2023-08-18T21:10:36.552263600Z"
    }
   },
   "outputs": [
    {
     "name": "stderr",
     "output_type": "stream",
     "text": [
      "Lossy conversion from float32 to uint8. Range [0.0, 10.715871810913086]. Convert image to uint8 prior to saving to suppress this warning.\n",
      "Lossy conversion from float32 to uint8. Range [0.0, 10.715871810913086]. Convert image to uint8 prior to saving to suppress this warning.\n",
      "Lossy conversion from float32 to uint8. Range [0.0, 10.715871810913086]. Convert image to uint8 prior to saving to suppress this warning.\n",
      "Lossy conversion from float32 to uint8. Range [0.0, 10.715871810913086]. Convert image to uint8 prior to saving to suppress this warning.\n",
      "Lossy conversion from float32 to uint8. Range [0.0, 10.715871810913086]. Convert image to uint8 prior to saving to suppress this warning.\n",
      "Lossy conversion from float32 to uint8. Range [0.0, 10.715871810913086]. Convert image to uint8 prior to saving to suppress this warning.\n",
      "Lossy conversion from float32 to uint8. Range [0.0, 10.715871810913086]. Convert image to uint8 prior to saving to suppress this warning.\n",
      "Lossy conversion from float32 to uint8. Range [0.0, 10.715871810913086]. Convert image to uint8 prior to saving to suppress this warning.\n",
      "Lossy conversion from float32 to uint8. Range [0.0, 10.715871810913086]. Convert image to uint8 prior to saving to suppress this warning.\n",
      "Lossy conversion from float32 to uint8. Range [0.0, 10.715871810913086]. Convert image to uint8 prior to saving to suppress this warning.\n",
      "Lossy conversion from float32 to uint8. Range [0.0, 10.715871810913086]. Convert image to uint8 prior to saving to suppress this warning.\n",
      "Lossy conversion from float32 to uint8. Range [0.0, 10.715871810913086]. Convert image to uint8 prior to saving to suppress this warning.\n",
      "Lossy conversion from float32 to uint8. Range [0.0, 10.715871810913086]. Convert image to uint8 prior to saving to suppress this warning.\n",
      "Lossy conversion from float32 to uint8. Range [0.0, 10.715871810913086]. Convert image to uint8 prior to saving to suppress this warning.\n",
      "Lossy conversion from float32 to uint8. Range [0.0, 10.715871810913086]. Convert image to uint8 prior to saving to suppress this warning.\n",
      "Lossy conversion from float32 to uint8. Range [0.0, 10.715871810913086]. Convert image to uint8 prior to saving to suppress this warning.\n",
      "Lossy conversion from float32 to uint8. Range [0.0, 10.715871810913086]. Convert image to uint8 prior to saving to suppress this warning.\n",
      "Lossy conversion from float32 to uint8. Range [0.0, 10.715871810913086]. Convert image to uint8 prior to saving to suppress this warning.\n",
      "Lossy conversion from float32 to uint8. Range [0.0, 10.715871810913086]. Convert image to uint8 prior to saving to suppress this warning.\n",
      "Lossy conversion from float32 to uint8. Range [0.0, 10.715871810913086]. Convert image to uint8 prior to saving to suppress this warning.\n",
      "Lossy conversion from float32 to uint8. Range [0.0, 10.715871810913086]. Convert image to uint8 prior to saving to suppress this warning.\n",
      "Lossy conversion from float32 to uint8. Range [0.0, 10.715871810913086]. Convert image to uint8 prior to saving to suppress this warning.\n",
      "Lossy conversion from float32 to uint8. Range [0.0, 10.715871810913086]. Convert image to uint8 prior to saving to suppress this warning.\n",
      "Lossy conversion from float32 to uint8. Range [0.0, 10.715871810913086]. Convert image to uint8 prior to saving to suppress this warning.\n",
      "Lossy conversion from float32 to uint8. Range [0.0, 10.715871810913086]. Convert image to uint8 prior to saving to suppress this warning.\n",
      "Lossy conversion from float32 to uint8. Range [0.0, 10.715871810913086]. Convert image to uint8 prior to saving to suppress this warning.\n",
      "Lossy conversion from float32 to uint8. Range [0.0, 10.715871810913086]. Convert image to uint8 prior to saving to suppress this warning.\n",
      "Lossy conversion from float32 to uint8. Range [0.0, 10.715871810913086]. Convert image to uint8 prior to saving to suppress this warning.\n",
      "Lossy conversion from float32 to uint8. Range [0.0, 10.715871810913086]. Convert image to uint8 prior to saving to suppress this warning.\n",
      "Lossy conversion from float32 to uint8. Range [0.0, 10.715871810913086]. Convert image to uint8 prior to saving to suppress this warning.\n",
      "Lossy conversion from float32 to uint8. Range [0.0, 10.715871810913086]. Convert image to uint8 prior to saving to suppress this warning.\n",
      "Lossy conversion from float32 to uint8. Range [0.0, 10.715871810913086]. Convert image to uint8 prior to saving to suppress this warning.\n",
      "Lossy conversion from float32 to uint8. Range [0.0, 10.715871810913086]. Convert image to uint8 prior to saving to suppress this warning.\n",
      "Lossy conversion from float32 to uint8. Range [0.0, 10.715871810913086]. Convert image to uint8 prior to saving to suppress this warning.\n",
      "Lossy conversion from float32 to uint8. Range [0.0, 10.715871810913086]. Convert image to uint8 prior to saving to suppress this warning.\n",
      "Lossy conversion from float32 to uint8. Range [0.0, 10.715871810913086]. Convert image to uint8 prior to saving to suppress this warning.\n",
      "Lossy conversion from float32 to uint8. Range [0.0, 10.715871810913086]. Convert image to uint8 prior to saving to suppress this warning.\n",
      "Lossy conversion from float32 to uint8. Range [0.0, 10.715871810913086]. Convert image to uint8 prior to saving to suppress this warning.\n",
      "Lossy conversion from float32 to uint8. Range [0.0, 10.715871810913086]. Convert image to uint8 prior to saving to suppress this warning.\n",
      "Lossy conversion from float32 to uint8. Range [0.0, 10.715871810913086]. Convert image to uint8 prior to saving to suppress this warning.\n",
      "Lossy conversion from float32 to uint8. Range [0.0, 10.715871810913086]. Convert image to uint8 prior to saving to suppress this warning.\n",
      "Lossy conversion from float32 to uint8. Range [0.0, 10.715871810913086]. Convert image to uint8 prior to saving to suppress this warning.\n",
      "Lossy conversion from float32 to uint8. Range [0.0, 10.715871810913086]. Convert image to uint8 prior to saving to suppress this warning.\n",
      "Lossy conversion from float32 to uint8. Range [0.0, 10.715871810913086]. Convert image to uint8 prior to saving to suppress this warning.\n",
      "Lossy conversion from float32 to uint8. Range [0.0, 10.715871810913086]. Convert image to uint8 prior to saving to suppress this warning.\n",
      "Lossy conversion from float32 to uint8. Range [0.0, 10.715871810913086]. Convert image to uint8 prior to saving to suppress this warning.\n",
      "Lossy conversion from float32 to uint8. Range [0.0, 10.715871810913086]. Convert image to uint8 prior to saving to suppress this warning.\n",
      "Lossy conversion from float32 to uint8. Range [0.0, 10.715871810913086]. Convert image to uint8 prior to saving to suppress this warning.\n",
      "Lossy conversion from float32 to uint8. Range [0.0, 10.715871810913086]. Convert image to uint8 prior to saving to suppress this warning.\n",
      "Lossy conversion from float32 to uint8. Range [0.0, 10.715871810913086]. Convert image to uint8 prior to saving to suppress this warning.\n",
      "Lossy conversion from float32 to uint8. Range [0.0, 10.715871810913086]. Convert image to uint8 prior to saving to suppress this warning.\n",
      "Lossy conversion from float32 to uint8. Range [0.0, 10.715871810913086]. Convert image to uint8 prior to saving to suppress this warning.\n",
      "Lossy conversion from float32 to uint8. Range [0.0, 10.715871810913086]. Convert image to uint8 prior to saving to suppress this warning.\n",
      "Lossy conversion from float32 to uint8. Range [0.0, 10.715871810913086]. Convert image to uint8 prior to saving to suppress this warning.\n",
      "Lossy conversion from float32 to uint8. Range [0.0, 10.715871810913086]. Convert image to uint8 prior to saving to suppress this warning.\n",
      "Lossy conversion from float32 to uint8. Range [0.0, 10.715871810913086]. Convert image to uint8 prior to saving to suppress this warning.\n",
      "Lossy conversion from float32 to uint8. Range [0.0, 10.715871810913086]. Convert image to uint8 prior to saving to suppress this warning.\n",
      "Lossy conversion from float32 to uint8. Range [0.0, 10.715871810913086]. Convert image to uint8 prior to saving to suppress this warning.\n",
      "Lossy conversion from float32 to uint8. Range [0.0, 10.715871810913086]. Convert image to uint8 prior to saving to suppress this warning.\n",
      "Lossy conversion from float32 to uint8. Range [0.0, 10.715871810913086]. Convert image to uint8 prior to saving to suppress this warning.\n",
      "Lossy conversion from float32 to uint8. Range [0.0, 10.715871810913086]. Convert image to uint8 prior to saving to suppress this warning.\n",
      "Lossy conversion from float32 to uint8. Range [0.0, 10.715871810913086]. Convert image to uint8 prior to saving to suppress this warning.\n",
      "Lossy conversion from float32 to uint8. Range [0.0, 10.715871810913086]. Convert image to uint8 prior to saving to suppress this warning.\n",
      "Lossy conversion from float32 to uint8. Range [0.0, 10.715871810913086]. Convert image to uint8 prior to saving to suppress this warning.\n",
      "Lossy conversion from float32 to uint8. Range [0.0, 10.715871810913086]. Convert image to uint8 prior to saving to suppress this warning.\n",
      "Lossy conversion from float32 to uint8. Range [0.0, 10.715871810913086]. Convert image to uint8 prior to saving to suppress this warning.\n",
      "Lossy conversion from float32 to uint8. Range [0.0, 10.715871810913086]. Convert image to uint8 prior to saving to suppress this warning.\n",
      "Lossy conversion from float32 to uint8. Range [0.0, 10.715871810913086]. Convert image to uint8 prior to saving to suppress this warning.\n",
      "Lossy conversion from float32 to uint8. Range [0.0, 10.715871810913086]. Convert image to uint8 prior to saving to suppress this warning.\n",
      "Lossy conversion from float32 to uint8. Range [0.0, 10.715871810913086]. Convert image to uint8 prior to saving to suppress this warning.\n",
      "Lossy conversion from float32 to uint8. Range [0.0, 10.715871810913086]. Convert image to uint8 prior to saving to suppress this warning.\n",
      "Lossy conversion from float32 to uint8. Range [0.0, 10.715871810913086]. Convert image to uint8 prior to saving to suppress this warning.\n",
      "Lossy conversion from float32 to uint8. Range [0.0, 10.715871810913086]. Convert image to uint8 prior to saving to suppress this warning.\n",
      "Lossy conversion from float32 to uint8. Range [0.0, 10.715871810913086]. Convert image to uint8 prior to saving to suppress this warning.\n",
      "Lossy conversion from float32 to uint8. Range [0.0, 10.715871810913086]. Convert image to uint8 prior to saving to suppress this warning.\n"
     ]
    }
   ],
   "source": [
    "# Additionally, we can export the gif of the video\n",
    "imageio.mimsave('test.gif', val[0][1])"
   ]
  },
  {
   "cell_type": "code",
   "execution_count": 24,
   "metadata": {
    "ExecuteTime": {
     "end_time": "2023-08-18T21:10:37.522430Z",
     "start_time": "2023-08-18T21:10:37.212589600Z"
    }
   },
   "outputs": [
    {
     "data": {
      "text/plain": "<matplotlib.image.AxesImage at 0x215ae638090>"
     },
     "execution_count": 24,
     "metadata": {},
     "output_type": "execute_result"
    },
    {
     "data": {
      "text/plain": "<Figure size 640x480 with 1 Axes>",
      "image/png": "[encoded data removed]"
     },
     "metadata": {},
     "output_type": "display_data"
    }
   ],
   "source": [
    "plt.imshow(val[0][0][35])\n",
    "# 0 : videos, 0 : first video, 1 : second fram"
   ]
  },
  {
   "cell_type": "code",
   "execution_count": 25,
   "metadata": {
    "ExecuteTime": {
     "end_time": "2023-08-18T21:10:37.536968600Z",
     "start_time": "2023-08-18T21:10:37.521436600Z"
    }
   },
   "outputs": [
    {
     "data": {
      "text/plain": "'place red with d seven again'"
     },
     "execution_count": 25,
     "metadata": {},
     "output_type": "execute_result"
    }
   ],
   "source": [
    "alignments_to_text(val[1][0])"
   ]
  },
  {
   "cell_type": "markdown",
   "metadata": {},
   "source": [
    "## 3. Building the deep neural network"
   ]
  },
  {
   "cell_type": "code",
   "execution_count": null,
   "metadata": {},
   "outputs": [],
   "source": []
  },
  {
   "cell_type": "code",
   "execution_count": 45,
   "metadata": {
    "ExecuteTime": {
     "end_time": "2023-08-16T19:36:05.370960700Z",
     "start_time": "2023-08-16T19:35:56.988667100Z"
    }
   },
   "outputs": [
    {
     "name": "stdout",
     "output_type": "stream",
     "text": [
      "Requirement already satisfied: tensorflow==2.8 in c:\\users\\aitay\\anaconda3\\lib\\site-packages (2.8.0)\n",
      "Requirement already satisfied: absl-py>=0.4.0 in c:\\users\\aitay\\anaconda3\\lib\\site-packages (from tensorflow==2.8) (1.4.0)\n",
      "Requirement already satisfied: flatbuffers>=1.12 in c:\\users\\aitay\\anaconda3\\lib\\site-packages (from tensorflow==2.8) (23.5.26)\n",
      "Requirement already satisfied: gast>=0.2.1 in c:\\users\\aitay\\anaconda3\\lib\\site-packages (from tensorflow==2.8) (0.4.0)\n",
      "Requirement already satisfied: tensorboard<2.9,>=2.8 in c:\\users\\aitay\\anaconda3\\lib\\site-packages (from tensorflow==2.8) (2.8.0)\n",
      "Requirement already satisfied: grpcio<2.0,>=1.24.3 in c:\\users\\aitay\\anaconda3\\lib\\site-packages (from tensorflow==2.8) (1.56.2)\n",
      "Requirement already satisfied: tensorflow-io-gcs-filesystem>=0.23.1 in c:\\users\\aitay\\anaconda3\\lib\\site-packages (from tensorflow==2.8) (0.31.0)\n",
      "Requirement already satisfied: astunparse>=1.6.0 in c:\\users\\aitay\\anaconda3\\lib\\site-packages (from tensorflow==2.8) (1.6.3)\n",
      "Requirement already satisfied: h5py>=2.9.0 in c:\\users\\aitay\\anaconda3\\lib\\site-packages (from tensorflow==2.8) (3.7.0)\n",
      "Requirement already satisfied: setuptools in c:\\users\\aitay\\anaconda3\\lib\\site-packages (from tensorflow==2.8) (65.6.3)\n",
      "Requirement already satisfied: termcolor>=1.1.0 in c:\\users\\aitay\\anaconda3\\lib\\site-packages (from tensorflow==2.8) (2.3.0)\n",
      "Requirement already satisfied: libclang>=9.0.1 in c:\\users\\aitay\\anaconda3\\lib\\site-packages (from tensorflow==2.8) (16.0.6)\n",
      "Requirement already satisfied: protobuf>=3.9.2 in c:\\users\\aitay\\anaconda3\\lib\\site-packages (from tensorflow==2.8) (3.20.3)\n",
      "Requirement already satisfied: google-pasta>=0.1.1 in c:\\users\\aitay\\anaconda3\\lib\\site-packages (from tensorflow==2.8) (0.2.0)\n",
      "Requirement already satisfied: numpy>=1.20 in c:\\users\\aitay\\anaconda3\\lib\\site-packages (from tensorflow==2.8) (1.23.5)\n",
      "Requirement already satisfied: keras<2.9,>=2.8.0rc0 in c:\\users\\aitay\\anaconda3\\lib\\site-packages (from tensorflow==2.8) (2.8.0)\n",
      "Requirement already satisfied: wrapt>=1.11.0 in c:\\users\\aitay\\anaconda3\\lib\\site-packages (from tensorflow==2.8) (1.14.1)\n",
      "Requirement already satisfied: typing-extensions>=3.6.6 in c:\\users\\aitay\\anaconda3\\lib\\site-packages (from tensorflow==2.8) (4.4.0)\n",
      "Requirement already satisfied: keras-preprocessing>=1.1.1 in c:\\users\\aitay\\anaconda3\\lib\\site-packages (from tensorflow==2.8) (1.1.2)\n",
      "Requirement already satisfied: six>=1.12.0 in c:\\users\\aitay\\anaconda3\\lib\\site-packages (from tensorflow==2.8) (1.16.0)\n",
      "Requirement already satisfied: tf-estimator-nightly==2.8.0.dev2021122109 in c:\\users\\aitay\\anaconda3\\lib\\site-packages (from tensorflow==2.8) (2.8.0.dev2021122109)\n",
      "Requirement already satisfied: opt-einsum>=2.3.2 in c:\\users\\aitay\\anaconda3\\lib\\site-packages (from tensorflow==2.8) (3.3.0)\n",
      "Requirement already satisfied: wheel<1.0,>=0.23.0 in c:\\users\\aitay\\anaconda3\\lib\\site-packages (from astunparse>=1.6.0->tensorflow==2.8) (0.38.4)\n",
      "Requirement already satisfied: google-auth<3,>=1.6.3 in c:\\users\\aitay\\anaconda3\\lib\\site-packages (from tensorboard<2.9,>=2.8->tensorflow==2.8) (2.22.0)\n",
      "Requirement already satisfied: google-auth-oauthlib<0.5,>=0.4.1 in c:\\users\\aitay\\anaconda3\\lib\\site-packages (from tensorboard<2.9,>=2.8->tensorflow==2.8) (0.4.6)\n",
      "Requirement already satisfied: requests<3,>=2.21.0 in c:\\users\\aitay\\anaconda3\\lib\\site-packages (from tensorboard<2.9,>=2.8->tensorflow==2.8) (2.28.1)\n",
      "Requirement already satisfied: markdown>=2.6.8 in c:\\users\\aitay\\anaconda3\\lib\\site-packages (from tensorboard<2.9,>=2.8->tensorflow==2.8) (3.4.1)\n",
      "Requirement already satisfied: werkzeug>=0.11.15 in c:\\users\\aitay\\anaconda3\\lib\\site-packages (from tensorboard<2.9,>=2.8->tensorflow==2.8) (2.2.2)\n",
      "Requirement already satisfied: tensorboard-data-server<0.7.0,>=0.6.0 in c:\\users\\aitay\\anaconda3\\lib\\site-packages (from tensorboard<2.9,>=2.8->tensorflow==2.8) (0.6.1)\n",
      "Requirement already satisfied: tensorboard-plugin-wit>=1.6.0 in c:\\users\\aitay\\anaconda3\\lib\\site-packages (from tensorboard<2.9,>=2.8->tensorflow==2.8) (1.8.1)\n",
      "Requirement already satisfied: rsa<5,>=3.1.4 in c:\\users\\aitay\\anaconda3\\lib\\site-packages (from google-auth<3,>=1.6.3->tensorboard<2.9,>=2.8->tensorflow==2.8) (4.9)\n",
      "Requirement already satisfied: cachetools<6.0,>=2.0.0 in c:\\users\\aitay\\anaconda3\\lib\\site-packages (from google-auth<3,>=1.6.3->tensorboard<2.9,>=2.8->tensorflow==2.8) (5.3.1)\n",
      "Requirement already satisfied: pyasn1-modules>=0.2.1 in c:\\users\\aitay\\anaconda3\\lib\\site-packages (from google-auth<3,>=1.6.3->tensorboard<2.9,>=2.8->tensorflow==2.8) (0.2.8)\n",
      "Requirement already satisfied: urllib3<2.0 in c:\\users\\aitay\\anaconda3\\lib\\site-packages (from google-auth<3,>=1.6.3->tensorboard<2.9,>=2.8->tensorflow==2.8) (1.26.14)\n",
      "Requirement already satisfied: requests-oauthlib>=0.7.0 in c:\\users\\aitay\\anaconda3\\lib\\site-packages (from google-auth-oauthlib<0.5,>=0.4.1->tensorboard<2.9,>=2.8->tensorflow==2.8) (1.3.1)\n",
      "Requirement already satisfied: charset-normalizer<3,>=2 in c:\\users\\aitay\\anaconda3\\lib\\site-packages (from requests<3,>=2.21.0->tensorboard<2.9,>=2.8->tensorflow==2.8) (2.0.4)\n",
      "Requirement already satisfied: certifi>=2017.4.17 in c:\\users\\aitay\\anaconda3\\lib\\site-packages (from requests<3,>=2.21.0->tensorboard<2.9,>=2.8->tensorflow==2.8) (2023.5.7)\n",
      "Requirement already satisfied: idna<4,>=2.5 in c:\\users\\aitay\\anaconda3\\lib\\site-packages (from requests<3,>=2.21.0->tensorboard<2.9,>=2.8->tensorflow==2.8) (3.4)\n",
      "Requirement already satisfied: MarkupSafe>=2.1.1 in c:\\users\\aitay\\anaconda3\\lib\\site-packages (from werkzeug>=0.11.15->tensorboard<2.9,>=2.8->tensorflow==2.8) (2.1.1)\n",
      "Requirement already satisfied: pyasn1<0.5.0,>=0.4.6 in c:\\users\\aitay\\anaconda3\\lib\\site-packages (from pyasn1-modules>=0.2.1->google-auth<3,>=1.6.3->tensorboard<2.9,>=2.8->tensorflow==2.8) (0.4.8)\n",
      "Requirement already satisfied: oauthlib>=3.0.0 in c:\\users\\aitay\\anaconda3\\lib\\site-packages (from requests-oauthlib>=0.7.0->google-auth-oauthlib<0.5,>=0.4.1->tensorboard<2.9,>=2.8->tensorflow==2.8) (3.2.2)\n",
      "Note: you may need to restart the kernel to use updated packages.\n"
     ]
    }
   ],
   "source": [
    "pip install tensorflow==2.8"
   ]
  },
  {
   "cell_type": "code",
   "execution_count": 72,
   "metadata": {
    "ExecuteTime": {
     "end_time": "2023-08-26T11:21:01.082383500Z",
     "start_time": "2023-08-26T11:21:01.074371100Z"
    }
   },
   "outputs": [],
   "source": [
    "from tensorflow.keras.models import Sequential\n",
    "from tensorflow.keras.layers import Conv3D, LSTM, Dense, Dropout, Bidirectional, MaxPool3D, Activation, Reshape, SpatialDropout3D, BatchNormalization, TimeDistributed, Flatten\n",
    "from tensorflow.keras.optimizers import Adam\n",
    "from tensorflow.keras.callbacks import ModelCheckpoint, LearningRateScheduler"
   ]
  },
  {
   "cell_type": "code",
   "execution_count": 27,
   "metadata": {
    "ExecuteTime": {
     "end_time": "2023-08-18T21:10:49.132408700Z",
     "start_time": "2023-08-18T21:10:41.592331400Z"
    }
   },
   "outputs": [
    {
     "name": "stdout",
     "output_type": "stream",
     "text": [
      "WARNING:tensorflow:vocab_size is deprecated, please use vocabulary_size.\n"
     ]
    }
   ],
   "source": [
    "model = Sequential()\n",
    "model.add(Conv3D(128, 3, padding='same', input_shape=(75,46,140,1)))\n",
    "model.add(Activation('relu'))\n",
    "model.add(MaxPool3D((1,2,2)))\n",
    "\n",
    "model.add(Conv3D(256, 3, padding='same'))\n",
    "model.add(Activation('relu'))\n",
    "model.add(MaxPool3D((1,2,2)))\n",
    "\n",
    "model.add(Conv3D(75, 3, padding='same'))\n",
    "model.add(Activation('relu'))\n",
    "model.add(MaxPool3D((1,2,2)))\n",
    "\n",
    "model.add(TimeDistributed(Flatten()))\n",
    "\n",
    "model.add(Bidirectional(LSTM(128, kernel_initializer='Orthogonal', return_sequences=True)))\n",
    "model.add(Dropout(.5))\n",
    "\n",
    "model.add(Bidirectional(LSTM(128, kernel_initializer='Orthogonal', return_sequences=True)))\n",
    "model.add(Dropout(.5))\n",
    "\n",
    "model.add(Dense(char_to_num.vocab_size()+1, kernel_initializer='he_normal', activation='softmax'))"
   ]
  },
  {
   "cell_type": "code",
   "execution_count": 28,
   "metadata": {
    "ExecuteTime": {
     "end_time": "2023-08-18T21:10:49.230490600Z",
     "start_time": "2023-08-18T21:10:49.074937400Z"
    }
   },
   "outputs": [
    {
     "name": "stdout",
     "output_type": "stream",
     "text": [
      "Model: \"sequential\"\n",
      "_________________________________________________________________\n",
      " Layer (type)                Output Shape              Param #   \n",
      "=================================================================\n",
      " conv3d (Conv3D)             (None, 75, 46, 140, 128   3584      \n",
      "                             )                                   \n",
      "                                                                 \n",
      " activation (Activation)     (None, 75, 46, 140, 128   0         \n",
      "                             )                                   \n",
      "                                                                 \n",
      " max_pooling3d (MaxPooling3  (None, 75, 23, 70, 128)   0         \n",
      " D)                                                              \n",
      "                                                                 \n",
      " conv3d_1 (Conv3D)           (None, 75, 23, 70, 256)   884992    \n",
      "                                                                 \n",
      " activation_1 (Activation)   (None, 75, 23, 70, 256)   0         \n",
      "                                                                 \n",
      " max_pooling3d_1 (MaxPoolin  (None, 75, 11, 35, 256)   0         \n",
      " g3D)                                                            \n",
      "                                                                 \n",
      " conv3d_2 (Conv3D)           (None, 75, 11, 35, 75)    518475    \n",
      "                                                                 \n",
      " activation_2 (Activation)   (None, 75, 11, 35, 75)    0         \n",
      "                                                                 \n",
      " max_pooling3d_2 (MaxPoolin  (None, 75, 5, 17, 75)     0         \n",
      " g3D)                                                            \n",
      "                                                                 \n",
      " time_distributed (TimeDist  (None, 75, 6375)          0         \n",
      " ributed)                                                        \n",
      "                                                                 \n",
      " bidirectional (Bidirection  (None, 75, 256)           6660096   \n",
      " al)                                                             \n",
      "                                                                 \n",
      " dropout (Dropout)           (None, 75, 256)           0         \n",
      "                                                                 \n",
      " bidirectional_1 (Bidirecti  (None, 75, 256)           394240    \n",
      " onal)                                                           \n",
      "                                                                 \n",
      " dropout_1 (Dropout)         (None, 75, 256)           0         \n",
      "                                                                 \n",
      " dense (Dense)               (None, 75, 41)            10537     \n",
      "                                                                 \n",
      "=================================================================\n",
      "Total params: 8471924 (32.32 MB)\n",
      "Trainable params: 8471924 (32.32 MB)\n",
      "Non-trainable params: 0 (0.00 Byte)\n",
      "_________________________________________________________________\n"
     ]
    }
   ],
   "source": [
    "model.summary()"
   ]
  },
  {
   "cell_type": "code",
   "execution_count": 29,
   "metadata": {
    "ExecuteTime": {
     "end_time": "2023-08-18T21:10:55.322342100Z",
     "start_time": "2023-08-18T21:10:49.140921100Z"
    }
   },
   "outputs": [
    {
     "name": "stdout",
     "output_type": "stream",
     "text": [
      "1/1 [==============================] - 6s 6s/step\n"
     ]
    }
   ],
   "source": [
    "# Testing without training\n",
    "yhat = model.predict(val[0])"
   ]
  },
  {
   "cell_type": "code",
   "execution_count": 30,
   "metadata": {
    "ExecuteTime": {
     "end_time": "2023-08-18T21:10:55.408494500Z",
     "start_time": "2023-08-18T21:10:55.326304100Z"
    }
   },
   "outputs": [
    {
     "data": {
      "text/plain": "'111111100000000011110000000000000000011111111111111111111111111111111kkpppk'"
     },
     "execution_count": 30,
     "metadata": {},
     "output_type": "execute_result"
    }
   ],
   "source": [
    "tf.strings.reduce_join(num_to_char(tf.argmax(yhat[0], axis=1))).numpy().decode('utf-8')"
   ]
  },
  {
   "cell_type": "code",
   "execution_count": 31,
   "metadata": {
    "ExecuteTime": {
     "end_time": "2023-08-18T21:10:55.409491900Z",
     "start_time": "2023-08-18T21:10:55.344752Z"
    }
   },
   "outputs": [
    {
     "data": {
      "text/plain": "<tf.Tensor: shape=(75,), dtype=int64, numpy=\narray([28, 28, 28, 28, 28, 28, 28, 37, 37, 37, 37, 37, 37, 37, 37, 37, 28,\n       28, 28, 28, 37, 37, 37, 37, 37, 37, 37, 37, 37, 37, 37, 37, 37, 37,\n       37, 37, 37, 28, 28, 28, 28, 28, 28, 28, 28, 28, 28, 28, 28, 28, 28,\n       28, 28, 28, 28, 28, 28, 28, 28, 28, 28, 28, 28, 28, 28, 28, 28, 28,\n       28, 11, 11, 16, 16, 16, 11], dtype=int64)>"
     },
     "execution_count": 31,
     "metadata": {},
     "output_type": "execute_result"
    }
   ],
   "source": [
    "tf.argmax(yhat[0], axis=1)"
   ]
  },
  {
   "cell_type": "markdown",
   "metadata": {},
   "source": [
    "## 4. Training the model (setting up the options)"
   ]
  },
  {
   "cell_type": "code",
   "execution_count": 32,
   "metadata": {
    "ExecuteTime": {
     "end_time": "2023-08-18T21:10:55.411489Z",
     "start_time": "2023-08-18T21:10:55.351432200Z"
    }
   },
   "outputs": [],
   "source": [
    "def scheduler(epoch, lr):\n",
    "    if epoch < 30 :\n",
    "        return lr\n",
    "    else:\n",
    "        return lr * tf.math.exp(-0.1)"
   ]
  },
  {
   "cell_type": "code",
   "execution_count": 33,
   "metadata": {
    "ExecuteTime": {
     "end_time": "2023-08-18T21:10:55.411489Z",
     "start_time": "2023-08-18T21:10:55.364825Z"
    }
   },
   "outputs": [],
   "source": [
    "def CTCLoss(y_true, y_pred):\n",
    "    batch_len = tf.cast(tf.shape(y_true)[0], dtype='int64')\n",
    "    input_length = tf.cast(tf.shape(y_pred)[1], dtype='int64')\n",
    "    label_length = tf.cast(tf.shape(y_true)[1], dtype='int64')\n",
    "\n",
    "    input_length = input_length * tf.ones(shape=(batch_len, 1), dtype='int64')\n",
    "    label_length = label_length * tf.ones(shape=(batch_len, 1), dtype='int64')\n",
    "\n",
    "    loss = tf.keras.backend.ctc_batch_cost(y_true, y_pred, input_length, label_length)\n",
    "    return loss"
   ]
  },
  {
   "cell_type": "code",
   "execution_count": 59,
   "metadata": {
    "ExecuteTime": {
     "end_time": "2023-08-26T10:18:17.055486800Z",
     "start_time": "2023-08-26T10:18:17.040076400Z"
    }
   },
   "outputs": [],
   "source": [
    "class ProduceExample(tf.keras.callbacks.Callback):\n",
    "    def __init__(self, dataset) -> None:\n",
    "        self.dataset = dataset\n",
    "        #self.dataset = dataset.as_numpy_iterator()\n",
    "\n",
    "    def on_epoch_end(self, epoch, logs=None) -> None:\n",
    "        data = self.dataset.next()\n",
    "        yhat = self.model.predict(data[0])\n",
    "        decoded = tf.keras.backend.ctc_decode(yhat, [75,75], greedy=False)[0][0].numpy()\n",
    "        for i in range(len(yhat)):\n",
    "            print(f'Predicted: {alignments_to_text(decoded[i])}')\n",
    "            print(f'Actual: {alignments_to_text(data[1][i])}')\n",
    "            print('-------------------')"
   ]
  },
  {
   "cell_type": "code",
   "execution_count": 60,
   "metadata": {
    "ExecuteTime": {
     "end_time": "2023-08-26T10:18:18.356946600Z",
     "start_time": "2023-08-26T10:18:18.339407100Z"
    }
   },
   "outputs": [],
   "source": [
    "# Compile the model\n",
    "model.compile(optimizer=Adam(learning_rate=1e-3), loss=CTCLoss)"
   ]
  },
  {
   "cell_type": "code",
   "execution_count": 61,
   "metadata": {
    "ExecuteTime": {
     "end_time": "2023-08-26T10:18:18.672477500Z",
     "start_time": "2023-08-26T10:18:18.656009Z"
    }
   },
   "outputs": [],
   "source": [
    "# Create the callbacks\n",
    "checkpoint = ModelCheckpoint(os.path.join('models','checkpoint'), monitor='val_loss', save_best_only=True, save_weights_only=True)"
   ]
  },
  {
   "cell_type": "code",
   "execution_count": 62,
   "metadata": {
    "ExecuteTime": {
     "end_time": "2023-08-26T10:18:19.015589800Z",
     "start_time": "2023-08-26T10:18:19.015589800Z"
    }
   },
   "outputs": [],
   "source": [
    "schedule_callback = LearningRateScheduler(scheduler)"
   ]
  },
  {
   "cell_type": "code",
   "execution_count": 63,
   "metadata": {
    "ExecuteTime": {
     "end_time": "2023-08-26T10:18:20.039163Z",
     "start_time": "2023-08-26T10:18:20.038796200Z"
    }
   },
   "outputs": [],
   "source": [
    "example_callback = ProduceExample(test) #How well the model is doing"
   ]
  },
  {
   "cell_type": "code",
   "execution_count": 40,
   "metadata": {},
   "outputs": [
    {
     "name": "stdout",
     "output_type": "stream",
     "text": [
      "1/1 [==============================] - 5s 5s/step\n",
      "Predicted:  e   \n",
      "Actual: place blue at v five again\n",
      "-------------------\n",
      "Predicted:  e   \n",
      "Actual: place blue in b nine again\n",
      "-------------------\n",
      "50/50 [==============================] - 3984s 80s/step - loss: 111.6005 - val_loss: 91.7966 - lr: 0.0010\n",
      "Epoch 2/50\n",
      "1/1 [==============================] - 3s 3s/step\n",
      "Predicted:  e e e e \n",
      "Actual: lay blue by e zero now\n",
      "-------------------\n",
      "Predicted:  e e e e \n",
      "Actual: place white by k two please\n",
      "-------------------\n",
      "50/50 [==============================] - 3810s 77s/step - loss: 85.4604 - val_loss: 75.8203 - lr: 0.0010\n",
      "Epoch 3/50\n",
      "1/1 [==============================] - 3s 3s/step\n",
      "Predicted: l e e e e n\n",
      "Actual: bin red in f five soon\n",
      "-------------------\n",
      "Predicted: l e e e e n\n",
      "Actual: place green with r five soon\n",
      "-------------------\n",
      "50/50 [==============================] - 3865s 78s/step - loss: 76.4478 - val_loss: 72.3355 - lr: 0.0010\n",
      "Epoch 4/50\n",
      "1/1 [==============================] - 3s 3s/step\n",
      "Predicted: e e e e no\n",
      "Actual: set white at i zero now\n",
      "-------------------\n",
      "Predicted: e e e e no\n",
      "Actual: place blue at c zero now\n",
      "-------------------\n",
      "50/50 [==============================] - 3830s 77s/step - loss: 73.9285 - val_loss: 71.9158 - lr: 0.0010\n",
      "Epoch 5/50\n",
      "1/1 [==============================] - 3s 3s/step\n",
      "Predicted: le e e e o\n",
      "Actual: set green with q zero please\n",
      "-------------------\n",
      "Predicted: le e e e o\n",
      "Actual: place white with e one soon\n",
      "-------------------\n",
      "50/50 [==============================] - 3730s 75s/step - loss: 74.3966 - val_loss: 72.0737 - lr: 0.0010\n",
      "Epoch 6/50\n",
      "1/1 [==============================] - 3s 3s/step\n",
      "Predicted: l e e e e on\n",
      "Actual: bin white by a five soon\n",
      "-------------------\n",
      "Predicted: l e e e e on\n",
      "Actual: bin red with n one soon\n",
      "-------------------\n",
      "50/50 [==============================] - 3723s 75s/step - loss: 74.1550 - val_loss: 69.2971 - lr: 0.0010\n",
      "Epoch 7/50\n",
      "1/1 [==============================] - 3s 3s/step\n",
      "Predicted: l e e e e on\n",
      "Actual: set white by i seven again\n",
      "-------------------\n",
      "Predicted: l e e e e on\n",
      "Actual: place green at d eight now\n",
      "-------------------\n",
      "50/50 [==============================] - 3763s 76s/step - loss: 72.3291 - val_loss: 69.0319 - lr: 0.0010\n",
      "Epoch 8/50\n",
      "1/1 [==============================] - 3s 3s/step\n",
      "Predicted: le e e e e on\n",
      "Actual: lay blue in x four now\n",
      "-------------------\n",
      "Predicted: le e e e e on\n",
      "Actual: bin green in t five soon\n",
      "-------------------\n",
      "50/50 [==============================] - 3737s 75s/step - loss: 70.4897 - val_loss: 68.6344 - lr: 0.0010\n",
      "Epoch 9/50\n",
      "1/1 [==============================] - 3s 3s/step\n",
      "Predicted: le e e e e on\n",
      "Actual: place white at d five again\n",
      "-------------------\n",
      "Predicted: le e e e e on\n",
      "Actual: place blue in u eight now\n",
      "-------------------\n",
      "50/50 [==============================] - 3736s 75s/step - loss: 70.0595 - val_loss: 67.3229 - lr: 0.0010\n",
      "Epoch 10/50\n",
      "1/1 [==============================] - 3s 3s/step\n",
      "Predicted: l e e t o on\n",
      "Actual: bin green in a four please\n",
      "-------------------\n",
      "Predicted: l e e t o on\n",
      "Actual: bin red by g four please\n",
      "-------------------\n",
      "50/50 [==============================] - 3745s 76s/step - loss: 69.8972 - val_loss: 67.2911 - lr: 0.0010\n",
      "Epoch 11/50\n",
      "1/1 [==============================] - 4s 4s/step\n",
      "Predicted: l e e e e e eo\n",
      "Actual: bin white with a nine soon\n",
      "-------------------\n",
      "Predicted: l e e e e e eo\n",
      "Actual: set white with i nine soon\n",
      "-------------------\n",
      "50/50 [==============================] - 3740s 75s/step - loss: 68.1559 - val_loss: 67.3784 - lr: 0.0010\n",
      "Epoch 12/50\n",
      "1/1 [==============================] - 3s 3s/step\n",
      "Predicted: la e e t e on\n",
      "Actual: set red in u zero please\n",
      "-------------------\n",
      "Predicted: la e e t e on\n",
      "Actual: set green at v five soon\n",
      "-------------------\n",
      "50/50 [==============================] - 3765s 76s/step - loss: 67.7227 - val_loss: 64.4785 - lr: 0.0010\n",
      "Epoch 13/50\n",
      "1/1 [==============================] - 3s 3s/step\n",
      "Predicted: la e e t e eoa\n",
      "Actual: bin green by h five soon\n",
      "-------------------\n",
      "Predicted: la e e t e eoa\n",
      "Actual: set blue by n eight sp please\n",
      "-------------------\n",
      "50/50 [==============================] - 3779s 76s/step - loss: 66.3164 - val_loss: 63.7541 - lr: 0.0010\n",
      "Epoch 14/50\n",
      "1/1 [==============================] - 4s 4s/step\n",
      "Predicted: la e e t e on\n",
      "Actual: lay green at l eight now\n",
      "-------------------\n",
      "Predicted: la e e t e on\n",
      "Actual: set blue with o three again\n",
      "-------------------\n",
      "50/50 [==============================] - 4703s 95s/step - loss: 66.6894 - val_loss: 64.1264 - lr: 0.0010\n",
      "Epoch 15/50\n",
      "1/1 [==============================] - 4s 4s/step\n",
      "Predicted: la e e e o\n",
      "Actual: lay red at e two now\n",
      "-------------------\n",
      "Predicted: la e e e o\n",
      "Actual: set blue by n six now\n",
      "-------------------\n",
      "50/50 [==============================] - 3753s 76s/step - loss: 64.3041 - val_loss: 64.2974 - lr: 0.0010\n",
      "Epoch 16/50\n",
      "1/1 [==============================] - 3s 3s/step\n",
      "Predicted: la e e e e ean\n",
      "Actual: bin blue with m five soon\n",
      "-------------------\n",
      "Predicted: la e e e e ean\n",
      "Actual: lay white in l zero please\n",
      "-------------------\n",
      "50/50 [==============================] - 3813s 77s/step - loss: 65.8544 - val_loss: 62.1417 - lr: 0.0010\n",
      "Epoch 17/50\n",
      "1/1 [==============================] - 4s 4s/step\n",
      "Predicted: la re t t e oan\n",
      "Actual: lay red in q nine again\n",
      "-------------------\n",
      "Predicted: la re t t e oan\n",
      "Actual: set red by b four now\n",
      "-------------------\n",
      "50/50 [==============================] - 4315s 87s/step - loss: 63.3744 - val_loss: 61.4974 - lr: 0.0010\n",
      "Epoch 18/50\n",
      "1/1 [==============================] - 4s 4s/step\n",
      "Predicted: la e e e ea\n",
      "Actual: lay red by l one soon\n",
      "-------------------\n",
      "Predicted: la e e e ea\n",
      "Actual: set green at v six please\n",
      "-------------------\n",
      "50/50 [==============================] - 4627s 93s/step - loss: 63.6841 - val_loss: 59.9117 - lr: 0.0010\n",
      "Epoch 19/50\n",
      "1/1 [==============================] - 3s 3s/step\n",
      "Predicted: la re t e on\n",
      "Actual: lay blue in x five soon\n",
      "-------------------\n",
      "Predicted: la re t e on\n",
      "Actual: bin white at a one soon\n",
      "-------------------\n",
      "50/50 [==============================] - 3927s 79s/step - loss: 62.4806 - val_loss: 59.5077 - lr: 0.0010\n",
      "Epoch 20/50\n",
      "1/1 [==============================] - 3s 3s/step\n",
      "Predicted: la re t e on\n",
      "Actual: lay blue with e seven again\n",
      "-------------------\n",
      "Predicted: la re t e on\n",
      "Actual: lay blue by r zero please\n",
      "-------------------\n",
      "50/50 [==============================] - 3791s 76s/step - loss: 62.7588 - val_loss: 58.9446 - lr: 0.0010\n",
      "Epoch 21/50\n",
      "1/1 [==============================] - 5s 5s/step\n",
      "Predicted: la re t e on\n",
      "Actual: place red at sp p seven again\n",
      "-------------------\n",
      "Predicted: la re t e on\n",
      "Actual: place green by k six now\n",
      "-------------------\n",
      "50/50 [==============================] - 4747s 96s/step - loss: 61.7614 - val_loss: 57.9834 - lr: 0.0010\n",
      "Epoch 22/50\n",
      "1/1 [==============================] - 4s 4s/step\n",
      "Predicted: la re t e on\n",
      "Actual: set red in u one again\n",
      "-------------------\n",
      "Predicted: la re t e on\n",
      "Actual: place blue at i seven again\n",
      "-------------------\n",
      "50/50 [==============================] - 3879s 78s/step - loss: 62.0848 - val_loss: 57.2747 - lr: 0.0010\n",
      "Epoch 23/50\n",
      "1/1 [==============================] - 3s 3s/step\n",
      "Predicted: la re t e on\n",
      "Actual: lay green with m six now\n",
      "-------------------\n",
      "Predicted: la re t e on\n",
      "Actual: set blue by n nine again\n",
      "-------------------\n",
      "50/50 [==============================] - 4358s 87s/step - loss: 60.9766 - val_loss: 56.8617 - lr: 0.0010\n",
      "Epoch 24/50\n",
      "1/1 [==============================] - 3s 3s/step\n",
      "Predicted: la re t e ao\n",
      "Actual: place white in d zero please\n",
      "-------------------\n",
      "Predicted: la re t e ao\n",
      "Actual: bin white with b one again\n",
      "-------------------\n",
      "50/50 [==============================] - 3738s 75s/step - loss: 61.8448 - val_loss: 56.3419 - lr: 0.0010\n",
      "Epoch 25/50\n",
      "1/1 [==============================] - 3s 3s/step\n",
      "Predicted: la re t e e an\n",
      "Actual: place red with d six please\n",
      "-------------------\n",
      "Predicted: la re t e e an\n",
      "Actual: bin green by b two please\n",
      "-------------------\n",
      "50/50 [==============================] - 3738s 75s/step - loss: 59.5846 - val_loss: 57.4166 - lr: 0.0010\n",
      "Epoch 26/50\n",
      "1/1 [==============================] - 3s 3s/step\n",
      "Predicted: la re t e an\n",
      "Actual: place blue with p six now\n",
      "-------------------\n",
      "Predicted: la re t e an\n",
      "Actual: lay white with m three again\n",
      "-------------------\n",
      "50/50 [==============================] - 3744s 76s/step - loss: 58.2117 - val_loss: 56.2715 - lr: 0.0010\n",
      "Epoch 27/50\n",
      "1/1 [==============================] - 3s 3s/step\n",
      "Predicted: la re t e an\n",
      "Actual: place red with k one again\n",
      "-------------------\n",
      "Predicted: la re t e an\n",
      "Actual: place blue at c three again\n",
      "-------------------\n",
      "50/50 [==============================] - 3766s 76s/step - loss: 59.1963 - val_loss: 55.4628 - lr: 0.0010\n",
      "Epoch 28/50\n",
      "1/1 [==============================] - 3s 3s/step\n",
      "Predicted: la re t e on\n",
      "Actual: set red with o eight please\n",
      "-------------------\n",
      "Predicted: la re t e on\n",
      "Actual: set blue with u six please\n",
      "-------------------\n",
      "50/50 [==============================] - 3754s 76s/step - loss: 59.5329 - val_loss: 54.2623 - lr: 0.0010\n",
      "Epoch 29/50\n",
      "1/1 [==============================] - 4s 4s/step\n",
      "Predicted: la re t e on\n",
      "Actual: place red in i six now\n",
      "-------------------\n",
      "Predicted: la re t e on\n",
      "Actual: bin green in n two please\n",
      "-------------------\n",
      "50/50 [==============================] - 3767s 76s/step - loss: 59.3456 - val_loss: 54.5865 - lr: 0.0010\n",
      "Epoch 30/50\n",
      "1/1 [==============================] - 3s 3s/step\n",
      "Predicted: la re i e aon\n",
      "Actual: set blue by h four please\n",
      "-------------------\n",
      "Predicted: la re i e aon\n",
      "Actual: lay blue in d three soon\n",
      "-------------------\n",
      "50/50 [==============================] - 3802s 77s/step - loss: 56.7279 - val_loss: 53.3404 - lr: 0.0010\n",
      "Epoch 31/50\n",
      "1/1 [==============================] - 3s 3s/step\n",
      "Predicted: la re t e ao\n",
      "Actual: place green at d nine soon\n",
      "-------------------\n",
      "Predicted: la re t e ao\n",
      "Actual: set white with j zero please\n",
      "-------------------\n",
      "50/50 [==============================] - 3760s 76s/step - loss: 55.9365 - val_loss: 53.0222 - lr: 9.0484e-04\n",
      "Epoch 32/50\n",
      "1/1 [==============================] - 4s 4s/step\n",
      "Predicted: la re t e on\n",
      "Actual: set blue with o zero now\n",
      "-------------------\n",
      "Predicted: la re t e on\n",
      "Actual: lay white by f two now\n",
      "-------------------\n",
      "50/50 [==============================] - 3768s 76s/step - loss: 55.6811 - val_loss: 53.2169 - lr: 8.1873e-04\n",
      "Epoch 33/50\n",
      "1/1 [==============================] - 3s 3s/step\n",
      "Predicted: la re it ie on\n",
      "Actual: lay red at r zero now\n",
      "-------------------\n",
      "Predicted: la re it ie on\n",
      "Actual: place blue by c six please\n",
      "-------------------\n",
      "50/50 [==============================] - 3752s 76s/step - loss: 56.4419 - val_loss: 52.5443 - lr: 7.4082e-04\n",
      "Epoch 34/50\n",
      "1/1 [==============================] - 3s 3s/step\n",
      "Predicted: la re it fe aon\n",
      "Actual: place red at p four now\n",
      "-------------------\n",
      "Predicted: la re it fe aon\n",
      "Actual: place white in j five again\n",
      "-------------------\n",
      "50/50 [==============================] - 3744s 76s/step - loss: 55.8188 - val_loss: 53.4186 - lr: 6.7032e-04\n",
      "Epoch 35/50\n",
      "1/1 [==============================] - 3s 3s/step\n",
      "Predicted: la re i e on\n",
      "Actual: set red with i five again\n",
      "-------------------\n",
      "Predicted: la re i e on\n",
      "Actual: lay blue in x six please\n",
      "-------------------\n",
      "50/50 [==============================] - 3808s 77s/step - loss: 57.0556 - val_loss: 51.4512 - lr: 6.0653e-04\n",
      "Epoch 36/50\n",
      "1/1 [==============================] - 3s 3s/step\n",
      "Predicted: la re it e aon\n",
      "Actual: lay white at r nine again\n",
      "-------------------\n",
      "Predicted: la re it e aon\n",
      "Actual: place white with y three soon\n",
      "-------------------\n",
      "50/50 [==============================] - 3757s 76s/step - loss: 54.3894 - val_loss: 52.0274 - lr: 5.4881e-04\n",
      "Epoch 37/50\n",
      "1/1 [==============================] - 3s 3s/step\n",
      "Predicted: la re it ie aon\n",
      "Actual: set white at v zero please\n",
      "-------------------\n",
      "Predicted: la re it ie aon\n",
      "Actual: bin green by n eight now\n",
      "-------------------\n",
      "50/50 [==============================] - 3760s 76s/step - loss: 54.0611 - val_loss: 50.4516 - lr: 4.9659e-04\n",
      "Epoch 38/50\n",
      "1/1 [==============================] - 3s 3s/step\n",
      "Predicted: la re it e ao\n",
      "Actual: bin red sp by g two now\n",
      "-------------------\n",
      "Predicted: la re it e ao\n",
      "Actual: set blue by u zero now\n",
      "-------------------\n",
      "50/50 [==============================] - 3821s 77s/step - loss: 54.2957 - val_loss: 49.9371 - lr: 4.4933e-04\n",
      "Epoch 39/50\n",
      "1/1 [==============================] - 3s 3s/step\n",
      "Predicted: la re it ie aon\n",
      "Actual: lay red with r eight now\n",
      "-------------------\n",
      "Predicted: la re it ie aon\n",
      "Actual: place red by x five again\n",
      "-------------------\n",
      "50/50 [==============================] - 3989s 81s/step - loss: 54.3827 - val_loss: 49.5844 - lr: 4.0657e-04\n",
      "Epoch 40/50\n",
      "1/1 [==============================] - 3s 3s/step\n",
      "Predicted: la re it e aon\n",
      "Actual: lay red in d nine soon\n",
      "-------------------\n",
      "Predicted: la re it e aon\n",
      "Actual: set blue in g six please\n",
      "-------------------\n",
      "50/50 [==============================] - 3773s 76s/step - loss: 53.6186 - val_loss: 49.5752 - lr: 3.6788e-04\n",
      "Epoch 41/50\n",
      "1/1 [==============================] - 4s 4s/step\n",
      "Predicted: la re it ie aon\n",
      "Actual: lay red at y seven again\n",
      "-------------------\n",
      "Predicted: la re it ie aon\n",
      "Actual: bin blue at l seven soon\n",
      "-------------------\n",
      "50/50 [==============================] - 4342s 88s/step - loss: 52.6854 - val_loss: 49.0717 - lr: 3.3287e-04\n",
      "Epoch 42/50\n",
      "1/1 [==============================] - 4s 4s/step\n",
      "Predicted: la re it e on\n",
      "Actual: bin green with h nine soon\n",
      "-------------------\n",
      "Predicted: la re it e on\n",
      "Actual: lay red by e nine again\n",
      "-------------------\n",
      "50/50 [==============================] - 4362s 88s/step - loss: 53.0635 - val_loss: 49.2014 - lr: 3.0119e-04\n",
      "Epoch 43/50\n",
      "1/1 [==============================] - 4s 4s/step\n",
      "Predicted: la re it ie aon\n",
      "Actual: place blue by v nine again\n",
      "-------------------\n",
      "Predicted: la re it ie aon\n",
      "Actual: set green with j five soon\n",
      "-------------------\n",
      "50/50 [==============================] - 3975s 80s/step - loss: 53.2873 - val_loss: 48.9889 - lr: 2.7253e-04\n",
      "Epoch 44/50\n",
      "1/1 [==============================] - 4s 4s/step\n",
      "Predicted: la re it ie aon\n",
      "Actual: set blue in g four now\n",
      "-------------------\n",
      "Predicted: la re it ie aon\n",
      "Actual: place green with r seven again\n",
      "-------------------\n",
      "50/50 [==============================] - 4059s 82s/step - loss: 51.8575 - val_loss: 48.7961 - lr: 2.4660e-04\n",
      "Epoch 45/50\n",
      "1/1 [==============================] - 3s 3s/step\n",
      "Predicted: la re it ie aon\n",
      "Actual: place blue by j one again\n",
      "-------------------\n",
      "Predicted: la re it ie aon\n",
      "Actual: bin blue with g three again\n",
      "-------------------\n",
      "50/50 [==============================] - 4020s 81s/step - loss: 53.1381 - val_loss: 48.5847 - lr: 2.2313e-04\n",
      "Epoch 46/50\n",
      "1/1 [==============================] - 4s 4s/step\n",
      "Predicted: la re it ie aon\n",
      "Actual: set green at c four sp please\n",
      "-------------------\n",
      "Predicted: la re it ie aon\n",
      "Actual: set red in n seven again\n",
      "-------------------\n",
      "50/50 [==============================] - 3845s 78s/step - loss: 52.6492 - val_loss: 48.3593 - lr: 2.0190e-04\n",
      "Epoch 47/50\n",
      "1/1 [==============================] - 4s 4s/step\n",
      "Predicted: la re it ie aon\n",
      "Actual: place blue in o four now\n",
      "-------------------\n",
      "Predicted: la re it ie aon\n",
      "Actual: lay white at f zero please\n",
      "-------------------\n",
      "50/50 [==============================] - 4598s 93s/step - loss: 52.5311 - val_loss: 48.3449 - lr: 1.8268e-04\n",
      "Epoch 48/50\n",
      "1/1 [==============================] - 5s 5s/step\n",
      "Predicted: la re it ie aon\n",
      "Actual: lay blue by y four please\n",
      "-------------------\n",
      "Predicted: la re it ie aon\n",
      "Actual: lay blue at k two please\n",
      "-------------------\n",
      "50/50 [==============================] - 4661s 94s/step - loss: 53.7194 - val_loss: 48.4798 - lr: 1.6530e-04\n",
      "Epoch 49/50\n",
      "1/1 [==============================] - 5s 5s/step\n",
      "Predicted: la re it ie aon\n",
      "Actual: set red in t eight now\n",
      "-------------------\n",
      "Predicted: la re it ie aon\n",
      "Actual: lay white in y seven soon\n",
      "-------------------\n",
      "50/50 [==============================] - 4646s 94s/step - loss: 52.9279 - val_loss: 48.1623 - lr: 1.4957e-04\n",
      "Epoch 50/50\n",
      "1/1 [==============================] - 5s 5s/step\n",
      "Predicted: la re it ie aon\n",
      "Actual: bin green at a nine again\n",
      "-------------------\n",
      "Predicted: la re it ie aon\n",
      "Actual: lay green at m one again\n",
      "-------------------\n",
      "50/50 [==============================] - 4638s 94s/step - loss: 52.2390 - val_loss: 48.0365 - lr: 1.3534e-04\n"
     ]
    },
    {
     "data": {
      "text/plain": "<keras.src.callbacks.History at 0x215af650d90>"
     },
     "execution_count": 39,
     "metadata": {},
     "output_type": "execute_result"
    },
    {
     "name": "stdout",
     "output_type": "stream",
     "text": [
      "Epoch 1/50\n",
      "1/1 [==============================] - 5s 5s/step\n",
      "Predicted: la re it ie aon\n",
      "Actual: set blue by b one again\n",
      "-------------------\n",
      "Predicted: la re it ie aon\n",
      "Actual: place white in p nine again\n",
      "-------------------\n",
      "50/50 [==============================] - 4646s 94s/step - loss: 52.0375 - val_loss: 48.0550 - lr: 1.3534e-04\n",
      "Epoch 2/50\n",
      "1/1 [==============================] - 5s 5s/step\n",
      "Predicted: la re it ie aon\n",
      "Actual: lay green at s two now\n",
      "-------------------\n",
      "Predicted: la re it ie aon\n",
      "Actual: place green at y zero now\n",
      "-------------------\n",
      "50/50 [==============================] - 4598s 93s/step - loss: 51.5157 - val_loss: 48.0425 - lr: 1.3534e-04\n",
      "Epoch 3/50\n",
      "1/1 [==============================] - 5s 5s/step\n",
      "Predicted: la re it ie aon\n",
      "Actual: lay white at r six now\n",
      "-------------------\n",
      "Predicted: la re it ie aon\n",
      "Actual: place white with q nine soon\n",
      "-------------------\n",
      "50/50 [==============================] - 4579s 92s/step - loss: 52.1273 - val_loss: 47.6186 - lr: 1.3534e-04\n",
      "Epoch 4/50\n",
      "1/1 [==============================] - 5s 5s/step\n",
      "Predicted: la re it ie aon\n",
      "Actual: bin blue at s two please\n",
      "-------------------\n",
      "Predicted: la re it ie aon\n",
      "Actual: lay red sp with l five soon\n",
      "-------------------\n",
      "50/50 [==============================] - 4598s 93s/step - loss: 51.4739 - val_loss: 47.6150 - lr: 1.3534e-04\n",
      "Epoch 5/50\n",
      "50/50 [==============================] - ETA: 0s - loss: 50.8441 "
     ]
    },
    {
     "ename": "KeyboardInterrupt",
     "evalue": "",
     "output_type": "error",
     "traceback": [
      "\u001B[1;31m---------------------------------------------------------------------------\u001B[0m",
      "\u001B[1;31mKeyboardInterrupt\u001B[0m                         Traceback (most recent call last)",
      "Cell \u001B[1;32mIn[40], line 2\u001B[0m\n\u001B[0;32m      1\u001B[0m \u001B[38;5;66;03m# Train the model\u001B[39;00m\n\u001B[1;32m----> 2\u001B[0m model\u001B[38;5;241m.\u001B[39mfit(train_dataset, validation_data\u001B[38;5;241m=\u001B[39mtest_dataset, epochs\u001B[38;5;241m=\u001B[39m\u001B[38;5;241m50\u001B[39m, callbacks\u001B[38;5;241m=\u001B[39m[checkpoint,schedule_callback,example_callback] )\n",
      "File \u001B[1;32mC:\\ProgramData\\anaconda3\\Lib\\site-packages\\keras\\src\\utils\\traceback_utils.py:65\u001B[0m, in \u001B[0;36mfilter_traceback.<locals>.error_handler\u001B[1;34m(*args, **kwargs)\u001B[0m\n\u001B[0;32m     63\u001B[0m filtered_tb \u001B[38;5;241m=\u001B[39m \u001B[38;5;28;01mNone\u001B[39;00m\n\u001B[0;32m     64\u001B[0m \u001B[38;5;28;01mtry\u001B[39;00m:\n\u001B[1;32m---> 65\u001B[0m     \u001B[38;5;28;01mreturn\u001B[39;00m fn(\u001B[38;5;241m*\u001B[39margs, \u001B[38;5;241m*\u001B[39m\u001B[38;5;241m*\u001B[39mkwargs)\n\u001B[0;32m     66\u001B[0m \u001B[38;5;28;01mexcept\u001B[39;00m \u001B[38;5;167;01mException\u001B[39;00m \u001B[38;5;28;01mas\u001B[39;00m e:\n\u001B[0;32m     67\u001B[0m     filtered_tb \u001B[38;5;241m=\u001B[39m _process_traceback_frames(e\u001B[38;5;241m.\u001B[39m__traceback__)\n",
      "File \u001B[1;32mC:\\ProgramData\\anaconda3\\Lib\\site-packages\\keras\\src\\engine\\training.py:1791\u001B[0m, in \u001B[0;36mModel.fit\u001B[1;34m(self, x, y, batch_size, epochs, verbose, callbacks, validation_split, validation_data, shuffle, class_weight, sample_weight, initial_epoch, steps_per_epoch, validation_steps, validation_batch_size, validation_freq, max_queue_size, workers, use_multiprocessing)\u001B[0m\n\u001B[0;32m   1775\u001B[0m \u001B[38;5;28;01mif\u001B[39;00m \u001B[38;5;28mgetattr\u001B[39m(\u001B[38;5;28mself\u001B[39m, \u001B[38;5;124m\"\u001B[39m\u001B[38;5;124m_eval_data_handler\u001B[39m\u001B[38;5;124m\"\u001B[39m, \u001B[38;5;28;01mNone\u001B[39;00m) \u001B[38;5;129;01mis\u001B[39;00m \u001B[38;5;28;01mNone\u001B[39;00m:\n\u001B[0;32m   1776\u001B[0m     \u001B[38;5;28mself\u001B[39m\u001B[38;5;241m.\u001B[39m_eval_data_handler \u001B[38;5;241m=\u001B[39m data_adapter\u001B[38;5;241m.\u001B[39mget_data_handler(\n\u001B[0;32m   1777\u001B[0m         x\u001B[38;5;241m=\u001B[39mval_x,\n\u001B[0;32m   1778\u001B[0m         y\u001B[38;5;241m=\u001B[39mval_y,\n\u001B[1;32m   (...)\u001B[0m\n\u001B[0;32m   1789\u001B[0m         pss_evaluation_shards\u001B[38;5;241m=\u001B[39m\u001B[38;5;28mself\u001B[39m\u001B[38;5;241m.\u001B[39m_pss_evaluation_shards,\n\u001B[0;32m   1790\u001B[0m     )\n\u001B[1;32m-> 1791\u001B[0m val_logs \u001B[38;5;241m=\u001B[39m \u001B[38;5;28mself\u001B[39m\u001B[38;5;241m.\u001B[39mevaluate(\n\u001B[0;32m   1792\u001B[0m     x\u001B[38;5;241m=\u001B[39mval_x,\n\u001B[0;32m   1793\u001B[0m     y\u001B[38;5;241m=\u001B[39mval_y,\n\u001B[0;32m   1794\u001B[0m     sample_weight\u001B[38;5;241m=\u001B[39mval_sample_weight,\n\u001B[0;32m   1795\u001B[0m     batch_size\u001B[38;5;241m=\u001B[39mvalidation_batch_size \u001B[38;5;129;01mor\u001B[39;00m batch_size,\n\u001B[0;32m   1796\u001B[0m     steps\u001B[38;5;241m=\u001B[39mvalidation_steps,\n\u001B[0;32m   1797\u001B[0m     callbacks\u001B[38;5;241m=\u001B[39mcallbacks,\n\u001B[0;32m   1798\u001B[0m     max_queue_size\u001B[38;5;241m=\u001B[39mmax_queue_size,\n\u001B[0;32m   1799\u001B[0m     workers\u001B[38;5;241m=\u001B[39mworkers,\n\u001B[0;32m   1800\u001B[0m     use_multiprocessing\u001B[38;5;241m=\u001B[39muse_multiprocessing,\n\u001B[0;32m   1801\u001B[0m     return_dict\u001B[38;5;241m=\u001B[39m\u001B[38;5;28;01mTrue\u001B[39;00m,\n\u001B[0;32m   1802\u001B[0m     _use_cached_eval_dataset\u001B[38;5;241m=\u001B[39m\u001B[38;5;28;01mTrue\u001B[39;00m,\n\u001B[0;32m   1803\u001B[0m )\n\u001B[0;32m   1804\u001B[0m val_logs \u001B[38;5;241m=\u001B[39m {\n\u001B[0;32m   1805\u001B[0m     \u001B[38;5;124m\"\u001B[39m\u001B[38;5;124mval_\u001B[39m\u001B[38;5;124m\"\u001B[39m \u001B[38;5;241m+\u001B[39m name: val \u001B[38;5;28;01mfor\u001B[39;00m name, val \u001B[38;5;129;01min\u001B[39;00m val_logs\u001B[38;5;241m.\u001B[39mitems()\n\u001B[0;32m   1806\u001B[0m }\n\u001B[0;32m   1807\u001B[0m epoch_logs\u001B[38;5;241m.\u001B[39mupdate(val_logs)\n",
      "File \u001B[1;32mC:\\ProgramData\\anaconda3\\Lib\\site-packages\\keras\\src\\utils\\traceback_utils.py:65\u001B[0m, in \u001B[0;36mfilter_traceback.<locals>.error_handler\u001B[1;34m(*args, **kwargs)\u001B[0m\n\u001B[0;32m     63\u001B[0m filtered_tb \u001B[38;5;241m=\u001B[39m \u001B[38;5;28;01mNone\u001B[39;00m\n\u001B[0;32m     64\u001B[0m \u001B[38;5;28;01mtry\u001B[39;00m:\n\u001B[1;32m---> 65\u001B[0m     \u001B[38;5;28;01mreturn\u001B[39;00m fn(\u001B[38;5;241m*\u001B[39margs, \u001B[38;5;241m*\u001B[39m\u001B[38;5;241m*\u001B[39mkwargs)\n\u001B[0;32m     66\u001B[0m \u001B[38;5;28;01mexcept\u001B[39;00m \u001B[38;5;167;01mException\u001B[39;00m \u001B[38;5;28;01mas\u001B[39;00m e:\n\u001B[0;32m     67\u001B[0m     filtered_tb \u001B[38;5;241m=\u001B[39m _process_traceback_frames(e\u001B[38;5;241m.\u001B[39m__traceback__)\n",
      "File \u001B[1;32mC:\\ProgramData\\anaconda3\\Lib\\site-packages\\keras\\src\\engine\\training.py:2200\u001B[0m, in \u001B[0;36mModel.evaluate\u001B[1;34m(self, x, y, batch_size, verbose, sample_weight, steps, callbacks, max_queue_size, workers, use_multiprocessing, return_dict, **kwargs)\u001B[0m\n\u001B[0;32m   2196\u001B[0m             \u001B[38;5;28;01mwith\u001B[39;00m tf\u001B[38;5;241m.\u001B[39mprofiler\u001B[38;5;241m.\u001B[39mexperimental\u001B[38;5;241m.\u001B[39mTrace(\n\u001B[0;32m   2197\u001B[0m                 \u001B[38;5;124m\"\u001B[39m\u001B[38;5;124mtest\u001B[39m\u001B[38;5;124m\"\u001B[39m, step_num\u001B[38;5;241m=\u001B[39mstep, _r\u001B[38;5;241m=\u001B[39m\u001B[38;5;241m1\u001B[39m\n\u001B[0;32m   2198\u001B[0m             ):\n\u001B[0;32m   2199\u001B[0m                 callbacks\u001B[38;5;241m.\u001B[39mon_test_batch_begin(step)\n\u001B[1;32m-> 2200\u001B[0m                 logs \u001B[38;5;241m=\u001B[39m test_function_runner\u001B[38;5;241m.\u001B[39mrun_step(\n\u001B[0;32m   2201\u001B[0m                     dataset_or_iterator,\n\u001B[0;32m   2202\u001B[0m                     data_handler,\n\u001B[0;32m   2203\u001B[0m                     step,\n\u001B[0;32m   2204\u001B[0m                     \u001B[38;5;28mself\u001B[39m\u001B[38;5;241m.\u001B[39m_pss_evaluation_shards,\n\u001B[0;32m   2205\u001B[0m                 )\n\u001B[0;32m   2207\u001B[0m logs \u001B[38;5;241m=\u001B[39m tf_utils\u001B[38;5;241m.\u001B[39msync_to_numpy_or_python_type(logs)\n\u001B[0;32m   2208\u001B[0m \u001B[38;5;66;03m# Override with model metrics instead of last step logs\u001B[39;00m\n",
      "File \u001B[1;32mC:\\ProgramData\\anaconda3\\Lib\\site-packages\\keras\\src\\engine\\training.py:4000\u001B[0m, in \u001B[0;36m_TestFunction.run_step\u001B[1;34m(self, dataset_or_iterator, data_handler, step, unused_shards)\u001B[0m\n\u001B[0;32m   3999\u001B[0m \u001B[38;5;28;01mdef\u001B[39;00m \u001B[38;5;21mrun_step\u001B[39m(\u001B[38;5;28mself\u001B[39m, dataset_or_iterator, data_handler, step, unused_shards):\n\u001B[1;32m-> 4000\u001B[0m     tmp_logs \u001B[38;5;241m=\u001B[39m \u001B[38;5;28mself\u001B[39m\u001B[38;5;241m.\u001B[39m_function(dataset_or_iterator)\n\u001B[0;32m   4001\u001B[0m     \u001B[38;5;28;01mif\u001B[39;00m data_handler\u001B[38;5;241m.\u001B[39mshould_sync:\n\u001B[0;32m   4002\u001B[0m         context\u001B[38;5;241m.\u001B[39masync_wait()\n",
      "File \u001B[1;32mC:\\ProgramData\\anaconda3\\Lib\\site-packages\\tensorflow\\python\\util\\traceback_utils.py:150\u001B[0m, in \u001B[0;36mfilter_traceback.<locals>.error_handler\u001B[1;34m(*args, **kwargs)\u001B[0m\n\u001B[0;32m    148\u001B[0m filtered_tb \u001B[38;5;241m=\u001B[39m \u001B[38;5;28;01mNone\u001B[39;00m\n\u001B[0;32m    149\u001B[0m \u001B[38;5;28;01mtry\u001B[39;00m:\n\u001B[1;32m--> 150\u001B[0m   \u001B[38;5;28;01mreturn\u001B[39;00m fn(\u001B[38;5;241m*\u001B[39margs, \u001B[38;5;241m*\u001B[39m\u001B[38;5;241m*\u001B[39mkwargs)\n\u001B[0;32m    151\u001B[0m \u001B[38;5;28;01mexcept\u001B[39;00m \u001B[38;5;167;01mException\u001B[39;00m \u001B[38;5;28;01mas\u001B[39;00m e:\n\u001B[0;32m    152\u001B[0m   filtered_tb \u001B[38;5;241m=\u001B[39m _process_traceback_frames(e\u001B[38;5;241m.\u001B[39m__traceback__)\n",
      "File \u001B[1;32mC:\\ProgramData\\anaconda3\\Lib\\site-packages\\tensorflow\\python\\eager\\polymorphic_function\\polymorphic_function.py:825\u001B[0m, in \u001B[0;36mFunction.__call__\u001B[1;34m(self, *args, **kwds)\u001B[0m\n\u001B[0;32m    822\u001B[0m compiler \u001B[38;5;241m=\u001B[39m \u001B[38;5;124m\"\u001B[39m\u001B[38;5;124mxla\u001B[39m\u001B[38;5;124m\"\u001B[39m \u001B[38;5;28;01mif\u001B[39;00m \u001B[38;5;28mself\u001B[39m\u001B[38;5;241m.\u001B[39m_jit_compile \u001B[38;5;28;01melse\u001B[39;00m \u001B[38;5;124m\"\u001B[39m\u001B[38;5;124mnonXla\u001B[39m\u001B[38;5;124m\"\u001B[39m\n\u001B[0;32m    824\u001B[0m \u001B[38;5;28;01mwith\u001B[39;00m OptionalXlaContext(\u001B[38;5;28mself\u001B[39m\u001B[38;5;241m.\u001B[39m_jit_compile):\n\u001B[1;32m--> 825\u001B[0m   result \u001B[38;5;241m=\u001B[39m \u001B[38;5;28mself\u001B[39m\u001B[38;5;241m.\u001B[39m_call(\u001B[38;5;241m*\u001B[39margs, \u001B[38;5;241m*\u001B[39m\u001B[38;5;241m*\u001B[39mkwds)\n\u001B[0;32m    827\u001B[0m new_tracing_count \u001B[38;5;241m=\u001B[39m \u001B[38;5;28mself\u001B[39m\u001B[38;5;241m.\u001B[39mexperimental_get_tracing_count()\n\u001B[0;32m    828\u001B[0m without_tracing \u001B[38;5;241m=\u001B[39m (tracing_count \u001B[38;5;241m==\u001B[39m new_tracing_count)\n",
      "File \u001B[1;32mC:\\ProgramData\\anaconda3\\Lib\\site-packages\\tensorflow\\python\\eager\\polymorphic_function\\polymorphic_function.py:864\u001B[0m, in \u001B[0;36mFunction._call\u001B[1;34m(self, *args, **kwds)\u001B[0m\n\u001B[0;32m    861\u001B[0m \u001B[38;5;28mself\u001B[39m\u001B[38;5;241m.\u001B[39m_lock\u001B[38;5;241m.\u001B[39mrelease()\n\u001B[0;32m    862\u001B[0m \u001B[38;5;66;03m# In this case we have not created variables on the first call. So we can\u001B[39;00m\n\u001B[0;32m    863\u001B[0m \u001B[38;5;66;03m# run the first trace but we should fail if variables are created.\u001B[39;00m\n\u001B[1;32m--> 864\u001B[0m results \u001B[38;5;241m=\u001B[39m \u001B[38;5;28mself\u001B[39m\u001B[38;5;241m.\u001B[39m_variable_creation_fn(\u001B[38;5;241m*\u001B[39margs, \u001B[38;5;241m*\u001B[39m\u001B[38;5;241m*\u001B[39mkwds)\n\u001B[0;32m    865\u001B[0m \u001B[38;5;28;01mif\u001B[39;00m \u001B[38;5;28mself\u001B[39m\u001B[38;5;241m.\u001B[39m_created_variables \u001B[38;5;129;01mand\u001B[39;00m \u001B[38;5;129;01mnot\u001B[39;00m ALLOW_DYNAMIC_VARIABLE_CREATION:\n\u001B[0;32m    866\u001B[0m   \u001B[38;5;28;01mraise\u001B[39;00m \u001B[38;5;167;01mValueError\u001B[39;00m(\u001B[38;5;124m\"\u001B[39m\u001B[38;5;124mCreating variables on a non-first call to a function\u001B[39m\u001B[38;5;124m\"\u001B[39m\n\u001B[0;32m    867\u001B[0m                    \u001B[38;5;124m\"\u001B[39m\u001B[38;5;124m decorated with tf.function.\u001B[39m\u001B[38;5;124m\"\u001B[39m)\n",
      "File \u001B[1;32mC:\\ProgramData\\anaconda3\\Lib\\site-packages\\tensorflow\\python\\eager\\polymorphic_function\\tracing_compiler.py:148\u001B[0m, in \u001B[0;36mTracingCompiler.__call__\u001B[1;34m(self, *args, **kwargs)\u001B[0m\n\u001B[0;32m    145\u001B[0m \u001B[38;5;28;01mwith\u001B[39;00m \u001B[38;5;28mself\u001B[39m\u001B[38;5;241m.\u001B[39m_lock:\n\u001B[0;32m    146\u001B[0m   (concrete_function,\n\u001B[0;32m    147\u001B[0m    filtered_flat_args) \u001B[38;5;241m=\u001B[39m \u001B[38;5;28mself\u001B[39m\u001B[38;5;241m.\u001B[39m_maybe_define_function(args, kwargs)\n\u001B[1;32m--> 148\u001B[0m \u001B[38;5;28;01mreturn\u001B[39;00m concrete_function\u001B[38;5;241m.\u001B[39m_call_flat(\n\u001B[0;32m    149\u001B[0m     filtered_flat_args, captured_inputs\u001B[38;5;241m=\u001B[39mconcrete_function\u001B[38;5;241m.\u001B[39mcaptured_inputs)\n",
      "File \u001B[1;32mC:\\ProgramData\\anaconda3\\Lib\\site-packages\\tensorflow\\python\\eager\\polymorphic_function\\monomorphic_function.py:1349\u001B[0m, in \u001B[0;36mConcreteFunction._call_flat\u001B[1;34m(self, args, captured_inputs)\u001B[0m\n\u001B[0;32m   1345\u001B[0m possible_gradient_type \u001B[38;5;241m=\u001B[39m gradients_util\u001B[38;5;241m.\u001B[39mPossibleTapeGradientTypes(args)\n\u001B[0;32m   1346\u001B[0m \u001B[38;5;28;01mif\u001B[39;00m (possible_gradient_type \u001B[38;5;241m==\u001B[39m gradients_util\u001B[38;5;241m.\u001B[39mPOSSIBLE_GRADIENT_TYPES_NONE\n\u001B[0;32m   1347\u001B[0m     \u001B[38;5;129;01mand\u001B[39;00m executing_eagerly):\n\u001B[0;32m   1348\u001B[0m   \u001B[38;5;66;03m# No tape is watching; skip to running the function.\u001B[39;00m\n\u001B[1;32m-> 1349\u001B[0m   \u001B[38;5;28;01mreturn\u001B[39;00m \u001B[38;5;28mself\u001B[39m\u001B[38;5;241m.\u001B[39m_build_call_outputs(\u001B[38;5;28mself\u001B[39m\u001B[38;5;241m.\u001B[39m_inference_function(\u001B[38;5;241m*\u001B[39margs))\n\u001B[0;32m   1350\u001B[0m forward_backward \u001B[38;5;241m=\u001B[39m \u001B[38;5;28mself\u001B[39m\u001B[38;5;241m.\u001B[39m_select_forward_and_backward_functions(\n\u001B[0;32m   1351\u001B[0m     args,\n\u001B[0;32m   1352\u001B[0m     possible_gradient_type,\n\u001B[0;32m   1353\u001B[0m     executing_eagerly)\n\u001B[0;32m   1354\u001B[0m forward_function, args_with_tangents \u001B[38;5;241m=\u001B[39m forward_backward\u001B[38;5;241m.\u001B[39mforward()\n",
      "File \u001B[1;32mC:\\ProgramData\\anaconda3\\Lib\\site-packages\\tensorflow\\python\\eager\\polymorphic_function\\atomic_function.py:196\u001B[0m, in \u001B[0;36mAtomicFunction.__call__\u001B[1;34m(self, *args)\u001B[0m\n\u001B[0;32m    194\u001B[0m \u001B[38;5;28;01mwith\u001B[39;00m record\u001B[38;5;241m.\u001B[39mstop_recording():\n\u001B[0;32m    195\u001B[0m   \u001B[38;5;28;01mif\u001B[39;00m \u001B[38;5;28mself\u001B[39m\u001B[38;5;241m.\u001B[39m_bound_context\u001B[38;5;241m.\u001B[39mexecuting_eagerly():\n\u001B[1;32m--> 196\u001B[0m     outputs \u001B[38;5;241m=\u001B[39m \u001B[38;5;28mself\u001B[39m\u001B[38;5;241m.\u001B[39m_bound_context\u001B[38;5;241m.\u001B[39mcall_function(\n\u001B[0;32m    197\u001B[0m         \u001B[38;5;28mself\u001B[39m\u001B[38;5;241m.\u001B[39mname,\n\u001B[0;32m    198\u001B[0m         \u001B[38;5;28mlist\u001B[39m(args),\n\u001B[0;32m    199\u001B[0m         \u001B[38;5;28mlen\u001B[39m(\u001B[38;5;28mself\u001B[39m\u001B[38;5;241m.\u001B[39mfunction_type\u001B[38;5;241m.\u001B[39mflat_outputs),\n\u001B[0;32m    200\u001B[0m     )\n\u001B[0;32m    201\u001B[0m   \u001B[38;5;28;01melse\u001B[39;00m:\n\u001B[0;32m    202\u001B[0m     outputs \u001B[38;5;241m=\u001B[39m make_call_op_in_graph(\u001B[38;5;28mself\u001B[39m, \u001B[38;5;28mlist\u001B[39m(args))\n",
      "File \u001B[1;32mC:\\ProgramData\\anaconda3\\Lib\\site-packages\\tensorflow\\python\\eager\\context.py:1457\u001B[0m, in \u001B[0;36mContext.call_function\u001B[1;34m(self, name, tensor_inputs, num_outputs)\u001B[0m\n\u001B[0;32m   1455\u001B[0m cancellation_context \u001B[38;5;241m=\u001B[39m cancellation\u001B[38;5;241m.\u001B[39mcontext()\n\u001B[0;32m   1456\u001B[0m \u001B[38;5;28;01mif\u001B[39;00m cancellation_context \u001B[38;5;129;01mis\u001B[39;00m \u001B[38;5;28;01mNone\u001B[39;00m:\n\u001B[1;32m-> 1457\u001B[0m   outputs \u001B[38;5;241m=\u001B[39m execute\u001B[38;5;241m.\u001B[39mexecute(\n\u001B[0;32m   1458\u001B[0m       name\u001B[38;5;241m.\u001B[39mdecode(\u001B[38;5;124m\"\u001B[39m\u001B[38;5;124mutf-8\u001B[39m\u001B[38;5;124m\"\u001B[39m),\n\u001B[0;32m   1459\u001B[0m       num_outputs\u001B[38;5;241m=\u001B[39mnum_outputs,\n\u001B[0;32m   1460\u001B[0m       inputs\u001B[38;5;241m=\u001B[39mtensor_inputs,\n\u001B[0;32m   1461\u001B[0m       attrs\u001B[38;5;241m=\u001B[39mattrs,\n\u001B[0;32m   1462\u001B[0m       ctx\u001B[38;5;241m=\u001B[39m\u001B[38;5;28mself\u001B[39m,\n\u001B[0;32m   1463\u001B[0m   )\n\u001B[0;32m   1464\u001B[0m \u001B[38;5;28;01melse\u001B[39;00m:\n\u001B[0;32m   1465\u001B[0m   outputs \u001B[38;5;241m=\u001B[39m execute\u001B[38;5;241m.\u001B[39mexecute_with_cancellation(\n\u001B[0;32m   1466\u001B[0m       name\u001B[38;5;241m.\u001B[39mdecode(\u001B[38;5;124m\"\u001B[39m\u001B[38;5;124mutf-8\u001B[39m\u001B[38;5;124m\"\u001B[39m),\n\u001B[0;32m   1467\u001B[0m       num_outputs\u001B[38;5;241m=\u001B[39mnum_outputs,\n\u001B[1;32m   (...)\u001B[0m\n\u001B[0;32m   1471\u001B[0m       cancellation_manager\u001B[38;5;241m=\u001B[39mcancellation_context,\n\u001B[0;32m   1472\u001B[0m   )\n",
      "File \u001B[1;32mC:\\ProgramData\\anaconda3\\Lib\\site-packages\\tensorflow\\python\\eager\\execute.py:53\u001B[0m, in \u001B[0;36mquick_execute\u001B[1;34m(op_name, num_outputs, inputs, attrs, ctx, name)\u001B[0m\n\u001B[0;32m     51\u001B[0m \u001B[38;5;28;01mtry\u001B[39;00m:\n\u001B[0;32m     52\u001B[0m   ctx\u001B[38;5;241m.\u001B[39mensure_initialized()\n\u001B[1;32m---> 53\u001B[0m   tensors \u001B[38;5;241m=\u001B[39m pywrap_tfe\u001B[38;5;241m.\u001B[39mTFE_Py_Execute(ctx\u001B[38;5;241m.\u001B[39m_handle, device_name, op_name,\n\u001B[0;32m     54\u001B[0m                                       inputs, attrs, num_outputs)\n\u001B[0;32m     55\u001B[0m \u001B[38;5;28;01mexcept\u001B[39;00m core\u001B[38;5;241m.\u001B[39m_NotOkStatusException \u001B[38;5;28;01mas\u001B[39;00m e:\n\u001B[0;32m     56\u001B[0m   \u001B[38;5;28;01mif\u001B[39;00m name \u001B[38;5;129;01mis\u001B[39;00m \u001B[38;5;129;01mnot\u001B[39;00m \u001B[38;5;28;01mNone\u001B[39;00m:\n",
      "\u001B[1;31mKeyboardInterrupt\u001B[0m: "
     ]
    }
   ],
   "source": [
    "# Train the model\n",
    "model.fit(train_dataset, validation_data=test_dataset, epochs=50, callbacks=[checkpoint,schedule_callback,example_callback] )"
   ]
  },
  {
   "cell_type": "code",
   "execution_count": 41,
   "outputs": [
    {
     "name": "stdout",
     "output_type": "stream",
     "text": [
      "Epoch 1/100\n",
      "1/1 [==============================] - 3s 3s/step\n",
      "Predicted: la re it ie aon\n",
      "Actual: bin blue at l six now\n",
      "-------------------\n",
      "Predicted: la re it ie aon\n",
      "Actual: place white at d three soon\n",
      "-------------------\n",
      "50/50 [==============================] - 3945s 80s/step - loss: 52.0007 - val_loss: 48.0193 - lr: 1.3534e-04\n",
      "Epoch 2/100\n",
      "1/1 [==============================] - 3s 3s/step\n",
      "Predicted: la re it ie aon\n",
      "Actual: bin red with g eight please\n",
      "-------------------\n",
      "Predicted: la re it ie aon\n",
      "Actual: set green at i eight please\n",
      "-------------------\n",
      "50/50 [==============================] - 3715s 75s/step - loss: 50.8050 - val_loss: 47.3838 - lr: 1.3534e-04\n",
      "Epoch 3/100\n",
      "1/1 [==============================] - 3s 3s/step\n",
      "Predicted: la re it ie aon\n",
      "Actual: lay white in r two now\n",
      "-------------------\n",
      "Predicted: la re it ie aon\n",
      "Actual: place blue by p five again\n",
      "-------------------\n",
      "50/50 [==============================] - 3719s 75s/step - loss: 50.7246 - val_loss: 47.3040 - lr: 1.3534e-04\n",
      "Epoch 4/100\n",
      "1/1 [==============================] - 6s 6s/step\n",
      "Predicted: la re it ie aon\n",
      "Actual: place green in j nine soon\n",
      "-------------------\n",
      "Predicted: la re it ie aon\n",
      "Actual: bin red at m four please\n",
      "-------------------\n",
      "50/50 [==============================] - 3755s 76s/step - loss: 50.9344 - val_loss: 46.6214 - lr: 1.3534e-04\n",
      "Epoch 5/100\n",
      "1/1 [==============================] - 4s 4s/step\n",
      "Predicted: la re it ie aon\n",
      "Actual: bin green in n three again\n",
      "-------------------\n",
      "Predicted: la re it ie aon\n",
      "Actual: lay red in k four please\n",
      "-------------------\n",
      "50/50 [==============================] - 4893s 99s/step - loss: 49.3655 - val_loss: 44.2869 - lr: 1.3534e-04\n",
      "Epoch 6/100\n",
      "1/1 [==============================] - 5s 5s/step\n",
      "Predicted: la re it e aon\n",
      "Actual: lay red at y five soon\n",
      "-------------------\n",
      "Predicted: la re it e aon\n",
      "Actual: bin red by t three again\n",
      "-------------------\n",
      "50/50 [==============================] - 4439s 90s/step - loss: 48.6132 - val_loss: 46.6816 - lr: 1.3534e-04\n",
      "Epoch 7/100\n",
      "1/1 [==============================] - 3s 3s/step\n",
      "Predicted: la re it ie aon\n",
      "Actual: set white with i eight now\n",
      "-------------------\n",
      "Predicted: la re it ie aon\n",
      "Actual: place green by r zero now\n",
      "-------------------\n",
      "50/50 [==============================] - 4639s 93s/step - loss: 50.0092 - val_loss: 44.6815 - lr: 1.3534e-04\n",
      "Epoch 8/100\n",
      "1/1 [==============================] - 3s 3s/step\n",
      "Predicted: la re it ie aon\n",
      "Actual: place blue in u nine soon\n",
      "-------------------\n",
      "Predicted: la re it ie aon\n",
      "Actual: place red at sp p six please\n",
      "-------------------\n",
      "50/50 [==============================] - 3832s 77s/step - loss: 48.2398 - val_loss: 45.4506 - lr: 1.3534e-04\n",
      "Epoch 9/100\n",
      "1/1 [==============================] - 3s 3s/step\n",
      "Predicted: la re it ie aon\n",
      "Actual: set green in v zero now\n",
      "-------------------\n",
      "Predicted: la re it ie aon\n",
      "Actual: bin white in s nine soon\n",
      "-------------------\n",
      "50/50 [==============================] - 3688s 74s/step - loss: 48.7813 - val_loss: 44.7819 - lr: 1.3534e-04\n",
      "Epoch 10/100\n",
      "1/1 [==============================] - 3s 3s/step\n",
      "Predicted: la re it ie aon\n",
      "Actual: bin red in s three soon\n",
      "-------------------\n",
      "Predicted: la re it ie aon\n",
      "Actual: lay green at f seven again\n",
      "-------------------\n",
      "50/50 [==============================] - 3689s 74s/step - loss: 47.0960 - val_loss: 45.5505 - lr: 1.3534e-04\n",
      "Epoch 11/100\n",
      "1/1 [==============================] - 3s 3s/step\n",
      "Predicted: la re it ie oan\n",
      "Actual: bin green with o four please\n",
      "-------------------\n",
      "Predicted: la re it ie oan\n",
      "Actual: bin red at g one again\n",
      "-------------------\n",
      "50/50 [==============================] - 3744s 76s/step - loss: 47.5451 - val_loss: 45.1239 - lr: 1.3534e-04\n",
      "Epoch 12/100\n",
      "1/1 [==============================] - 3s 3s/step\n",
      "Predicted: la re it ie aon\n",
      "Actual: lay white with m zero now\n",
      "-------------------\n",
      "Predicted: la re it ie aon\n",
      "Actual: bin green at a six now\n",
      "-------------------\n",
      "50/50 [==============================] - 3771s 76s/step - loss: 47.6576 - val_loss: 45.6362 - lr: 1.3534e-04\n",
      "Epoch 13/100\n",
      "1/1 [==============================] - 3s 3s/step\n",
      "Predicted: la re it ie aon\n",
      "Actual: bin red by g five again\n",
      "-------------------\n",
      "Predicted: la re it ie aon\n",
      "Actual: bin blue by f six now\n",
      "-------------------\n",
      "50/50 [==============================] - 3736s 75s/step - loss: 48.4767 - val_loss: 44.2689 - lr: 1.3534e-04\n",
      "Epoch 14/100\n",
      "1/1 [==============================] - 3s 3s/step\n",
      "Predicted: la re it ie aon\n",
      "Actual: lay red at r one soon\n",
      "-------------------\n",
      "Predicted: la re it ie aon\n",
      "Actual: place red by p nine soon\n",
      "-------------------\n",
      "50/50 [==============================] - 3736s 75s/step - loss: 46.8529 - val_loss: 45.1913 - lr: 1.3534e-04\n",
      "Epoch 15/100\n",
      "1/1 [==============================] - 3s 3s/step\n",
      "Predicted: la re it ie aon\n",
      "Actual: set red by b five soon\n",
      "-------------------\n",
      "Predicted: la re it ie aon\n",
      "Actual: lay green with a one again\n",
      "-------------------\n",
      "50/50 [==============================] - 3733s 75s/step - loss: 47.0696 - val_loss: 44.8131 - lr: 1.3534e-04\n",
      "Epoch 16/100\n",
      "1/1 [==============================] - 3s 3s/step\n",
      "Predicted: la re it ie aon\n",
      "Actual: lay white in k nine soon\n",
      "-------------------\n",
      "Predicted: la re it ie aon\n",
      "Actual: lay blue with r two now\n",
      "-------------------\n",
      "50/50 [==============================] - 3727s 75s/step - loss: 48.7096 - val_loss: 44.2596 - lr: 1.3534e-04\n",
      "Epoch 17/100\n",
      "1/1 [==============================] - 3s 3s/step\n",
      "Predicted: la re it ie aon\n",
      "Actual: place white by d eight please\n",
      "-------------------\n",
      "Predicted: la re it ie aon\n",
      "Actual: lay white by z four now\n",
      "-------------------\n",
      "50/50 [==============================] - 3739s 75s/step - loss: 46.7072 - val_loss: 45.8087 - lr: 1.3534e-04\n",
      "Epoch 18/100\n",
      "1/1 [==============================] - 3s 3s/step\n",
      "Predicted: la re it ie aon\n",
      "Actual: place red by j six please\n",
      "-------------------\n",
      "Predicted: la re it ie aon\n",
      "Actual: bin green in g seven soon\n",
      "-------------------\n",
      "50/50 [==============================] - 3730s 75s/step - loss: 47.7799 - val_loss: 43.9865 - lr: 1.3534e-04\n",
      "Epoch 19/100\n",
      "1/1 [==============================] - 3s 3s/step\n",
      "Predicted: la re it ie oan\n",
      "Actual: bin red with a five again\n",
      "-------------------\n",
      "Predicted: la re it ie oan\n",
      "Actual: lay blue by y three soon\n",
      "-------------------\n",
      "50/50 [==============================] - 3718s 75s/step - loss: 48.7005 - val_loss: 44.3276 - lr: 1.3534e-04\n",
      "Epoch 20/100\n",
      "1/1 [==============================] - 3s 3s/step\n",
      "Predicted: la re it ie oan\n",
      "Actual: bin white with h four please\n",
      "-------------------\n",
      "Predicted: la re it ie oan\n",
      "Actual: bin white by t eight sp please\n",
      "-------------------\n",
      "50/50 [==============================] - 3725s 75s/step - loss: 46.9292 - val_loss: 44.5557 - lr: 1.3534e-04\n",
      "Epoch 21/100\n",
      "1/1 [==============================] - 3s 3s/step\n",
      "Predicted: la re it ie aon\n",
      "Actual: bin blue with t one again\n",
      "-------------------\n",
      "Predicted: la re it ie aon\n",
      "Actual: set blue in a one soon\n",
      "-------------------\n",
      "50/50 [==============================] - 3727s 75s/step - loss: 47.0325 - val_loss: 43.9113 - lr: 1.3534e-04\n",
      "Epoch 22/100\n",
      "1/1 [==============================] - 3s 3s/step\n",
      "Predicted: la rue it ie son\n",
      "Actual: bin red in z six now\n",
      "-------------------\n",
      "Predicted: la rue it ie son\n",
      "Actual: place red by j five soon\n",
      "-------------------\n",
      "50/50 [==============================] - 3720s 75s/step - loss: 47.9039 - val_loss: 44.2338 - lr: 1.3534e-04\n",
      "Epoch 23/100\n",
      "1/1 [==============================] - 4s 4s/step\n",
      "Predicted: la re it ie aon\n",
      "Actual: place blue in b eight please\n",
      "-------------------\n",
      "Predicted: la re it ie aon\n",
      "Actual: lay green in f three again\n",
      "-------------------\n",
      "50/50 [==============================] - 4131s 83s/step - loss: 47.0249 - val_loss: 43.8468 - lr: 1.3534e-04\n",
      "Epoch 24/100\n",
      "1/1 [==============================] - 4s 4s/step\n",
      "Predicted: la re it ie aon\n",
      "Actual: set red by o five again\n",
      "-------------------\n",
      "Predicted: la re it ie aon\n",
      "Actual: bin green with o five again\n",
      "-------------------\n",
      "50/50 [==============================] - 3896s 78s/step - loss: 46.6166 - val_loss: 44.4685 - lr: 1.3534e-04\n",
      "Epoch 25/100\n",
      "1/1 [==============================] - 3s 3s/step\n",
      "Predicted: la re it ie aon\n",
      "Actual: lay white in r three soon\n",
      "-------------------\n",
      "Predicted: la re it ie aon\n",
      "Actual: set green by p seven again\n",
      "-------------------\n",
      "50/50 [==============================] - 3991s 81s/step - loss: 46.3732 - val_loss: 44.6803 - lr: 1.3534e-04\n",
      "Epoch 26/100\n",
      "1/1 [==============================] - 4s 4s/step\n",
      "Predicted: la re it ie oan\n",
      "Actual: bin white sp by n four please\n",
      "-------------------\n",
      "Predicted: la re it ie oan\n",
      "Actual: bin red in z nine again\n",
      "-------------------\n",
      "50/50 [==============================] - 3887s 78s/step - loss: 47.2298 - val_loss: 45.0101 - lr: 1.3534e-04\n",
      "Epoch 27/100\n",
      "1/1 [==============================] - 4s 4s/step\n",
      "Predicted: la re it ie aon\n",
      "Actual: place red at x one again\n",
      "-------------------\n",
      "Predicted: la re it ie aon\n",
      "Actual: place red at v nine soon\n",
      "-------------------\n",
      "50/50 [==============================] - 3933s 79s/step - loss: 46.5374 - val_loss: 44.3811 - lr: 1.3534e-04\n",
      "Epoch 28/100\n",
      "1/1 [==============================] - 4s 4s/step\n",
      "Predicted: la re it ie on\n",
      "Actual: lay blue at k one soon\n",
      "-------------------\n",
      "Predicted: la re it ie on\n",
      "Actual: set red at h seven again\n",
      "-------------------\n",
      "50/50 [==============================] - 3952s 80s/step - loss: 46.7192 - val_loss: 45.2226 - lr: 1.3534e-04\n",
      "Epoch 29/100\n",
      "1/1 [==============================] - 3s 3s/step\n",
      "Predicted: la re it ie son\n",
      "Actual: lay blue by q eight now\n",
      "-------------------\n",
      "Predicted: la re it ie son\n",
      "Actual: lay green with m nine again\n",
      "-------------------\n",
      "50/50 [==============================] - 3743s 75s/step - loss: 46.0098 - val_loss: 44.6568 - lr: 1.3534e-04\n",
      "Epoch 30/100\n",
      "1/1 [==============================] - 3s 3s/step\n",
      "Predicted: la re it ie on\n",
      "Actual: bin green with u six now\n",
      "-------------------\n",
      "Predicted: la re it ie on\n",
      "Actual: bin white by g eight now\n",
      "-------------------\n",
      "50/50 [==============================] - 3713s 75s/step - loss: 46.0802 - val_loss: 44.0827 - lr: 1.3534e-04\n",
      "Epoch 31/100\n",
      "1/1 [==============================] - 3s 3s/step\n",
      "Predicted: la re it ie on\n",
      "Actual: set green at p two please\n",
      "-------------------\n",
      "Predicted: la re it ie on\n",
      "Actual: bin green by h seven again\n",
      "-------------------\n",
      "50/50 [==============================] - 3718s 75s/step - loss: 46.3713 - val_loss: 43.8533 - lr: 1.2246e-04\n",
      "Epoch 32/100\n",
      "1/1 [==============================] - 4s 4s/step\n",
      "Predicted: la re it ie aon\n",
      "Actual: lay green in f two please\n",
      "-------------------\n",
      "Predicted: la re it ie aon\n",
      "Actual: lay blue sp at q five soon\n",
      "-------------------\n",
      "50/50 [==============================] - 3756s 76s/step - loss: 46.7478 - val_loss: 42.6833 - lr: 1.1080e-04\n",
      "Epoch 33/100\n",
      "1/1 [==============================] - 4s 4s/step\n",
      "Predicted: la re it ie on\n",
      "Actual: place green at e one again\n",
      "-------------------\n",
      "Predicted: la re it ie on\n",
      "Actual: lay green with g five again\n",
      "-------------------\n",
      "50/50 [==============================] - 3740s 75s/step - loss: 46.5690 - val_loss: 42.9500 - lr: 1.0026e-04\n",
      "Epoch 34/100\n",
      "1/1 [==============================] - 4s 4s/step\n",
      "Predicted: la re it ie aon\n",
      "Actual: place green by r one soon\n",
      "-------------------\n",
      "Predicted: la re it ie aon\n",
      "Actual: set white with p four please\n",
      "-------------------\n",
      "50/50 [==============================] - 3889s 78s/step - loss: 46.5098 - val_loss: 43.4607 - lr: 9.0718e-05\n",
      "Epoch 35/100\n",
      "1/1 [==============================] - 3s 3s/step\n",
      "Predicted: la re it ie aon\n",
      "Actual: bin white with a eight now\n",
      "-------------------\n",
      "Predicted: la re it ie aon\n",
      "Actual: bin blue by s five soon\n",
      "-------------------\n",
      "50/50 [==============================] - 3863s 78s/step - loss: 47.4458 - val_loss: 42.5861 - lr: 8.2085e-05\n",
      "Epoch 36/100\n",
      "1/1 [==============================] - 3s 3s/step\n",
      "Predicted: la re it ie aon\n",
      "Actual: bin white with b zero please\n",
      "-------------------\n",
      "Predicted: la re it ie aon\n",
      "Actual: bin green with b four now\n",
      "-------------------\n",
      "50/50 [==============================] - 3718s 75s/step - loss: 46.9731 - val_loss: 43.0066 - lr: 7.4274e-05\n",
      "Epoch 37/100\n",
      "1/1 [==============================] - 3s 3s/step\n",
      "Predicted: la re it ie aon\n",
      "Actual: set red in h zero now\n",
      "-------------------\n",
      "Predicted: la re it ie aon\n",
      "Actual: set blue by h two now\n",
      "-------------------\n",
      "50/50 [==============================] - 3699s 75s/step - loss: 47.2922 - val_loss: 42.4574 - lr: 6.7206e-05\n",
      "Epoch 38/100\n",
      "1/1 [==============================] - 3s 3s/step\n",
      "Predicted: la re it ie aon\n",
      "Actual: set blue at t six now\n",
      "-------------------\n",
      "Predicted: la re it ie aon\n",
      "Actual: set red at u four please\n",
      "-------------------\n",
      "50/50 [==============================] - 3716s 75s/step - loss: 46.4666 - val_loss: 42.4476 - lr: 6.0810e-05\n",
      "Epoch 39/100\n",
      "1/1 [==============================] - 3s 3s/step\n",
      "Predicted: la re it ie on\n",
      "Actual: place green by k eight please\n",
      "-------------------\n",
      "Predicted: la re it ie on\n",
      "Actual: lay green by m five again\n",
      "-------------------\n",
      "50/50 [==============================] - 3710s 75s/step - loss: 45.2892 - val_loss: 42.7708 - lr: 5.5023e-05\n",
      "Epoch 40/100\n",
      "1/1 [==============================] - 3s 3s/step\n",
      "Predicted: la re it ie on\n",
      "Actual: lay red with l six please\n",
      "-------------------\n",
      "Predicted: la re it ie on\n",
      "Actual: lay green at f six please\n",
      "-------------------\n",
      "50/50 [==============================] - 3712s 75s/step - loss: 46.3278 - val_loss: 42.6224 - lr: 4.9787e-05\n",
      "Epoch 41/100\n",
      "1/1 [==============================] - 3s 3s/step\n",
      "Predicted: la re it ie on\n",
      "Actual: set blue in g seven again\n",
      "-------------------\n",
      "Predicted: la re it ie on\n",
      "Actual: set white with sp v nine again\n",
      "-------------------\n",
      "50/50 [==============================] - 3714s 75s/step - loss: 46.9046 - val_loss: 42.7104 - lr: 4.5049e-05\n",
      "Epoch 42/100\n",
      "1/1 [==============================] - 3s 3s/step\n",
      "Predicted: la re it ie on\n",
      "Actual: bin green with i one again\n",
      "-------------------\n",
      "Predicted: la re it ie on\n",
      "Actual: lay blue at d seven soon\n",
      "-------------------\n",
      "50/50 [==============================] - 3715s 75s/step - loss: 45.7633 - val_loss: 42.5052 - lr: 4.0762e-05\n",
      "Epoch 43/100\n",
      "1/1 [==============================] - 3s 3s/step\n",
      "Predicted: la re it ie aon\n",
      "Actual: lay red at r three again\n",
      "-------------------\n",
      "Predicted: la re it ie aon\n",
      "Actual: place green in d four now\n",
      "-------------------\n",
      "50/50 [==============================] - 3725s 75s/step - loss: 45.5765 - val_loss: 42.6108 - lr: 3.6883e-05\n",
      "Epoch 44/100\n",
      "1/1 [==============================] - 3s 3s/step\n",
      "Predicted: la re it ie aon\n",
      "Actual: bin green by o one again\n",
      "-------------------\n",
      "Predicted: la re it ie aon\n",
      "Actual: lay white in y nine again\n",
      "-------------------\n",
      "50/50 [==============================] - 3723s 75s/step - loss: 47.2000 - val_loss: 42.4235 - lr: 3.3373e-05\n",
      "Epoch 45/100\n",
      "1/1 [==============================] - 4s 4s/step\n",
      "Predicted: la re it ie on\n",
      "Actual: bin blue by s seven again\n",
      "-------------------\n",
      "Predicted: la re it ie on\n",
      "Actual: set white at b nine again\n",
      "-------------------\n",
      "50/50 [==============================] - 3951s 80s/step - loss: 45.7986 - val_loss: 42.5027 - lr: 3.0197e-05\n",
      "Epoch 46/100\n",
      "1/1 [==============================] - 6s 6s/step\n",
      "Predicted: la re it ie on\n",
      "Actual: set white with c seven again\n",
      "-------------------\n",
      "Predicted: la re it ie on\n",
      "Actual: bin white in t one again\n",
      "-------------------\n",
      "50/50 [==============================] - 4453s 90s/step - loss: 47.2619 - val_loss: 42.1123 - lr: 2.7324e-05\n",
      "Epoch 47/100\n",
      "1/1 [==============================] - 4s 4s/step\n",
      "Predicted: la re it ie aon\n",
      "Actual: lay red in e zero please\n",
      "-------------------\n",
      "Predicted: la re it ie aon\n",
      "Actual: set white at i three again\n",
      "-------------------\n",
      "50/50 [==============================] - 4426s 89s/step - loss: 46.1081 - val_loss: 42.3135 - lr: 2.4724e-05\n",
      "Epoch 48/100\n",
      "1/1 [==============================] - 3s 3s/step\n",
      "Predicted: la re it ie aon\n",
      "Actual: set green with d three again\n",
      "-------------------\n",
      "Predicted: la re it ie aon\n",
      "Actual: place green at y one soon\n",
      "-------------------\n",
      "50/50 [==============================] - 3904s 79s/step - loss: 45.2988 - val_loss: 42.4430 - lr: 2.2371e-05\n",
      "Epoch 49/100\n",
      "1/1 [==============================] - 4s 4s/step\n",
      "Predicted: la re it ie aon\n",
      "Actual: set red with v three again\n",
      "-------------------\n",
      "Predicted: la re it ie aon\n",
      "Actual: bin blue in r seven soon\n",
      "-------------------\n",
      "50/50 [==============================] - 3755s 76s/step - loss: 45.3283 - val_loss: 42.2154 - lr: 2.0242e-05\n",
      "Epoch 50/100\n",
      "1/1 [==============================] - 3s 3s/step\n",
      "Predicted: la re it ie aon\n",
      "Actual: lay white in r five again\n",
      "-------------------\n",
      "Predicted: la re it ie aon\n",
      "Actual: bin blue at s zero now\n",
      "-------------------\n",
      "50/50 [==============================] - 3751s 76s/step - loss: 46.0058 - val_loss: 42.3312 - lr: 1.8316e-05\n",
      "Epoch 51/100\n",
      "1/1 [==============================] - 3s 3s/step\n",
      "Predicted: la re it ie aon\n",
      "Actual: bin red by a zero please\n",
      "-------------------\n",
      "Predicted: la re it ie aon\n",
      "Actual: set red by o two now\n",
      "-------------------\n",
      "50/50 [==============================] - 3742s 75s/step - loss: 45.5221 - val_loss: 42.3703 - lr: 1.6573e-05\n",
      "Epoch 52/100\n",
      "1/1 [==============================] - 4s 4s/step\n",
      "Predicted: la re it ie aon\n",
      "Actual: set green by v eight now\n",
      "-------------------\n",
      "Predicted: la re it ie aon\n",
      "Actual: place green with l one soon\n",
      "-------------------\n",
      "50/50 [==============================] - 4256s 86s/step - loss: 45.2374 - val_loss: 42.5233 - lr: 1.4996e-05\n",
      "Epoch 53/100\n",
      "1/1 [==============================] - 6s 6s/step\n",
      "Predicted: la re it ie aon\n",
      "Actual: place red at j two please\n",
      "-------------------\n",
      "Predicted: la re it ie aon\n",
      "Actual: bin blue in z sp two please\n",
      "-------------------\n",
      "50/50 [==============================] - 5108s 103s/step - loss: 46.5260 - val_loss: 42.2378 - lr: 1.3569e-05\n",
      "Epoch 54/100\n",
      "1/1 [==============================] - 4s 4s/step\n",
      "Predicted: la re it ie aon\n",
      "Actual: set red in a seven soon\n",
      "-------------------\n",
      "Predicted: la re it ie aon\n",
      "Actual: lay red in k two now\n",
      "-------------------\n",
      "50/50 [==============================] - 4100s 83s/step - loss: 45.3431 - val_loss: 42.2790 - lr: 1.2277e-05\n",
      "Epoch 55/100\n",
      "1/1 [==============================] - 3s 3s/step\n",
      "Predicted: la re it ie aon\n",
      "Actual: place green in d five soon\n",
      "-------------------\n",
      "Predicted: la re it ie aon\n",
      "Actual: bin blue by f eight please\n",
      "-------------------\n",
      "50/50 [==============================] - 3980s 80s/step - loss: 45.5836 - val_loss: 42.3142 - lr: 1.1109e-05\n",
      "Epoch 56/100\n",
      "1/1 [==============================] - 3s 3s/step\n",
      "Predicted: la re it ie aon\n",
      "Actual: set white by c one soon\n",
      "-------------------\n",
      "Predicted: la re it ie aon\n",
      "Actual: bin blue with s eight now\n",
      "-------------------\n",
      "50/50 [==============================] - 4193s 85s/step - loss: 45.7355 - val_loss: 42.2937 - lr: 1.0052e-05\n",
      "Epoch 57/100\n",
      "1/1 [==============================] - 3s 3s/step\n",
      "Predicted: la re it ie aon\n",
      "Actual: place red by j seven again\n",
      "-------------------\n",
      "Predicted: la re it ie aon\n",
      "Actual: place blue with j two now\n",
      "-------------------\n",
      "50/50 [==============================] - 3712s 75s/step - loss: 45.2299 - val_loss: 42.0222 - lr: 9.0953e-06\n",
      "Epoch 58/100\n",
      "1/1 [==============================] - 3s 3s/step\n",
      "Predicted: la re it ie aon\n",
      "Actual: place green in k one again\n",
      "-------------------\n",
      "Predicted: la re it ie aon\n",
      "Actual: lay red at k seven soon\n",
      "-------------------\n",
      "50/50 [==============================] - 3711s 75s/step - loss: 45.2124 - val_loss: 42.2148 - lr: 8.2298e-06\n",
      "Epoch 59/100\n",
      "1/1 [==============================] - 3s 3s/step\n",
      "Predicted: la re it ie aon\n",
      "Actual: lay white in r four please\n",
      "-------------------\n",
      "Predicted: la re it ie aon\n",
      "Actual: lay white with f eight please\n",
      "-------------------\n",
      "50/50 [==============================] - 3712s 75s/step - loss: 45.8440 - val_loss: 42.2569 - lr: 7.4466e-06\n",
      "Epoch 60/100\n",
      "1/1 [==============================] - 3s 3s/step\n",
      "Predicted: la re it ie aon\n",
      "Actual: lay white by z six please\n",
      "-------------------\n",
      "Predicted: la re it ie aon\n",
      "Actual: bin blue with g one soon\n",
      "-------------------\n",
      "50/50 [==============================] - 3709s 75s/step - loss: 46.2574 - val_loss: 42.0793 - lr: 6.7379e-06\n",
      "Epoch 61/100\n",
      "1/1 [==============================] - 4s 4s/step\n",
      "Predicted: la re it ie aon\n",
      "Actual: bin white at m eight now\n",
      "-------------------\n",
      "Predicted: la re it ie aon\n",
      "Actual: bin green in a two now\n",
      "-------------------\n",
      "50/50 [==============================] - 3728s 75s/step - loss: 46.1893 - val_loss: 42.0917 - lr: 6.0967e-06\n",
      "Epoch 62/100\n",
      "1/1 [==============================] - 3s 3s/step\n",
      "Predicted: la re it ie aon\n",
      "Actual: place blue in b six now\n",
      "-------------------\n",
      "Predicted: la re it ie aon\n",
      "Actual: lay white at e eight now\n",
      "-------------------\n",
      "50/50 [==============================] - 3725s 75s/step - loss: 45.9966 - val_loss: 42.0505 - lr: 5.5166e-06\n",
      "Epoch 63/100\n",
      "1/1 [==============================] - 4s 4s/step\n",
      "Predicted: la re it ie aon\n",
      "Actual: place green in d seven again\n",
      "-------------------\n",
      "Predicted: la re it ie aon\n",
      "Actual: bin red in z eight please\n",
      "-------------------\n",
      "50/50 [==============================] - 3730s 75s/step - loss: 46.8340 - val_loss: 42.1777 - lr: 4.9916e-06\n",
      "Epoch 64/100\n",
      "1/1 [==============================] - 3s 3s/step\n",
      "Predicted: la re it ie aon\n",
      "Actual: place red with q two now\n",
      "-------------------\n",
      "Predicted: la re it ie aon\n",
      "Actual: lay blue with e four now\n",
      "-------------------\n",
      "50/50 [==============================] - 3728s 75s/step - loss: 46.3998 - val_loss: 42.1903 - lr: 4.5166e-06\n",
      "Epoch 65/100\n",
      "1/1 [==============================] - 3s 3s/step\n",
      "Predicted: la re it ie aon\n",
      "Actual: set white by p zero please\n",
      "-------------------\n",
      "Predicted: la re it ie aon\n",
      "Actual: place blue at c two please\n",
      "-------------------\n",
      "50/50 [==============================] - 3722s 75s/step - loss: 46.3832 - val_loss: 42.1880 - lr: 4.0868e-06\n",
      "Epoch 66/100\n",
      "1/1 [==============================] - 3s 3s/step\n",
      "Predicted: la re it ie aon\n",
      "Actual: bin red in m zero please\n",
      "-------------------\n",
      "Predicted: la re it ie aon\n",
      "Actual: lay red in q eight please\n",
      "-------------------\n",
      "50/50 [==============================] - 3726s 75s/step - loss: 44.9682 - val_loss: 42.1114 - lr: 3.6979e-06\n",
      "Epoch 67/100\n",
      "1/1 [==============================] - 4s 4s/step\n",
      "Predicted: la re it ie aon\n",
      "Actual: place red at c eight please\n",
      "-------------------\n",
      "Predicted: la re it ie aon\n",
      "Actual: set white by c two please\n",
      "-------------------\n",
      "50/50 [==============================] - 4234s 86s/step - loss: 45.7810 - val_loss: 42.0824 - lr: 3.3460e-06\n",
      "Epoch 68/100\n",
      "1/1 [==============================] - 4s 4s/step\n",
      "Predicted: la re it ie aon\n",
      "Actual: set blue at n five again\n",
      "-------------------\n",
      "Predicted: la re it ie aon\n",
      "Actual: set white at b eight please\n",
      "-------------------\n",
      "50/50 [==============================] - 4958s 100s/step - loss: 46.0462 - val_loss: 42.1586 - lr: 3.0276e-06\n",
      "Epoch 69/100\n",
      "1/1 [==============================] - 4s 4s/step\n",
      "Predicted: la re it ie aon\n",
      "Actual: bin blue with s nine soon\n",
      "-------------------\n",
      "Predicted: la re it ie aon\n",
      "Actual: bin white at t five again\n",
      "-------------------\n",
      "50/50 [==============================] - 5491s 111s/step - loss: 46.2563 - val_loss: 42.3115 - lr: 2.7394e-06\n",
      "Epoch 70/100\n",
      "1/1 [==============================] - 4s 4s/step\n",
      "Predicted: la re it ie aon\n",
      "Actual: set blue by n seven soon\n",
      "-------------------\n",
      "Predicted: la re it ie aon\n",
      "Actual: bin blue in z three again\n",
      "-------------------\n",
      "50/50 [==============================] - 4082s 82s/step - loss: 46.2155 - val_loss: 42.2941 - lr: 2.4788e-06\n",
      "Epoch 71/100\n",
      "1/1 [==============================] - 4s 4s/step\n",
      "Predicted: la re it ie aon\n",
      "Actual: set red with b nine soon\n",
      "-------------------\n",
      "Predicted: la re it ie aon\n",
      "Actual: bin white with h three soon\n",
      "-------------------\n",
      "50/50 [==============================] - 3795s 77s/step - loss: 45.9406 - val_loss: 42.2512 - lr: 2.2429e-06\n",
      "Epoch 72/100\n",
      "1/1 [==============================] - 4s 4s/step\n",
      "Predicted: la re it ie aon\n",
      "Actual: bin white in g two please\n",
      "-------------------\n",
      "Predicted: la re it ie aon\n",
      "Actual: bin blue in f zero please\n",
      "-------------------\n",
      "50/50 [==============================] - 4052s 82s/step - loss: 44.8578 - val_loss: 42.2157 - lr: 2.0294e-06\n",
      "Epoch 73/100\n",
      "1/1 [==============================] - 6s 6s/step\n",
      "Predicted: la re it ie aon\n",
      "Actual: place green with r four now\n",
      "-------------------\n",
      "Predicted: la re it ie aon\n",
      "Actual: bin green in g eight please\n",
      "-------------------\n",
      "50/50 [==============================] - 5773s 116s/step - loss: 45.4983 - val_loss: 42.1536 - lr: 1.8363e-06\n",
      "Epoch 74/100\n",
      "1/1 [==============================] - 6s 6s/step\n",
      "Predicted: la re it ie aon\n",
      "Actual: set red by u nine again\n",
      "-------------------\n",
      "Predicted: la re it ie aon\n",
      "Actual: bin blue in z zero now\n",
      "-------------------\n",
      "50/50 [==============================] - 5532s 111s/step - loss: 45.8979 - val_loss: 42.0441 - lr: 1.6616e-06\n",
      "Epoch 75/100\n",
      "1/1 [==============================] - 5s 5s/step\n",
      "Predicted: la re it ie aon\n",
      "Actual: lay blue by y five again\n",
      "-------------------\n",
      "Predicted: la re it ie aon\n",
      "Actual: bin green by u two now\n",
      "-------------------\n",
      "50/50 [==============================] - 5086s 103s/step - loss: 45.7317 - val_loss: 42.1964 - lr: 1.5034e-06\n",
      "Epoch 76/100\n",
      "1/1 [==============================] - 5s 5s/step\n",
      "Predicted: la re it ie aon\n",
      "Actual: bin white at t three soon\n",
      "-------------------\n",
      "Predicted: la re it ie aon\n",
      "Actual: lay red with s one again\n",
      "-------------------\n",
      "50/50 [==============================] - 4794s 97s/step - loss: 46.1712 - val_loss: 42.2837 - lr: 1.3604e-06\n",
      "Epoch 77/100\n",
      "1/1 [==============================] - 4s 4s/step\n",
      "Predicted: la re it ie aon\n",
      "Actual: place red with q five again\n",
      "-------------------\n",
      "Predicted: la re it ie aon\n",
      "Actual: lay blue in q zero now\n",
      "-------------------\n",
      "50/50 [==============================] - 4441s 90s/step - loss: 45.2468 - val_loss: 42.1592 - lr: 1.2309e-06\n",
      "Epoch 78/100\n",
      "1/1 [==============================] - 4s 4s/step\n",
      "Predicted: la re it ie aon\n",
      "Actual: place green in d six please\n",
      "-------------------\n",
      "Predicted: la re it ie aon\n",
      "Actual: set blue at h zero please\n",
      "-------------------\n",
      "50/50 [==============================] - 4456s 90s/step - loss: 46.1333 - val_loss: 42.2294 - lr: 1.1138e-06\n",
      "Epoch 79/100\n",
      "1/1 [==============================] - 4s 4s/step\n",
      "Predicted: la re it ie aon\n",
      "Actual: lay green with g two now\n",
      "-------------------\n",
      "Predicted: la re it ie aon\n",
      "Actual: place green with l two please\n",
      "-------------------\n",
      "50/50 [==============================] - 4452s 90s/step - loss: 45.4766 - val_loss: 42.1343 - lr: 1.0078e-06\n",
      "Epoch 80/100\n",
      "1/1 [==============================] - 4s 4s/step\n",
      "Predicted: la re it ie aon\n",
      "Actual: place red by q zero please\n",
      "-------------------\n",
      "Predicted: la re it ie aon\n",
      "Actual: set blue by h five again\n",
      "-------------------\n",
      "50/50 [==============================] - 4444s 90s/step - loss: 45.7283 - val_loss: 42.2321 - lr: 9.1188e-07\n",
      "Epoch 81/100\n",
      "1/1 [==============================] - 4s 4s/step\n",
      "Predicted: la re it ie aon\n",
      "Actual: set green in b eight now\n",
      "-------------------\n",
      "Predicted: la re it ie aon\n",
      "Actual: set blue in a zero now\n",
      "-------------------\n",
      "50/50 [==============================] - 4442s 90s/step - loss: 46.3334 - val_loss: 42.0868 - lr: 8.2511e-07\n",
      "Epoch 82/100\n",
      "1/1 [==============================] - 4s 4s/step\n",
      "Predicted: la re it ie aon\n",
      "Actual: bin blue at z six please\n",
      "-------------------\n",
      "Predicted: la re it ie aon\n",
      "Actual: lay red at e three soon\n",
      "-------------------\n",
      "50/50 [==============================] - 4407s 89s/step - loss: 46.1873 - val_loss: 41.9866 - lr: 7.4659e-07\n",
      "Epoch 83/100\n",
      "1/1 [==============================] - 4s 4s/step\n",
      "Predicted: la re it ie aon\n",
      "Actual: bin red at s nine again\n",
      "-------------------\n",
      "Predicted: la re it ie aon\n",
      "Actual: set green at c five again\n",
      "-------------------\n",
      "50/50 [==============================] - 4385s 88s/step - loss: 45.9904 - val_loss: 42.1895 - lr: 6.7554e-07\n",
      "Epoch 84/100\n",
      "1/1 [==============================] - 4s 4s/step\n",
      "Predicted: la re it ie aon\n",
      "Actual: place blue in b seven soon\n",
      "-------------------\n",
      "Predicted: la re it ie aon\n",
      "Actual: bin red by m eight please\n",
      "-------------------\n",
      "50/50 [==============================] - 4390s 89s/step - loss: 46.1916 - val_loss: 42.1420 - lr: 6.1125e-07\n",
      "Epoch 85/100\n",
      "1/1 [==============================] - 4s 4s/step\n",
      "Predicted: la re it ie aon\n",
      "Actual: set white with v eight please\n",
      "-------------------\n",
      "Predicted: la re it ie aon\n",
      "Actual: lay green in l seven again\n",
      "-------------------\n",
      "50/50 [==============================] - 4419s 89s/step - loss: 46.2699 - val_loss: 42.0417 - lr: 5.5308e-07\n",
      "Epoch 86/100\n",
      "1/1 [==============================] - 6s 6s/step\n",
      "Predicted: la re it ie aon\n",
      "Actual: place red with j nine soon\n",
      "-------------------\n",
      "Predicted: la re it ie aon\n",
      "Actual: place blue at c one soon\n",
      "-------------------\n",
      "50/50 [==============================] - 4292s 87s/step - loss: 45.9136 - val_loss: 42.1069 - lr: 5.0045e-07\n",
      "Epoch 87/100\n",
      "1/1 [==============================] - 6s 6s/step\n",
      "Predicted: la re it ie aon\n",
      "Actual: bin red with n zero now\n",
      "-------------------\n",
      "Predicted: la re it ie aon\n",
      "Actual: lay blue in x seven again\n",
      "-------------------\n",
      "50/50 [==============================] - 5538s 112s/step - loss: 46.6366 - val_loss: 42.1679 - lr: 4.5283e-07\n",
      "Epoch 88/100\n",
      "1/1 [==============================] - 4s 4s/step\n",
      "Predicted: la re it ie aon\n",
      "Actual: place red at c six now\n",
      "-------------------\n",
      "Predicted: la re it ie aon\n",
      "Actual: set white in o two please\n",
      "-------------------\n",
      "50/50 [==============================] - 5298s 107s/step - loss: 44.9165 - val_loss: 42.1849 - lr: 4.0974e-07\n",
      "Epoch 89/100\n",
      "1/1 [==============================] - 4s 4s/step\n",
      "Predicted: la re it ie aon\n",
      "Actual: lay green in z two now\n",
      "-------------------\n",
      "Predicted: la re it ie aon\n",
      "Actual: set white in o zero now\n",
      "-------------------\n",
      "50/50 [==============================] - 3758s 76s/step - loss: 45.9816 - val_loss: 42.2194 - lr: 3.7074e-07\n",
      "Epoch 90/100\n",
      "1/1 [==============================] - 4s 4s/step\n",
      "Predicted: la re it ie aon\n",
      "Actual: place green in x eight please\n",
      "-------------------\n",
      "Predicted: la re it ie aon\n",
      "Actual: place white at x six please\n",
      "-------------------\n",
      "50/50 [==============================] - 3755s 76s/step - loss: 47.1116 - val_loss: 42.0954 - lr: 3.3546e-07\n",
      "Epoch 91/100\n",
      "1/1 [==============================] - 4s 4s/step\n",
      "Predicted: la re it ie aon\n",
      "Actual: place green with z one again\n",
      "-------------------\n",
      "Predicted: la re it ie aon\n",
      "Actual: bin green with u nine again\n",
      "-------------------\n",
      "50/50 [==============================] - 4388s 89s/step - loss: 45.1706 - val_loss: 42.0881 - lr: 3.0354e-07\n",
      "Epoch 92/100\n",
      "1/1 [==============================] - 4s 4s/step\n",
      "Predicted: la re it ie aon\n",
      "Actual: set green by x one again\n",
      "-------------------\n",
      "Predicted: la re it ie aon\n",
      "Actual: bin white at n zero please\n",
      "-------------------\n",
      "50/50 [==============================] - 4856s 98s/step - loss: 45.0677 - val_loss: 42.1345 - lr: 2.7465e-07\n",
      "Epoch 93/100\n",
      "1/1 [==============================] - 3s 3s/step\n",
      "Predicted: la re it ie aon\n",
      "Actual: bin green by h four now\n",
      "-------------------\n",
      "Predicted: la re it ie aon\n",
      "Actual: lay white at l five again\n",
      "-------------------\n",
      "50/50 [==============================] - 4517s 91s/step - loss: 46.2228 - val_loss: 42.0589 - lr: 2.4852e-07\n",
      "Epoch 94/100\n",
      "1/1 [==============================] - 5s 5s/step\n",
      "Predicted: la re it ie aon\n",
      "Actual: place white with k seven again\n",
      "-------------------\n",
      "Predicted: la re it ie aon\n",
      "Actual: place white in j three soon\n",
      "-------------------\n",
      "50/50 [==============================] - 4673s 94s/step - loss: 46.8050 - val_loss: 42.1393 - lr: 2.2487e-07\n",
      "Epoch 95/100\n",
      "1/1 [==============================] - 4s 4s/step\n",
      "Predicted: la re it ie aon\n",
      "Actual: bin red in f four now\n",
      "-------------------\n",
      "Predicted: la re it ie aon\n",
      "Actual: place white with y two now\n",
      "-------------------\n",
      "50/50 [==============================] - 3925s 79s/step - loss: 45.4489 - val_loss: 42.1267 - lr: 2.0347e-07\n",
      "Epoch 96/100\n",
      "1/1 [==============================] - 4s 4s/step\n",
      "Predicted: la re it ie aon\n",
      "Actual: lay blue with y eight please\n",
      "-------------------\n",
      "Predicted: la re it ie aon\n",
      "Actual: lay green at s four please\n",
      "-------------------\n",
      "50/50 [==============================] - 3858s 78s/step - loss: 45.8048 - val_loss: 42.1780 - lr: 1.8411e-07\n",
      "Epoch 97/100\n",
      "1/1 [==============================] - 4s 4s/step\n",
      "Predicted: la re it ie aon\n",
      "Actual: place blue by p four please\n",
      "-------------------\n",
      "Predicted: la re it ie aon\n",
      "Actual: place red by d three again\n",
      "-------------------\n",
      "50/50 [==============================] - 3841s 77s/step - loss: 45.2359 - val_loss: 42.2464 - lr: 1.6659e-07\n",
      "Epoch 98/100\n",
      "1/1 [==============================] - 4s 4s/step\n",
      "Predicted: la re it ie aon\n",
      "Actual: bin blue at f two now\n",
      "-------------------\n",
      "Predicted: la re it ie aon\n",
      "Actual: bin green at u zero please\n",
      "-------------------\n",
      "50/50 [==============================] - 3816s 77s/step - loss: 45.0692 - val_loss: 42.1268 - lr: 1.5073e-07\n",
      "Epoch 99/100\n",
      "1/1 [==============================] - 3s 3s/step\n",
      "Predicted: la re it ie aon\n",
      "Actual: set red by u eight please\n",
      "-------------------\n",
      "Predicted: la re it ie aon\n",
      "Actual: bin white in m four now\n",
      "-------------------\n",
      "50/50 [==============================] - 3724s 75s/step - loss: 47.0760 - val_loss: 42.1621 - lr: 1.3639e-07\n",
      "Epoch 100/100\n",
      "1/1 [==============================] - 4s 4s/step\n",
      "Predicted: la re it ie aon\n",
      "Actual: bin red at m three soon\n",
      "-------------------\n",
      "Predicted: la re it ie aon\n",
      "Actual: lay white in y six now\n",
      "-------------------\n",
      "50/50 [==============================] - 3715s 75s/step - loss: 46.0605 - val_loss: 42.0848 - lr: 1.2341e-07\n"
     ]
    },
    {
     "data": {
      "text/plain": "<keras.src.callbacks.History at 0x21785222910>"
     },
     "execution_count": 41,
     "metadata": {},
     "output_type": "execute_result"
    }
   ],
   "source": [
    "# Train the model on 100 epochs\n",
    "model.fit(train_dataset, validation_data=test_dataset, epochs=100, callbacks=[checkpoint,schedule_callback,example_callback] )"
   ],
   "metadata": {
    "collapsed": false,
    "ExecuteTime": {
     "end_time": "2023-08-26T03:40:01.639206900Z",
     "start_time": "2023-08-21T10:33:48.222746300Z"
    }
   }
  },
  {
   "cell_type": "markdown",
   "metadata": {},
   "source": [
    "## 5. Making predictions"
   ]
  },
  {
   "cell_type": "code",
   "execution_count": 66,
   "metadata": {
    "ExecuteTime": {
     "end_time": "2023-08-26T10:30:59.724454900Z",
     "start_time": "2023-08-26T10:20:06.910136400Z"
    }
   },
   "outputs": [
    {
     "name": "stderr",
     "output_type": "stream",
     "text": [
      "Downloading...\n",
      "From (uriginal): https://drive.google.com/uc?id=1vWscXs4Vt0a_1IH1-ct2TCgXAZT-N3_Y\n",
      "From (redirected): https://drive.google.com/uc?id=1vWscXs4Vt0a_1IH1-ct2TCgXAZT-N3_Y&confirm=t&uuid=faed68ac-cc33-4787-aa9c-037d832cd8ae\n",
      "To: C:\\Users\\aitay\\Documents\\Github\\lipreadingModel\\checkpoints.zip\n",
      "100%|██████████| 94.5M/94.5M [10:50<00:00, 145kB/s] \n"
     ]
    },
    {
     "data": {
      "text/plain": "['models\\\\checkpoint.index',\n 'models\\\\__MACOSX/._checkpoint.index',\n 'models\\\\checkpoint.data-00000-of-00001',\n 'models\\\\__MACOSX/._checkpoint.data-00000-of-00001',\n 'models\\\\checkpoint',\n 'models\\\\__MACOSX/._checkpoint']"
     },
     "execution_count": 66,
     "metadata": {},
     "output_type": "execute_result"
    }
   ],
   "source": [
    "import gdown\n",
    "url = 'https://drive.google.com/uc?id=1vWscXs4Vt0a_1IH1-ct2TCgXAZT-N3_Y'\n",
    "output = 'checkpoints.zip'\n",
    "gdown.download(url, output, quiet=False)\n",
    "gdown.extractall('checkpoints.zip', 'models')"
   ]
  },
  {
   "cell_type": "code",
   "execution_count": 69,
   "metadata": {
    "ExecuteTime": {
     "end_time": "2023-08-26T11:19:49.150854Z",
     "start_time": "2023-08-26T11:19:49.054460700Z"
    }
   },
   "outputs": [
    {
     "ename": "ValueError",
     "evalue": "You are trying to restore a checkpoint from a legacy Keras optimizer into a v2.11+ Optimizer, which can cause errors. Please update the optimizer referenced in your code to be an instance of `tf.keras.optimizers.legacy.Optimizer`, e.g.: `tf.keras.optimizers.legacy.Adam`.",
     "output_type": "error",
     "traceback": [
      "\u001B[1;31m---------------------------------------------------------------------------\u001B[0m",
      "\u001B[1;31mValueError\u001B[0m                                Traceback (most recent call last)",
      "Cell \u001B[1;32mIn[69], line 1\u001B[0m\n\u001B[1;32m----> 1\u001B[0m model\u001B[38;5;241m.\u001B[39mload_weights(os\u001B[38;5;241m.\u001B[39mpath\u001B[38;5;241m.\u001B[39mjoin(\u001B[38;5;124m'\u001B[39m\u001B[38;5;124mmodels\u001B[39m\u001B[38;5;124m'\u001B[39m,\u001B[38;5;124m'\u001B[39m\u001B[38;5;124mcheckpoint\u001B[39m\u001B[38;5;124m'\u001B[39m))\n",
      "File \u001B[1;32mC:\\ProgramData\\anaconda3\\Lib\\site-packages\\keras\\src\\utils\\traceback_utils.py:70\u001B[0m, in \u001B[0;36mfilter_traceback.<locals>.error_handler\u001B[1;34m(*args, **kwargs)\u001B[0m\n\u001B[0;32m     67\u001B[0m     filtered_tb \u001B[38;5;241m=\u001B[39m _process_traceback_frames(e\u001B[38;5;241m.\u001B[39m__traceback__)\n\u001B[0;32m     68\u001B[0m     \u001B[38;5;66;03m# To get the full stack trace, call:\u001B[39;00m\n\u001B[0;32m     69\u001B[0m     \u001B[38;5;66;03m# `tf.debugging.disable_traceback_filtering()`\u001B[39;00m\n\u001B[1;32m---> 70\u001B[0m     \u001B[38;5;28;01mraise\u001B[39;00m e\u001B[38;5;241m.\u001B[39mwith_traceback(filtered_tb) \u001B[38;5;28;01mfrom\u001B[39;00m \u001B[38;5;28;01mNone\u001B[39;00m\n\u001B[0;32m     71\u001B[0m \u001B[38;5;28;01mfinally\u001B[39;00m:\n\u001B[0;32m     72\u001B[0m     \u001B[38;5;28;01mdel\u001B[39;00m filtered_tb\n",
      "File \u001B[1;32mC:\\ProgramData\\anaconda3\\Lib\\site-packages\\keras\\src\\optimizers\\optimizer.py:148\u001B[0m, in \u001B[0;36m_BaseOptimizer._create_or_restore_slot_variable\u001B[1;34m(self, **kwargs)\u001B[0m\n\u001B[0;32m    147\u001B[0m \u001B[38;5;28;01mdef\u001B[39;00m \u001B[38;5;21m_create_or_restore_slot_variable\u001B[39m(\u001B[38;5;28mself\u001B[39m, \u001B[38;5;241m*\u001B[39m\u001B[38;5;241m*\u001B[39mkwargs):\n\u001B[1;32m--> 148\u001B[0m     \u001B[38;5;28;01mraise\u001B[39;00m \u001B[38;5;167;01mValueError\u001B[39;00m(\n\u001B[0;32m    149\u001B[0m         \u001B[38;5;124m\"\u001B[39m\u001B[38;5;124mYou are trying to restore a checkpoint from a legacy Keras \u001B[39m\u001B[38;5;124m\"\u001B[39m\n\u001B[0;32m    150\u001B[0m         \u001B[38;5;124m\"\u001B[39m\u001B[38;5;124moptimizer into a v2.11+ Optimizer, which can cause \u001B[39m\u001B[38;5;124m\"\u001B[39m\n\u001B[0;32m    151\u001B[0m         \u001B[38;5;124m\"\u001B[39m\u001B[38;5;124merrors. Please update the optimizer referenced in your code \u001B[39m\u001B[38;5;124m\"\u001B[39m\n\u001B[0;32m    152\u001B[0m         \u001B[38;5;124m\"\u001B[39m\u001B[38;5;124mto be an instance of \u001B[39m\u001B[38;5;124m\"\u001B[39m\n\u001B[0;32m    153\u001B[0m         \u001B[38;5;124m\"\u001B[39m\u001B[38;5;124m`tf.keras.optimizers.legacy.Optimizer`, e.g.: \u001B[39m\u001B[38;5;124m\"\u001B[39m\n\u001B[0;32m    154\u001B[0m         \u001B[38;5;124mf\u001B[39m\u001B[38;5;124m\"\u001B[39m\u001B[38;5;124m`tf.keras.optimizers.legacy.\u001B[39m\u001B[38;5;132;01m{\u001B[39;00m\u001B[38;5;28mself\u001B[39m\u001B[38;5;241m.\u001B[39m\u001B[38;5;18m__class__\u001B[39m\u001B[38;5;241m.\u001B[39m\u001B[38;5;18m__name__\u001B[39m\u001B[38;5;132;01m}\u001B[39;00m\u001B[38;5;124m`.\u001B[39m\u001B[38;5;124m\"\u001B[39m\n\u001B[0;32m    155\u001B[0m     )\n",
      "\u001B[1;31mValueError\u001B[0m: You are trying to restore a checkpoint from a legacy Keras optimizer into a v2.11+ Optimizer, which can cause errors. Please update the optimizer referenced in your code to be an instance of `tf.keras.optimizers.legacy.Optimizer`, e.g.: `tf.keras.optimizers.legacy.Adam`."
     ]
    }
   ],
   "source": [
    "model.load_weights(os.path.join('models','checkpoint'))"
   ]
  },
  {
   "cell_type": "code",
   "execution_count": 70,
   "metadata": {
    "ExecuteTime": {
     "end_time": "2023-08-26T11:20:02.021703100Z",
     "start_time": "2023-08-26T11:20:01.957925900Z"
    }
   },
   "outputs": [],
   "source": [
    "# Load the dataset\n",
    "test = test_dataset.as_numpy_iterator()"
   ]
  },
  {
   "cell_type": "code",
   "execution_count": 71,
   "metadata": {
    "ExecuteTime": {
     "end_time": "2023-08-26T11:21:01.062104800Z",
     "start_time": "2023-08-26T11:20:02.702695200Z"
    }
   },
   "outputs": [],
   "source": [
    "sample = test.next()"
   ]
  },
  {
   "cell_type": "code",
   "execution_count": 73,
   "metadata": {
    "ExecuteTime": {
     "end_time": "2023-08-26T11:21:30.499977400Z",
     "start_time": "2023-08-26T11:21:21.009133200Z"
    }
   },
   "outputs": [
    {
     "name": "stdout",
     "output_type": "stream",
     "text": [
      "1/1 [==============================] - 9s 9s/step\n"
     ]
    }
   ],
   "source": [
    "yhat = model.predict(sample[0])"
   ]
  },
  {
   "cell_type": "code",
   "execution_count": 74,
   "metadata": {
    "ExecuteTime": {
     "end_time": "2023-08-26T11:21:37.170331700Z",
     "start_time": "2023-08-26T11:21:37.118336100Z"
    }
   },
   "outputs": [
    {
     "name": "stdout",
     "output_type": "stream",
     "text": [
      "~~~~~~~~~~ REAL TEXT ~~~~~~~~~~\n",
      "place green with l three again\n"
     ]
    }
   ],
   "source": [
    "print('~'*10, 'REAL TEXT', '~'*10)\n",
    "print(alignments_to_text(sample[1][0]))"
   ]
  },
  {
   "cell_type": "code",
   "execution_count": 75,
   "metadata": {
    "ExecuteTime": {
     "end_time": "2023-08-26T11:21:39.822636600Z",
     "start_time": "2023-08-26T11:21:39.810051800Z"
    }
   },
   "outputs": [],
   "source": [
    "decoded = tf.keras.backend.ctc_decode(yhat, input_length=[75,75], greedy=True)[0][0].numpy()"
   ]
  },
  {
   "cell_type": "code",
   "execution_count": 76,
   "metadata": {
    "ExecuteTime": {
     "end_time": "2023-08-26T11:21:40.984997800Z",
     "start_time": "2023-08-26T11:21:40.960513800Z"
    }
   },
   "outputs": [
    {
     "name": "stdout",
     "output_type": "stream",
     "text": [
      "~~~~~~~~~~ PREDICTED TEXT ~~~~~~~~~~\n",
      "bla gree it ie oon\n"
     ]
    }
   ],
   "source": [
    "print('~'*10, 'PREDICTED TEXT', '~'*10)\n",
    "print(alignments_to_text(decoded[0]))"
   ]
  },
  {
   "cell_type": "markdown",
   "metadata": {},
   "source": [
    "## 6. Testing on a video"
   ]
  },
  {
   "cell_type": "code",
   "execution_count": 77,
   "metadata": {
    "ExecuteTime": {
     "end_time": "2023-08-26T11:21:45.661855300Z",
     "start_time": "2023-08-26T11:21:44.830864100Z"
    }
   },
   "outputs": [],
   "source": [
    "sample = load_data(tf.convert_to_tensor('.\\\\data\\\\sequences\\\\bras9a.mpg'))"
   ]
  },
  {
   "cell_type": "code",
   "execution_count": 89,
   "metadata": {
    "ExecuteTime": {
     "end_time": "2023-08-26T12:07:38.071986700Z",
     "start_time": "2023-08-26T12:07:38.049394900Z"
    }
   },
   "outputs": [
    {
     "name": "stdout",
     "output_type": "stream",
     "text": [
      "~~~~~~~~~~ REAL TEXT ~~~~~~~~~~\n",
      "bin red at s nine again\n"
     ]
    }
   ],
   "source": [
    "print('~'*10, 'REAL TEXT', '~'*10)\n",
    "print(alignments_to_text(sample[1]))"
   ]
  },
  {
   "cell_type": "code",
   "execution_count": 90,
   "metadata": {
    "ExecuteTime": {
     "end_time": "2023-08-26T12:07:42.392821700Z",
     "start_time": "2023-08-26T12:07:39.888613100Z"
    }
   },
   "outputs": [
    {
     "name": "stdout",
     "output_type": "stream",
     "text": [
      "1/1 [==============================] - 2s 2s/step\n"
     ]
    }
   ],
   "source": [
    "yhat = model.predict(tf.expand_dims(sample[0], axis=0))"
   ]
  },
  {
   "cell_type": "code",
   "execution_count": 91,
   "metadata": {
    "ExecuteTime": {
     "end_time": "2023-08-26T12:07:43.854162700Z",
     "start_time": "2023-08-26T12:07:43.841278600Z"
    }
   },
   "outputs": [],
   "source": [
    "decoded = tf.keras.backend.ctc_decode(yhat, input_length=[75], greedy=True)[0][0].numpy()"
   ]
  },
  {
   "cell_type": "code",
   "execution_count": 92,
   "metadata": {
    "ExecuteTime": {
     "end_time": "2023-08-26T12:07:44.219133400Z",
     "start_time": "2023-08-26T12:07:44.190435800Z"
    }
   },
   "outputs": [
    {
     "name": "stdout",
     "output_type": "stream",
     "text": [
      "~~~~~~~~~~ PREDICTED TEXT ~~~~~~~~~~\n",
      "bla gree it ie oon\n"
     ]
    }
   ],
   "source": [
    "print('~'*10, 'PREDICTED TEXT', '~'*10)\n",
    "print(alignments_to_text(decoded[0]))"
   ]
  },
  {
   "cell_type": "code",
   "execution_count": null,
   "outputs": [],
   "source": [],
   "metadata": {
    "collapsed": false
   }
  }
 ],
 "metadata": {
  "kernelspec": {
   "display_name": "Python 3 (ipykernel)",
   "language": "python",
   "name": "python3"
  },
  "language_info": {
   "codemirror_mode": {
    "name": "ipython",
    "version": 3
   },
   "file_extension": ".py",
   "mimetype": "text/x-python",
   "name": "python",
   "nbconvert_exporter": "python",
   "pygments_lexer": "ipython3",
   "version": "3.10.12"
  }
 },
 "nbformat": 4,
 "nbformat_minor": 1
}
